{
  "nbformat": 4,
  "nbformat_minor": 0,
  "metadata": {
    "colab": {
      "provenance": [],
      "toc_visible": true
    },
    "kernelspec": {
      "name": "python3",
      "display_name": "Python 3"
    },
    "language_info": {
      "name": "python"
    },
    "accelerator": "GPU",
    "gpuClass": "standard"
  },
  "cells": [
    {
      "cell_type": "code",
      "source": [
        "!pip install transformers"
      ],
      "metadata": {
        "colab": {
          "base_uri": "https://localhost:8080/"
        },
        "id": "4tsaLZILfKvR",
        "outputId": "2ad786d5-ccdb-47a3-a231-4828a69dac79"
      },
      "execution_count": null,
      "outputs": [
        {
          "output_type": "stream",
          "name": "stdout",
          "text": [
            "Looking in indexes: https://pypi.org/simple, https://us-python.pkg.dev/colab-wheels/public/simple/\n",
            "Requirement already satisfied: transformers in /usr/local/lib/python3.9/dist-packages (4.28.1)\n",
            "Requirement already satisfied: packaging>=20.0 in /usr/local/lib/python3.9/dist-packages (from transformers) (23.0)\n",
            "Requirement already satisfied: filelock in /usr/local/lib/python3.9/dist-packages (from transformers) (3.11.0)\n",
            "Requirement already satisfied: tqdm>=4.27 in /usr/local/lib/python3.9/dist-packages (from transformers) (4.65.0)\n",
            "Requirement already satisfied: requests in /usr/local/lib/python3.9/dist-packages (from transformers) (2.27.1)\n",
            "Requirement already satisfied: pyyaml>=5.1 in /usr/local/lib/python3.9/dist-packages (from transformers) (6.0)\n",
            "Requirement already satisfied: numpy>=1.17 in /usr/local/lib/python3.9/dist-packages (from transformers) (1.22.4)\n",
            "Requirement already satisfied: regex!=2019.12.17 in /usr/local/lib/python3.9/dist-packages (from transformers) (2022.10.31)\n",
            "Requirement already satisfied: tokenizers!=0.11.3,<0.14,>=0.11.1 in /usr/local/lib/python3.9/dist-packages (from transformers) (0.13.3)\n",
            "Requirement already satisfied: huggingface-hub<1.0,>=0.11.0 in /usr/local/lib/python3.9/dist-packages (from transformers) (0.13.4)\n",
            "Requirement already satisfied: typing-extensions>=3.7.4.3 in /usr/local/lib/python3.9/dist-packages (from huggingface-hub<1.0,>=0.11.0->transformers) (4.5.0)\n",
            "Requirement already satisfied: charset-normalizer~=2.0.0 in /usr/local/lib/python3.9/dist-packages (from requests->transformers) (2.0.12)\n",
            "Requirement already satisfied: certifi>=2017.4.17 in /usr/local/lib/python3.9/dist-packages (from requests->transformers) (2022.12.7)\n",
            "Requirement already satisfied: idna<4,>=2.5 in /usr/local/lib/python3.9/dist-packages (from requests->transformers) (3.4)\n",
            "Requirement already satisfied: urllib3<1.27,>=1.21.1 in /usr/local/lib/python3.9/dist-packages (from requests->transformers) (1.26.15)\n"
          ]
        }
      ]
    },
    {
      "cell_type": "code",
      "source": [
        "import pandas as pd\n",
        "import re\n",
        "import torch\n",
        "from transformers import AutoModel, AutoTokenizer\n",
        "import math\n",
        "from scipy.spatial.distance import cosine\n",
        "from google.colab import drive\n",
        "drive.mount('/content/gdrive')\n",
        "\n",
        "# Run locally\n",
        "#DATA_PATH = ''\n",
        "\n",
        "# KW\n",
        "DATA_PATH = '/content/gdrive/MyDrive/CSI6900/'\n",
        "\n",
        "# FZ\n",
        "#DATA_PATH = 'gdrive/MyDrive/CSI6900/'\n",
        "\n",
        "device = torch.device(\"mps\" if getattr(torch,'has_mps',False) else \"cuda:0\" if torch.cuda.is_available() else \"cpu\")\n",
        "device"
      ],
      "metadata": {
        "colab": {
          "base_uri": "https://localhost:8080/"
        },
        "id": "3uJj9q0WffCA",
        "outputId": "7f91d78a-de39-45d9-c860-f0261a6d8463"
      },
      "execution_count": null,
      "outputs": [
        {
          "output_type": "stream",
          "name": "stdout",
          "text": [
            "Drive already mounted at /content/gdrive; to attempt to forcibly remount, call drive.mount(\"/content/gdrive\", force_remount=True).\n"
          ]
        },
        {
          "output_type": "execute_result",
          "data": {
            "text/plain": [
              "device(type='cuda', index=0)"
            ]
          },
          "metadata": {},
          "execution_count": 2
        }
      ]
    },
    {
      "cell_type": "markdown",
      "source": [
        "## Import data"
      ],
      "metadata": {
        "id": "4M2V8wRKgceQ"
      }
    },
    {
      "cell_type": "code",
      "source": [
        "records = pd.read_json(DATA_PATH + 'data/records.json')\n",
        "records = records.drop(['created_at', 'updated_at', 'deleted_at', 'publish', 'academic_credentials', 'age_max', 'age_min', 'last_name',\n",
        "                        'latitude', 'longitude', 'name_of_private_practice', 'fee_description',\t'fee_type',\t'first_name',\t'languages',\n",
        "                        'organization_type', 'original_id',\t'record_type',\t'salutation_type', 'website'], axis=1)\n",
        "\n",
        "taxonomy = pd.read_json(DATA_PATH + 'data/taxonomy_headings.json')\n",
        "taxonomy = taxonomy.drop(['created_at',\t'updated_at',\t'deleted_at', 'alias_of_id', 'short_description',\t'original_id'], axis=1)\n",
        "\n",
        "taxonomy.head(10)"
      ],
      "metadata": {
        "colab": {
          "base_uri": "https://localhost:8080/",
          "height": 494
        },
        "id": "ervlzBTIgemy",
        "outputId": "6a125fbc-faac-4c78-fa95-36a342ddc8a2"
      },
      "execution_count": null,
      "outputs": [
        {
          "output_type": "execute_result",
          "data": {
            "text/plain": [
              "   id                                               name  \\\n",
              "0   1                                               Root   \n",
              "1   2                        All Mental Health Resources   \n",
              "2   3                               Crisis and Emergency   \n",
              "3   4  System Navigation, including Information and R...   \n",
              "4   5  Child Welfare including Children's Aid Society...   \n",
              "5   6                      Emergency Shelter and Housing   \n",
              "6   7                      Hospital Emergency Department   \n",
              "7   8  Crisis Lines including Telephone, Online and Chat   \n",
              "8   9                                      Psychiatrists   \n",
              "9  10            A-Z Mental Health Conditions and Topics   \n",
              "\n",
              "                                         description  \\\n",
              "0                                               Root   \n",
              "1  <p>\\r\\n\\tThe listings of mental health resourc...   \n",
              "2  <p>\\r\\n\\tRefers to all programs that provide i...   \n",
              "3  <p>\\r\\n\\tAre you looking for help, but don&#39...   \n",
              "4  <p>The child welfare / child protection system...   \n",
              "5  <p>\\r\\n\\tThere are various shelters that peopl...   \n",
              "6  <p>\\r\\n\\tIs there an emergency such as medical...   \n",
              "7  <p>\\r\\n\\tAre you in a crisis? Crisis lines off...   \n",
              "8  <p>\\r\\n\\tPsychiatrists are medical doctors who...   \n",
              "9  <p>\\r\\n\\tAlphabetical list of mental health to...   \n",
              "\n",
              "                                        translations  \n",
              "0  {\"name\":{\"en\":\"Root\",\"fr\":null},\"description\":...  \n",
              "1  {\"name\":{\"en\":\"All Mental Health Resources\",\"f...  \n",
              "2  {\"name\":{\"en\":\"Crisis and Emergency\",\"fr\":\"Res...  \n",
              "3  {\"name\":{\"en\":\"System Navigation, including In...  \n",
              "4  {\"name\":{\"en\":\"Child Welfare including Childre...  \n",
              "5  {\"name\":{\"en\":\"Emergency Shelter and Housing\",...  \n",
              "6  {\"name\":{\"en\":\"Hospital Emergency Department\",...  \n",
              "7  {\"name\":{\"en\":\"Crisis Lines including Telephon...  \n",
              "8  {\"name\":{\"en\":\"Psychiatrists\",\"fr\":\"Psychiatre...  \n",
              "9  {\"name\":{\"en\":\"A-Z Mental Health Conditions an...  "
            ],
            "text/html": [
              "\n",
              "  <div id=\"df-31780a22-3b96-45a5-84c4-e23aa0aec2e0\">\n",
              "    <div class=\"colab-df-container\">\n",
              "      <div>\n",
              "<style scoped>\n",
              "    .dataframe tbody tr th:only-of-type {\n",
              "        vertical-align: middle;\n",
              "    }\n",
              "\n",
              "    .dataframe tbody tr th {\n",
              "        vertical-align: top;\n",
              "    }\n",
              "\n",
              "    .dataframe thead th {\n",
              "        text-align: right;\n",
              "    }\n",
              "</style>\n",
              "<table border=\"1\" class=\"dataframe\">\n",
              "  <thead>\n",
              "    <tr style=\"text-align: right;\">\n",
              "      <th></th>\n",
              "      <th>id</th>\n",
              "      <th>name</th>\n",
              "      <th>description</th>\n",
              "      <th>translations</th>\n",
              "    </tr>\n",
              "  </thead>\n",
              "  <tbody>\n",
              "    <tr>\n",
              "      <th>0</th>\n",
              "      <td>1</td>\n",
              "      <td>Root</td>\n",
              "      <td>Root</td>\n",
              "      <td>{\"name\":{\"en\":\"Root\",\"fr\":null},\"description\":...</td>\n",
              "    </tr>\n",
              "    <tr>\n",
              "      <th>1</th>\n",
              "      <td>2</td>\n",
              "      <td>All Mental Health Resources</td>\n",
              "      <td>&lt;p&gt;\\r\\n\\tThe listings of mental health resourc...</td>\n",
              "      <td>{\"name\":{\"en\":\"All Mental Health Resources\",\"f...</td>\n",
              "    </tr>\n",
              "    <tr>\n",
              "      <th>2</th>\n",
              "      <td>3</td>\n",
              "      <td>Crisis and Emergency</td>\n",
              "      <td>&lt;p&gt;\\r\\n\\tRefers to all programs that provide i...</td>\n",
              "      <td>{\"name\":{\"en\":\"Crisis and Emergency\",\"fr\":\"Res...</td>\n",
              "    </tr>\n",
              "    <tr>\n",
              "      <th>3</th>\n",
              "      <td>4</td>\n",
              "      <td>System Navigation, including Information and R...</td>\n",
              "      <td>&lt;p&gt;\\r\\n\\tAre you looking for help, but don&amp;#39...</td>\n",
              "      <td>{\"name\":{\"en\":\"System Navigation, including In...</td>\n",
              "    </tr>\n",
              "    <tr>\n",
              "      <th>4</th>\n",
              "      <td>5</td>\n",
              "      <td>Child Welfare including Children's Aid Society...</td>\n",
              "      <td>&lt;p&gt;The child welfare / child protection system...</td>\n",
              "      <td>{\"name\":{\"en\":\"Child Welfare including Childre...</td>\n",
              "    </tr>\n",
              "    <tr>\n",
              "      <th>5</th>\n",
              "      <td>6</td>\n",
              "      <td>Emergency Shelter and Housing</td>\n",
              "      <td>&lt;p&gt;\\r\\n\\tThere are various shelters that peopl...</td>\n",
              "      <td>{\"name\":{\"en\":\"Emergency Shelter and Housing\",...</td>\n",
              "    </tr>\n",
              "    <tr>\n",
              "      <th>6</th>\n",
              "      <td>7</td>\n",
              "      <td>Hospital Emergency Department</td>\n",
              "      <td>&lt;p&gt;\\r\\n\\tIs there an emergency such as medical...</td>\n",
              "      <td>{\"name\":{\"en\":\"Hospital Emergency Department\",...</td>\n",
              "    </tr>\n",
              "    <tr>\n",
              "      <th>7</th>\n",
              "      <td>8</td>\n",
              "      <td>Crisis Lines including Telephone, Online and Chat</td>\n",
              "      <td>&lt;p&gt;\\r\\n\\tAre you in a crisis? Crisis lines off...</td>\n",
              "      <td>{\"name\":{\"en\":\"Crisis Lines including Telephon...</td>\n",
              "    </tr>\n",
              "    <tr>\n",
              "      <th>8</th>\n",
              "      <td>9</td>\n",
              "      <td>Psychiatrists</td>\n",
              "      <td>&lt;p&gt;\\r\\n\\tPsychiatrists are medical doctors who...</td>\n",
              "      <td>{\"name\":{\"en\":\"Psychiatrists\",\"fr\":\"Psychiatre...</td>\n",
              "    </tr>\n",
              "    <tr>\n",
              "      <th>9</th>\n",
              "      <td>10</td>\n",
              "      <td>A-Z Mental Health Conditions and Topics</td>\n",
              "      <td>&lt;p&gt;\\r\\n\\tAlphabetical list of mental health to...</td>\n",
              "      <td>{\"name\":{\"en\":\"A-Z Mental Health Conditions an...</td>\n",
              "    </tr>\n",
              "  </tbody>\n",
              "</table>\n",
              "</div>\n",
              "      <button class=\"colab-df-convert\" onclick=\"convertToInteractive('df-31780a22-3b96-45a5-84c4-e23aa0aec2e0')\"\n",
              "              title=\"Convert this dataframe to an interactive table.\"\n",
              "              style=\"display:none;\">\n",
              "        \n",
              "  <svg xmlns=\"http://www.w3.org/2000/svg\" height=\"24px\"viewBox=\"0 0 24 24\"\n",
              "       width=\"24px\">\n",
              "    <path d=\"M0 0h24v24H0V0z\" fill=\"none\"/>\n",
              "    <path d=\"M18.56 5.44l.94 2.06.94-2.06 2.06-.94-2.06-.94-.94-2.06-.94 2.06-2.06.94zm-11 1L8.5 8.5l.94-2.06 2.06-.94-2.06-.94L8.5 2.5l-.94 2.06-2.06.94zm10 10l.94 2.06.94-2.06 2.06-.94-2.06-.94-.94-2.06-.94 2.06-2.06.94z\"/><path d=\"M17.41 7.96l-1.37-1.37c-.4-.4-.92-.59-1.43-.59-.52 0-1.04.2-1.43.59L10.3 9.45l-7.72 7.72c-.78.78-.78 2.05 0 2.83L4 21.41c.39.39.9.59 1.41.59.51 0 1.02-.2 1.41-.59l7.78-7.78 2.81-2.81c.8-.78.8-2.07 0-2.86zM5.41 20L4 18.59l7.72-7.72 1.47 1.35L5.41 20z\"/>\n",
              "  </svg>\n",
              "      </button>\n",
              "      \n",
              "  <style>\n",
              "    .colab-df-container {\n",
              "      display:flex;\n",
              "      flex-wrap:wrap;\n",
              "      gap: 12px;\n",
              "    }\n",
              "\n",
              "    .colab-df-convert {\n",
              "      background-color: #E8F0FE;\n",
              "      border: none;\n",
              "      border-radius: 50%;\n",
              "      cursor: pointer;\n",
              "      display: none;\n",
              "      fill: #1967D2;\n",
              "      height: 32px;\n",
              "      padding: 0 0 0 0;\n",
              "      width: 32px;\n",
              "    }\n",
              "\n",
              "    .colab-df-convert:hover {\n",
              "      background-color: #E2EBFA;\n",
              "      box-shadow: 0px 1px 2px rgba(60, 64, 67, 0.3), 0px 1px 3px 1px rgba(60, 64, 67, 0.15);\n",
              "      fill: #174EA6;\n",
              "    }\n",
              "\n",
              "    [theme=dark] .colab-df-convert {\n",
              "      background-color: #3B4455;\n",
              "      fill: #D2E3FC;\n",
              "    }\n",
              "\n",
              "    [theme=dark] .colab-df-convert:hover {\n",
              "      background-color: #434B5C;\n",
              "      box-shadow: 0px 1px 3px 1px rgba(0, 0, 0, 0.15);\n",
              "      filter: drop-shadow(0px 1px 2px rgba(0, 0, 0, 0.3));\n",
              "      fill: #FFFFFF;\n",
              "    }\n",
              "  </style>\n",
              "\n",
              "      <script>\n",
              "        const buttonEl =\n",
              "          document.querySelector('#df-31780a22-3b96-45a5-84c4-e23aa0aec2e0 button.colab-df-convert');\n",
              "        buttonEl.style.display =\n",
              "          google.colab.kernel.accessAllowed ? 'block' : 'none';\n",
              "\n",
              "        async function convertToInteractive(key) {\n",
              "          const element = document.querySelector('#df-31780a22-3b96-45a5-84c4-e23aa0aec2e0');\n",
              "          const dataTable =\n",
              "            await google.colab.kernel.invokeFunction('convertToInteractive',\n",
              "                                                     [key], {});\n",
              "          if (!dataTable) return;\n",
              "\n",
              "          const docLinkHtml = 'Like what you see? Visit the ' +\n",
              "            '<a target=\"_blank\" href=https://colab.research.google.com/notebooks/data_table.ipynb>data table notebook</a>'\n",
              "            + ' to learn more about interactive tables.';\n",
              "          element.innerHTML = '';\n",
              "          dataTable['output_type'] = 'display_data';\n",
              "          await google.colab.output.renderOutput(dataTable, element);\n",
              "          const docLink = document.createElement('div');\n",
              "          docLink.innerHTML = docLinkHtml;\n",
              "          element.appendChild(docLink);\n",
              "        }\n",
              "      </script>\n",
              "    </div>\n",
              "  </div>\n",
              "  "
            ]
          },
          "metadata": {},
          "execution_count": 3
        }
      ]
    },
    {
      "cell_type": "markdown",
      "source": [
        "## Pre-processing"
      ],
      "metadata": {
        "id": "vDQY1rJ4g4Be"
      }
    },
    {
      "cell_type": "code",
      "source": [
        "# Remove empty description\n",
        "print('Length of records:', len(records))\n",
        "print('Length of taxonomy', len(taxonomy))\n",
        "indices = []\n",
        "for index, row in records.iterrows():\n",
        "    if row['description'] == '':\n",
        "        indices.append(index)\n",
        "\n",
        "records = records.drop(records.index[indices])\n",
        "records.reset_index(drop=True, inplace=True)\n",
        "\n",
        "indices = []\n",
        "for index, row in taxonomy.iterrows():\n",
        "    if row['description'] == '':\n",
        "        indices.append(index)\n",
        "\n",
        "taxonomy = taxonomy.drop(taxonomy.index[indices])\n",
        "taxonomy.reset_index(drop=True, inplace=True)\n",
        "\n",
        "print('Length of records:', len(records))\n",
        "print('Length of taxonomy', len(taxonomy))"
      ],
      "metadata": {
        "colab": {
          "base_uri": "https://localhost:8080/"
        },
        "id": "8UwTPf06g6Dd",
        "outputId": "74f29914-0895-4cfb-d4fc-1e5779209a8a"
      },
      "execution_count": null,
      "outputs": [
        {
          "output_type": "stream",
          "name": "stdout",
          "text": [
            "Length of records: 6406\n",
            "Length of taxonomy 277\n",
            "Length of records: 6239\n",
            "Length of taxonomy 193\n"
          ]
        }
      ]
    },
    {
      "cell_type": "code",
      "source": [
        "def cleanhtml(raw_html):\n",
        "    CLEANR = re.compile('<.*?>|&([a-z0-9]+|#[0-9]{1,6}|#x[0-9a-f]{1,6});')\n",
        "    cleantext = re.sub(CLEANR, '', raw_html)\n",
        "    return cleantext\n",
        "\n",
        "records['description'] = records['description'].apply(lambda x: cleanhtml(x))\n",
        "taxonomy['description'] = taxonomy['description'].apply(lambda x: cleanhtml(x))"
      ],
      "metadata": {
        "id": "vAEglL1-g7xd"
      },
      "execution_count": null,
      "outputs": []
    },
    {
      "cell_type": "markdown",
      "source": [
        "## Get embedding\n",
        "\n",
        "* `Muennighoff/SGPT-125M-weightedmean-nli-bitfit`\n",
        "  - 4 minutes\n",
        "  - batch_size = 64\n",
        "\n",
        "* `Muennighoff/SGPT-1.3B-weightedmean-nli-bitfit`\n",
        "  - 45 minutes\n",
        "  - batch_size = 16\n",
        "\n",
        "* `Muennighoff/SGPT-5.8B-weightedmean-nli-bitfit`\n",
        "  - Not enough RAM"
      ],
      "metadata": {
        "id": "DViseC0Fg98s"
      }
    },
    {
      "cell_type": "code",
      "source": [
        "# Get SGPT\n",
        "# For best performance: Muennighoff/SGPT-5.8B-weightedmean-nli-bitfit\n",
        "tokenizer = AutoTokenizer.from_pretrained(\"Muennighoff/SGPT-1.3B-weightedmean-nli-bitfit\")\n",
        "model = AutoModel.from_pretrained(\"Muennighoff/SGPT-1.3B-weightedmean-nli-bitfit\").to(device)\n",
        "\n",
        "model.eval()"
      ],
      "metadata": {
        "colab": {
          "base_uri": "https://localhost:8080/"
        },
        "id": "uRhOcs8rf-f6",
        "outputId": "3bb13aab-ad47-4405-e865-d516ed974237"
      },
      "execution_count": null,
      "outputs": [
        {
          "output_type": "execute_result",
          "data": {
            "text/plain": [
              "GPTNeoModel(\n",
              "  (wte): Embedding(50257, 2048)\n",
              "  (wpe): Embedding(2048, 2048)\n",
              "  (drop): Dropout(p=0.0, inplace=False)\n",
              "  (h): ModuleList(\n",
              "    (0-23): 24 x GPTNeoBlock(\n",
              "      (ln_1): LayerNorm((2048,), eps=1e-05, elementwise_affine=True)\n",
              "      (attn): GPTNeoAttention(\n",
              "        (attention): GPTNeoSelfAttention(\n",
              "          (attn_dropout): Dropout(p=0.0, inplace=False)\n",
              "          (resid_dropout): Dropout(p=0.0, inplace=False)\n",
              "          (k_proj): Linear(in_features=2048, out_features=2048, bias=False)\n",
              "          (v_proj): Linear(in_features=2048, out_features=2048, bias=False)\n",
              "          (q_proj): Linear(in_features=2048, out_features=2048, bias=False)\n",
              "          (out_proj): Linear(in_features=2048, out_features=2048, bias=True)\n",
              "        )\n",
              "      )\n",
              "      (ln_2): LayerNorm((2048,), eps=1e-05, elementwise_affine=True)\n",
              "      (mlp): GPTNeoMLP(\n",
              "        (c_fc): Linear(in_features=2048, out_features=8192, bias=True)\n",
              "        (c_proj): Linear(in_features=8192, out_features=2048, bias=True)\n",
              "        (act): NewGELUActivation()\n",
              "        (dropout): Dropout(p=0.0, inplace=False)\n",
              "      )\n",
              "    )\n",
              "  )\n",
              "  (ln_f): LayerNorm((2048,), eps=1e-05, elementwise_affine=True)\n",
              ")"
            ]
          },
          "metadata": {},
          "execution_count": 6
        }
      ]
    },
    {
      "cell_type": "code",
      "source": [
        "records_description = records['description'].tolist()\n",
        "taxonomy_description = taxonomy['description'].tolist()"
      ],
      "metadata": {
        "id": "ef5yapGqoxMk"
      },
      "execution_count": null,
      "outputs": []
    },
    {
      "cell_type": "code",
      "source": [
        "def getEmbeddings(tokens):\n",
        "    # Get the embeddings\n",
        "    with torch.no_grad():\n",
        "        # Get hidden state of shape [bs, seq_len, hid_dim]\n",
        "        last_hidden_state = model(**tokens, output_hidden_states=True, return_dict=True).last_hidden_state\n",
        "\n",
        "    # Get weights of shape [bs, seq_len, hid_dim]\n",
        "    weights = (\n",
        "        torch.arange(start=1, end=last_hidden_state.shape[1] + 1)\n",
        "        .unsqueeze(0)\n",
        "        .unsqueeze(-1)\n",
        "        .expand(last_hidden_state.size())\n",
        "        .float().to(last_hidden_state.device)\n",
        "    )\n",
        "\n",
        "    # Get attn mask of shape [bs, seq_len, hid_dim]\n",
        "    input_mask_expanded = (\n",
        "        tokens[\"attention_mask\"]\n",
        "        .unsqueeze(-1)\n",
        "        .expand(last_hidden_state.size())\n",
        "        .float()\n",
        "    )\n",
        "\n",
        "    # Perform weighted mean pooling across seq_len: bs, seq_len, hidden_dim -> bs, hidden_dim\n",
        "    sum_embeddings = torch.sum(last_hidden_state * input_mask_expanded * weights, dim=1)\n",
        "    sum_mask = torch.sum(input_mask_expanded * weights, dim=1)\n",
        "\n",
        "    embeddings = sum_embeddings / sum_mask\n",
        "\n",
        "    return embeddings.cpu().tolist()"
      ],
      "metadata": {
        "id": "YRkXuk_EllQ4"
      },
      "execution_count": null,
      "outputs": []
    },
    {
      "cell_type": "code",
      "execution_count": null,
      "metadata": {
        "id": "rLbsbrbVe9Wa"
      },
      "outputs": [],
      "source": [
        "batch_size = 16\n",
        "\n",
        "# Records\n",
        "embeddings = []\n",
        "begining = 0\n",
        "for batch_index in range(math.ceil(len(records_description)/batch_size)):\n",
        "    batch_tokens = tokenizer(records_description[begining:((batch_index+1) * batch_size)], padding='max_length', max_length=600, truncation=True, return_tensors=\"pt\").to(device)\n",
        "\n",
        "    embeddings += getEmbeddings(batch_tokens)\n",
        "\n",
        "    begining = (batch_index+1) * batch_size\n",
        "records['embeddings'] = embeddings\n",
        "\n",
        "# Taxonomy\n",
        "embeddings = []\n",
        "begining = 0\n",
        "for batch_index in range(math.ceil(len(taxonomy_description)/batch_size)):\n",
        "    batch_tokens = tokenizer(taxonomy_description[begining:((batch_index+1) * batch_size)], padding='max_length', max_length=600, truncation=True, return_tensors=\"pt\").to(device)\n",
        "\n",
        "    embeddings += getEmbeddings(batch_tokens)\n",
        "\n",
        "    begining = (batch_index+1) * batch_size\n",
        "taxonomy['embeddings'] = embeddings"
      ]
    },
    {
      "cell_type": "markdown",
      "source": [
        "## Cosine Sim"
      ],
      "metadata": {
        "id": "kiNskv7IltuS"
      }
    },
    {
      "cell_type": "code",
      "source": [
        "def get_highest_numbers_with_indices(numbers, n=10):\n",
        "    \"\"\"\n",
        "    Returns the n highest numbers in a list along with their indices.\n",
        "    :param numbers: List of numbers\n",
        "    :param n: Number of highest numbers to retrieve (default: 10)\n",
        "    :return: List of tuples containing the highest numbers and their indices\n",
        "    \"\"\"\n",
        "    highest_numbers_with_indices = []\n",
        "    for i, num in enumerate(numbers):\n",
        "        if len(highest_numbers_with_indices) < n:\n",
        "            highest_numbers_with_indices.append((num, i))\n",
        "            highest_numbers_with_indices.sort(reverse=True)\n",
        "        else:\n",
        "            if num > highest_numbers_with_indices[-1][0]:\n",
        "                highest_numbers_with_indices.pop()\n",
        "                highest_numbers_with_indices.append((num, i))\n",
        "                highest_numbers_with_indices.sort(reverse=True)\n",
        "    return highest_numbers_with_indices"
      ],
      "metadata": {
        "id": "7pVdx1whs5Bk"
      },
      "execution_count": null,
      "outputs": []
    },
    {
      "cell_type": "markdown",
      "source": [
        "### Records"
      ],
      "metadata": {
        "id": "CjlNnwdGs0ni"
      }
    },
    {
      "cell_type": "code",
      "source": [
        "input_text = ['How to treat depression?']\n",
        "batch_tokens = tokenizer(input_text, padding='max_length', max_length=600, truncation=True, return_tensors=\"pt\").to(device)\n",
        "embedding = getEmbeddings(batch_tokens)[0]\n",
        "\n",
        "cos_sim = []\n",
        "for index, row in records.iterrows():\n",
        "    cos_sim.append(1 - cosine(embedding, row['embeddings']))\n",
        "\n",
        "lst = get_highest_numbers_with_indices(cos_sim)\n",
        "\n",
        "for each in lst:\n",
        "    print('Record id: %d,\\nDescription: %s,\\nSimilarity score: %5f\\n' % (each[1], records['description'][each[1]], each[0]))"
      ],
      "metadata": {
        "colab": {
          "base_uri": "https://localhost:8080/"
        },
        "id": "vA08S2DJs1_n",
        "outputId": "7ed625f4-9b9e-4295-f498-903ef5cb7b63"
      },
      "execution_count": null,
      "outputs": [
        {
          "output_type": "stream",
          "name": "stdout",
          "text": [
            "Record id: 4382,\n",
            "Description: Counselling services for depression, anxiety, and stress management,\n",
            "Similarity score: 0.770836\n",
            "\n",
            "Record id: 2350,\n",
            "Description: Provides cognitive-behavior therapy for adults seeking help with depression, anxiety, and stress.,\n",
            "Similarity score: 0.764854\n",
            "\n",
            "Record id: 3908,\n",
            "Description: THE 10 BEST-EVER DEPRESSION MANAGEMENT TECHNIQUES\r\n",
            "Understanding the origin of your clients’ depression is essential to their successful treatment. In this practical one-day workshop, Dr. Wehrenberg will empower you to identify the root causes of depression, explore the symptoms they manifest, and address how these symptoms can be managed so that clients can progress to recovery—without medication.  \r\n",
            "\r\n",
            "Learning Objectives: \r\n",
            "Discover 10 categories of interventions you can immediately apply to help reduce depression symptoms in your clients.\r\n",
            "Explore psychotherapy methods that can improve the physiology, cognition and behaviour of depressed clients. \r\n",
            "Understand the aspects of brain function that underlie depression.,\n",
            "Similarity score: 0.743047\n",
            "\n",
            "Record id: 3311,\n",
            "Description: All depressions are not created equal. Understanding the origin of your clients’ depressions and the impact on treatment can make a big difference to your success in therapy and help clients move to management of their symptoms and then recovery (without medication) from this insidious disorder. In this workshop exploring experiential and didactic methods, you will learn 10 methods that you can immediately apply to diminish symptoms in clients suffering from depression. The workshop will highlight aspects of brain function that underlie depression and focus on treatment methods that will counteract depressive symptoms. The pragmatic focus of this seminar will be on exploring psychotherapy methods that can improve the physiology, cognition, and behaviour of depressed clients. - See more at: http://www.jackhirose.com/workshop/10-best-ever-depression-wehrenberg-calgary-040414/#sthash.y9TjuKec.dpuf,\n",
            "Similarity score: 0.739593\n",
            "\n",
            "Record id: 2819,\n",
            "Description: Individual and group cognitive behavioural therapy for depression, anxiety, and other related disorders. Treating adolescents and adults.,\n",
            "Similarity score: 0.732507\n",
            "\n",
            "Record id: 3313,\n",
            "Description: All depressions are not created equal. Understanding the origin of your clients’ depressions and the impact on treatment can make a big difference to your success in therapy and help clients move to management of their symptoms and then recovery (without medication) from this insidious disorder. In this workshop exploring experiential and didactic methods, you will learn 10 methods that you can immediately apply to diminish symptoms in clients suffering from depression. The workshop will highlight aspects of brain function that underlie depression and focus on treatment methods that will counteract depressive symptoms. The pragmatic focus of this seminar will be on exploring psychotherapy methods that can improve the physiology, cognition, and behaviour of depressed clients. - See more at: http://www.jackhirose.com/workshop/10-depression-techniques-wehrenberg-burnaby-110414/#sthash.orufCGxV.dpuf,\n",
            "Similarity score: 0.729925\n",
            "\n",
            "Record id: 3205,\n",
            "Description: All depressions are not created equal. Understanding the origin of your clients’ depressions and the impact on treatment can make a big difference to your success in therapy and help clients move to management of their symptoms and then recovery (without medication) from this insidious disorder.\r\n",
            "In this workshop exploring experiential and didactic methods, you will learn 10 methods that you can immediately apply to diminish symptoms in clients suffering from depression. The workshop will highlight aspects of brain function that underlie depression and focus on treatment methods that will counteract depressive symptoms. The pragmatic focus of this seminar will be on exploring psychotherapy methods that can improve the physiology, cognition, and behaviour of depressed clients.,\n",
            "Similarity score: 0.725092\n",
            "\n",
            "Record id: 3196,\n",
            "Description: All depressions are not created equal. Understanding the origin of your clients’ depressions and the impact on treatment can make a big difference to your success in therapy and help clients move to management of their symptoms and then recovery (without medication) from this insidious disorder.\r\n",
            "In this workshop exploring experiential and didactic methods, you will learn 10 methods that you can immediately apply to diminish symptoms in clients suffering from depression. The workshop will highlight aspects of brain function that underlie depression and focus on treatment methods that will counteract depressive symptoms. The pragmatic focus of this seminar will be on exploring psychotherapy methods that can improve the physiology, cognition, and behaviour of depressed clients.,\n",
            "Similarity score: 0.725092\n",
            "\n",
            "Record id: 5659,\n",
            "Description: Providing psychotherapy services, counselling and online therapy to support depression, anxiety, addictions and overall mental health.,\n",
            "Similarity score: 0.722915\n",
            "\n",
            "Record id: 112,\n",
            "Description: Helping a family member or loved one to cope with Depression or Bipolar Disorder does not come with a How To Manual. In this four week session, we discuss the following:\r\n",
            "-symptoms of depression/bipolar disorder\r\n",
            "-how to help family member cope with symptoms\r\n",
            "-communicating, problem solving\r\n",
            "-treatment modalities\r\n",
            "-mental health act\r\n",
            "-community resources\r\n",
            "-self care\r\n",
            "-runs from 7-9 pm\r\n",
            ",\n",
            "Similarity score: 0.717634\n",
            "\n"
          ]
        }
      ]
    },
    {
      "cell_type": "markdown",
      "source": [
        "### Taxonomy"
      ],
      "metadata": {
        "id": "KZiDxj8Zsyk_"
      }
    },
    {
      "cell_type": "code",
      "source": [
        "input_text = ['How to treat depression?']\n",
        "batch_tokens = tokenizer(input_text, padding='max_length', max_length=600, truncation=True, return_tensors=\"pt\").to(device)\n",
        "embedding = getEmbeddings(batch_tokens)[0]\n",
        "\n",
        "cos_sim = []\n",
        "for index, row in taxonomy.iterrows():\n",
        "    cos_sim.append(1 - cosine(embedding, row['embeddings']))\n",
        "\n",
        "lst = get_highest_numbers_with_indices(cos_sim)\n",
        "\n",
        "for each in lst:\n",
        "    print('Record id: %d,\\nDescription: %s,\\nSimilarity score: %5f\\n' % (each[1], records['description'][each[1]], each[0]))"
      ],
      "metadata": {
        "colab": {
          "base_uri": "https://localhost:8080/"
        },
        "id": "M6AzMi_Ol2XP",
        "outputId": "20285712-2cdf-4355-b14a-e245c474edd9"
      },
      "execution_count": null,
      "outputs": [
        {
          "output_type": "stream",
          "name": "stdout",
          "text": [
            "Record id: 138,\n",
            "Description: \"Playing with Baby\" is an open drop-in time specifically for parents/caregivers with children, birth to one year of age, to play and learn together. Program includes a group time consisting of songs, rhymes, and finger plays.\r\n",
            "\r\n",
            "DATE: Tuesdays\r\n",
            "TIME: 1:30 - 3:00 p.m.,\n",
            "Similarity score: 1.000000\n",
            "\n",
            "Record id: 18,\n",
            "Description: Children's mental health organization in Ontario that provides help to children and youth, families and communities.,\n",
            "Similarity score: 0.748547\n",
            "\n",
            "Record id: 106,\n",
            "Description: The one day Fun FRIENDS training will certify professionals to deliver the program in school, day care, and clinic settings. Fun FRIENDS is an anxiety prevention and intervention program designed by a clinical psychologist specifically for 4 to 7 year old children. Fun FRIENDS is a play based program that helps children cope with feelings of fear, worry and depression by building resilience and self-esteem and teaching cognitive, behavioural and emotional skills in a simple, structured format. Fun FRIENDS helps children develop the social and emotional intelligence necessary to excel during their school years.,\n",
            "Similarity score: 0.726454\n",
            "\n",
            "Record id: 58,\n",
            "Description: \r\n",
            "This introductory workshop outlines the application of Acceptance and Commitment Therapy (ACT), pronounced as one word) for persons suffering from any of the major anxiety disorders. ACT is a\r\n",
            "\r\n",
            "newer third-generation behavior therapy that balances mindfulness and acceptance processes with\r\n",
            "commitment and behavior change processes.,\n",
            "Similarity score: 0.706502\n",
            "\n",
            "Record id: 75,\n",
            "Description: Mental Illness Awareness Week (MIAW) is an annual national public education campaign designed to help open the eyes of Canadians to the reality of mental illness.,\n",
            "Similarity score: 0.638069\n",
            "\n",
            "Record id: 67,\n",
            "Description: The Compassionate Friends is an international,volunteer, self-help organization offering friendship, understanding, grief education and hope for the future to families who have suffered the death of a child at any age. The mission of The Compassionate Friends is to aid in the positive reconciliation ofgrief and foster the physical and emotional health of bereaved parents and their surviving children and to help others to be supportive.\r\n",
            "We continue to hold our Sharing Circles on the 3rd Tuesday of eachmonth from 7pm to 9pm at Trinity Presbyterian Church in Kanata .The next Circles will be on May 20th, June 17th, July 15th and August 19th.We hope you will be able to join us in supporting others in theirgrief journey as well as sharing your own experiences.,\n",
            "Similarity score: 0.634087\n",
            "\n",
            "Record id: 62,\n",
            "Description: A fundraiser for the Schizophrenia Society of Ontario - Ottawa Region. Supported by Mad About the Arts.\r\n",
            "\r\n",
            "\r\n",
            "Artwork by local artists\r\n",
            "Silent auction\r\n",
            "BBQ  refreshments\r\n",
            "FREE ADMISSION\r\n",
            ",\n",
            "Similarity score: 0.622318\n",
            "\n",
            "Record id: 61,\n",
            "Description: The Phoenix Centre for Children and Families invites you to attend their Annual General Meeting and a special presentation to parents and caregivers about eMentalHealth.ca: an online directory of mental health resources for families and professionals. Children are welcome. Refreshments will be served!,\n",
            "Similarity score: 0.618344\n",
            "\n",
            "Record id: 6,\n",
            "Description: Information on Canada’s infants, children, teens, adolescents, students, and young adults. Topics include child care arrangements, crime, education, health, immigration, labour, low income, risk behaviours and violence.,\n",
            "Similarity score: 0.593420\n",
            "\n",
            "Record id: 120,\n",
            "Description: A 3.5- to 4-hour, intensive training program for people who suffer with depression and those who love them.\r\n",
            "Depression has cost our family literally hundreds of thousands of dollars!  It has cost us our home, our savings, our investments, our friendships and relationships with loved ones, it almost cost us our marriage, and my wife her very life.  Depression destroys lives...period!\r\n",
            "\r\n",
            "In this 3.5- to 4-hour program, we will share with you secrets that we have learned over the past 10 years through our research and our trials and errors for surviving the destruction and devastation that comes with depression, anxiety, bi-polar, obsessive compulsive and other emotional disorders.\r\n",
            "\r\n",
            "Your privacy is assured: Your identity will not be exposed to anyone else in the program.  You will be assigned a random number as your ID and no-one needs to know who you are.\r\n",
            "This is not a motivational webinar: This is an intense training program with specific learning objectives based on experience, science and results; no hype!\r\n",
            "Fee is $20 and the net proceeds will be donated to the Canadian Mental Health Association.\r\n",
            ",\n",
            "Similarity score: 0.574035\n",
            "\n"
          ]
        }
      ]
    }
  ]
}