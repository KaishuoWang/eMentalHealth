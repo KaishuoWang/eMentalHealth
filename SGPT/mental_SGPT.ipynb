{
  "nbformat": 4,
  "nbformat_minor": 0,
  "metadata": {
    "colab": {
      "provenance": [],
      "gpuType": "T4",
      "toc_visible": true
    },
    "kernelspec": {
      "name": "python3",
      "display_name": "Python 3"
    },
    "language_info": {
      "name": "python"
    },
    "accelerator": "GPU",
    "gpuClass": "standard"
  },
  "cells": [
    {
      "cell_type": "code",
      "execution_count": null,
      "metadata": {
        "colab": {
          "base_uri": "https://localhost:8080/"
        },
        "id": "fc0BfNiGI12h",
        "outputId": "f0da92b8-17ec-4596-d6de-78f29e19845f"
      },
      "outputs": [
        {
          "output_type": "stream",
          "name": "stdout",
          "text": [
            "Looking in indexes: https://pypi.org/simple, https://us-python.pkg.dev/colab-wheels/public/simple/\n",
            "Requirement already satisfied: transformers in /usr/local/lib/python3.10/dist-packages (4.29.2)\n",
            "Requirement already satisfied: filelock in /usr/local/lib/python3.10/dist-packages (from transformers) (3.12.0)\n",
            "Requirement already satisfied: huggingface-hub<1.0,>=0.14.1 in /usr/local/lib/python3.10/dist-packages (from transformers) (0.14.1)\n",
            "Requirement already satisfied: numpy>=1.17 in /usr/local/lib/python3.10/dist-packages (from transformers) (1.22.4)\n",
            "Requirement already satisfied: packaging>=20.0 in /usr/local/lib/python3.10/dist-packages (from transformers) (23.1)\n",
            "Requirement already satisfied: pyyaml>=5.1 in /usr/local/lib/python3.10/dist-packages (from transformers) (6.0)\n",
            "Requirement already satisfied: regex!=2019.12.17 in /usr/local/lib/python3.10/dist-packages (from transformers) (2022.10.31)\n",
            "Requirement already satisfied: requests in /usr/local/lib/python3.10/dist-packages (from transformers) (2.27.1)\n",
            "Requirement already satisfied: tokenizers!=0.11.3,<0.14,>=0.11.1 in /usr/local/lib/python3.10/dist-packages (from transformers) (0.13.3)\n",
            "Requirement already satisfied: tqdm>=4.27 in /usr/local/lib/python3.10/dist-packages (from transformers) (4.65.0)\n",
            "Requirement already satisfied: fsspec in /usr/local/lib/python3.10/dist-packages (from huggingface-hub<1.0,>=0.14.1->transformers) (2023.4.0)\n",
            "Requirement already satisfied: typing-extensions>=3.7.4.3 in /usr/local/lib/python3.10/dist-packages (from huggingface-hub<1.0,>=0.14.1->transformers) (4.5.0)\n",
            "Requirement already satisfied: urllib3<1.27,>=1.21.1 in /usr/local/lib/python3.10/dist-packages (from requests->transformers) (1.26.15)\n",
            "Requirement already satisfied: certifi>=2017.4.17 in /usr/local/lib/python3.10/dist-packages (from requests->transformers) (2022.12.7)\n",
            "Requirement already satisfied: charset-normalizer~=2.0.0 in /usr/local/lib/python3.10/dist-packages (from requests->transformers) (2.0.12)\n",
            "Requirement already satisfied: idna<4,>=2.5 in /usr/local/lib/python3.10/dist-packages (from requests->transformers) (3.4)\n"
          ]
        }
      ],
      "source": [
        "!pip install transformers"
      ]
    },
    {
      "cell_type": "code",
      "source": [
        "import pandas as pd\n",
        "import re\n",
        "import torch\n",
        "from transformers import AutoModel, AutoTokenizer\n",
        "import math\n",
        "from scipy.spatial.distance import cosine\n",
        "import random\n",
        "from google.colab import drive\n",
        "drive.mount('/content/gdrive')\n",
        "\n",
        "# Run locally\n",
        "#DATA_PATH = ''\n",
        "\n",
        "# KW\n",
        "DATA_PATH = '/content/gdrive/MyDrive/CSI6900/'\n",
        "\n",
        "# FZ\n",
        "#DATA_PATH = 'gdrive/MyDrive/CSI6900/'\n",
        "\n",
        "device = torch.device(\"mps\" if getattr(torch,'has_mps',False) else \"cuda:0\" if torch.cuda.is_available() else \"cpu\")\n",
        "device"
      ],
      "metadata": {
        "colab": {
          "base_uri": "https://localhost:8080/"
        },
        "id": "qHTXfMjdJCuQ",
        "outputId": "2c2fd934-1aef-471e-f85e-a401b0b13f04"
      },
      "execution_count": null,
      "outputs": [
        {
          "output_type": "stream",
          "name": "stdout",
          "text": [
            "Drive already mounted at /content/gdrive; to attempt to forcibly remount, call drive.mount(\"/content/gdrive\", force_remount=True).\n"
          ]
        },
        {
          "output_type": "execute_result",
          "data": {
            "text/plain": [
              "device(type='cuda', index=0)"
            ]
          },
          "metadata": {},
          "execution_count": 2
        }
      ]
    },
    {
      "cell_type": "markdown",
      "source": [
        "## Load data"
      ],
      "metadata": {
        "id": "NYFFo7lQI_pj"
      }
    },
    {
      "cell_type": "code",
      "source": [
        "infoSheet = pd.read_csv(DATA_PATH + \"data/infoSheets_2023-05-18.csv\")\n",
        "print(infoSheet.isnull().sum())\n",
        "infoSheet.dropna(subset=['abstract_en'], inplace=True)\n",
        "print('\\nNumber of rows: ', len(infoSheet.index))\n",
        "infoSheet.head(5)"
      ],
      "metadata": {
        "colab": {
          "base_uri": "https://localhost:8080/",
          "height": 722
        },
        "id": "-MUFFxKqI_ew",
        "outputId": "6adbea90-2202-491e-80ad-e1ff6cabb3d8"
      },
      "execution_count": null,
      "outputs": [
        {
          "output_type": "stream",
          "name": "stdout",
          "text": [
            "ID                        0\n",
            "name_en                   0\n",
            "name_fr                 138\n",
            "abstract_en              20\n",
            "abstract_fr             146\n",
            "description_en            0\n",
            "description_fr          140\n",
            "taxonomy heading ids      0\n",
            "dtype: int64\n",
            "\n",
            "Number of rows:  326\n"
          ]
        },
        {
          "output_type": "execute_result",
          "data": {
            "text/plain": [
              "      ID                                            name_en  \\\n",
              "0  84606  ADHD Medication Side Effects: Low Appetite and...   \n",
              "1  92619                        5-HTP (5-hydroxytryptophan)   \n",
              "2  50150  A Simple Way to Swallow Pills: The Head Postur...   \n",
              "3   8920                        Abuse and Domestic Violence   \n",
              "4  69660  ADHD in Children, Youth and Adults: Informatio...   \n",
              "\n",
              "                                             name_fr  \\\n",
              "0                                                NaN   \n",
              "1                                                NaN   \n",
              "2  Truc simple pour avaler les pilules: La techni...   \n",
              "3                 Maltraitance et violence familiale   \n",
              "4                                                NaN   \n",
              "\n",
              "                                         abstract_en  \\\n",
              "0  Stimulants prescribed for ADHD can lead to red...   \n",
              "1  5-HTP (5-Hydroxytryptophan) is a natural subst...   \n",
              "2  Swallowing pills can hard for many children, y...   \n",
              "3  Abuse is behaviour used to intimidate, isolate...   \n",
              "4  Attention deficit hyperactivity disorder (ADHD...   \n",
              "\n",
              "                                         abstract_fr  \\\n",
              "0                                                NaN   \n",
              "1                                                NaN   \n",
              "2  Il n’est pas seul! Beaucoup d’enfants, de jeun...   \n",
              "3  La maltraitance est un comportement visant à i...   \n",
              "4                                                NaN   \n",
              "\n",
              "                                      description_en  \\\n",
              "0  Background\\r\\nStimulant medications for attent...   \n",
              "1  What is 5-HTP?\\r\\n5-HTP (5-Hydroxytryptophan) ...   \n",
              "2  \\r\\n\\t\\r\\n\\t\\tDoes your child or teen have pro...   \n",
              "3  \\r\\n\\tWhat is Abuse and Domestic Violence?\\r\\n...   \n",
              "4  \\r\\n\\tAbbreviations\\r\\n\\r\\n\\tADHD, attention-d...   \n",
              "\n",
              "                                      description_fr  \\\n",
              "0                                                NaN   \n",
              "1                                                NaN   \n",
              "2  \\r\\n\\t\\r\\n\\t\\tVotre enfant a-t-il de la diffic...   \n",
              "3  \\r\\n\\tQu&#39;est-ce que la maltraitance et la ...   \n",
              "4                                                NaN   \n",
              "\n",
              "           taxonomy heading ids  \n",
              "0                             0  \n",
              "1                             0  \n",
              "2                             0  \n",
              "3  0,219,58,8,7,6,50,9,36,54,37  \n",
              "4                          0,13  "
            ],
            "text/html": [
              "\n",
              "  <div id=\"df-04251460-2d58-442c-9e9a-a1fedc973678\">\n",
              "    <div class=\"colab-df-container\">\n",
              "      <div>\n",
              "<style scoped>\n",
              "    .dataframe tbody tr th:only-of-type {\n",
              "        vertical-align: middle;\n",
              "    }\n",
              "\n",
              "    .dataframe tbody tr th {\n",
              "        vertical-align: top;\n",
              "    }\n",
              "\n",
              "    .dataframe thead th {\n",
              "        text-align: right;\n",
              "    }\n",
              "</style>\n",
              "<table border=\"1\" class=\"dataframe\">\n",
              "  <thead>\n",
              "    <tr style=\"text-align: right;\">\n",
              "      <th></th>\n",
              "      <th>ID</th>\n",
              "      <th>name_en</th>\n",
              "      <th>name_fr</th>\n",
              "      <th>abstract_en</th>\n",
              "      <th>abstract_fr</th>\n",
              "      <th>description_en</th>\n",
              "      <th>description_fr</th>\n",
              "      <th>taxonomy heading ids</th>\n",
              "    </tr>\n",
              "  </thead>\n",
              "  <tbody>\n",
              "    <tr>\n",
              "      <th>0</th>\n",
              "      <td>84606</td>\n",
              "      <td>ADHD Medication Side Effects: Low Appetite and...</td>\n",
              "      <td>NaN</td>\n",
              "      <td>Stimulants prescribed for ADHD can lead to red...</td>\n",
              "      <td>NaN</td>\n",
              "      <td>Background\\r\\nStimulant medications for attent...</td>\n",
              "      <td>NaN</td>\n",
              "      <td>0</td>\n",
              "    </tr>\n",
              "    <tr>\n",
              "      <th>1</th>\n",
              "      <td>92619</td>\n",
              "      <td>5-HTP (5-hydroxytryptophan)</td>\n",
              "      <td>NaN</td>\n",
              "      <td>5-HTP (5-Hydroxytryptophan) is a natural subst...</td>\n",
              "      <td>NaN</td>\n",
              "      <td>What is 5-HTP?\\r\\n5-HTP (5-Hydroxytryptophan) ...</td>\n",
              "      <td>NaN</td>\n",
              "      <td>0</td>\n",
              "    </tr>\n",
              "    <tr>\n",
              "      <th>2</th>\n",
              "      <td>50150</td>\n",
              "      <td>A Simple Way to Swallow Pills: The Head Postur...</td>\n",
              "      <td>Truc simple pour avaler les pilules: La techni...</td>\n",
              "      <td>Swallowing pills can hard for many children, y...</td>\n",
              "      <td>Il n’est pas seul! Beaucoup d’enfants, de jeun...</td>\n",
              "      <td>\\r\\n\\t\\r\\n\\t\\tDoes your child or teen have pro...</td>\n",
              "      <td>\\r\\n\\t\\r\\n\\t\\tVotre enfant a-t-il de la diffic...</td>\n",
              "      <td>0</td>\n",
              "    </tr>\n",
              "    <tr>\n",
              "      <th>3</th>\n",
              "      <td>8920</td>\n",
              "      <td>Abuse and Domestic Violence</td>\n",
              "      <td>Maltraitance et violence familiale</td>\n",
              "      <td>Abuse is behaviour used to intimidate, isolate...</td>\n",
              "      <td>La maltraitance est un comportement visant à i...</td>\n",
              "      <td>\\r\\n\\tWhat is Abuse and Domestic Violence?\\r\\n...</td>\n",
              "      <td>\\r\\n\\tQu&amp;#39;est-ce que la maltraitance et la ...</td>\n",
              "      <td>0,219,58,8,7,6,50,9,36,54,37</td>\n",
              "    </tr>\n",
              "    <tr>\n",
              "      <th>4</th>\n",
              "      <td>69660</td>\n",
              "      <td>ADHD in Children, Youth and Adults: Informatio...</td>\n",
              "      <td>NaN</td>\n",
              "      <td>Attention deficit hyperactivity disorder (ADHD...</td>\n",
              "      <td>NaN</td>\n",
              "      <td>\\r\\n\\tAbbreviations\\r\\n\\r\\n\\tADHD, attention-d...</td>\n",
              "      <td>NaN</td>\n",
              "      <td>0,13</td>\n",
              "    </tr>\n",
              "  </tbody>\n",
              "</table>\n",
              "</div>\n",
              "      <button class=\"colab-df-convert\" onclick=\"convertToInteractive('df-04251460-2d58-442c-9e9a-a1fedc973678')\"\n",
              "              title=\"Convert this dataframe to an interactive table.\"\n",
              "              style=\"display:none;\">\n",
              "        \n",
              "  <svg xmlns=\"http://www.w3.org/2000/svg\" height=\"24px\"viewBox=\"0 0 24 24\"\n",
              "       width=\"24px\">\n",
              "    <path d=\"M0 0h24v24H0V0z\" fill=\"none\"/>\n",
              "    <path d=\"M18.56 5.44l.94 2.06.94-2.06 2.06-.94-2.06-.94-.94-2.06-.94 2.06-2.06.94zm-11 1L8.5 8.5l.94-2.06 2.06-.94-2.06-.94L8.5 2.5l-.94 2.06-2.06.94zm10 10l.94 2.06.94-2.06 2.06-.94-2.06-.94-.94-2.06-.94 2.06-2.06.94z\"/><path d=\"M17.41 7.96l-1.37-1.37c-.4-.4-.92-.59-1.43-.59-.52 0-1.04.2-1.43.59L10.3 9.45l-7.72 7.72c-.78.78-.78 2.05 0 2.83L4 21.41c.39.39.9.59 1.41.59.51 0 1.02-.2 1.41-.59l7.78-7.78 2.81-2.81c.8-.78.8-2.07 0-2.86zM5.41 20L4 18.59l7.72-7.72 1.47 1.35L5.41 20z\"/>\n",
              "  </svg>\n",
              "      </button>\n",
              "      \n",
              "  <style>\n",
              "    .colab-df-container {\n",
              "      display:flex;\n",
              "      flex-wrap:wrap;\n",
              "      gap: 12px;\n",
              "    }\n",
              "\n",
              "    .colab-df-convert {\n",
              "      background-color: #E8F0FE;\n",
              "      border: none;\n",
              "      border-radius: 50%;\n",
              "      cursor: pointer;\n",
              "      display: none;\n",
              "      fill: #1967D2;\n",
              "      height: 32px;\n",
              "      padding: 0 0 0 0;\n",
              "      width: 32px;\n",
              "    }\n",
              "\n",
              "    .colab-df-convert:hover {\n",
              "      background-color: #E2EBFA;\n",
              "      box-shadow: 0px 1px 2px rgba(60, 64, 67, 0.3), 0px 1px 3px 1px rgba(60, 64, 67, 0.15);\n",
              "      fill: #174EA6;\n",
              "    }\n",
              "\n",
              "    [theme=dark] .colab-df-convert {\n",
              "      background-color: #3B4455;\n",
              "      fill: #D2E3FC;\n",
              "    }\n",
              "\n",
              "    [theme=dark] .colab-df-convert:hover {\n",
              "      background-color: #434B5C;\n",
              "      box-shadow: 0px 1px 3px 1px rgba(0, 0, 0, 0.15);\n",
              "      filter: drop-shadow(0px 1px 2px rgba(0, 0, 0, 0.3));\n",
              "      fill: #FFFFFF;\n",
              "    }\n",
              "  </style>\n",
              "\n",
              "      <script>\n",
              "        const buttonEl =\n",
              "          document.querySelector('#df-04251460-2d58-442c-9e9a-a1fedc973678 button.colab-df-convert');\n",
              "        buttonEl.style.display =\n",
              "          google.colab.kernel.accessAllowed ? 'block' : 'none';\n",
              "\n",
              "        async function convertToInteractive(key) {\n",
              "          const element = document.querySelector('#df-04251460-2d58-442c-9e9a-a1fedc973678');\n",
              "          const dataTable =\n",
              "            await google.colab.kernel.invokeFunction('convertToInteractive',\n",
              "                                                     [key], {});\n",
              "          if (!dataTable) return;\n",
              "\n",
              "          const docLinkHtml = 'Like what you see? Visit the ' +\n",
              "            '<a target=\"_blank\" href=https://colab.research.google.com/notebooks/data_table.ipynb>data table notebook</a>'\n",
              "            + ' to learn more about interactive tables.';\n",
              "          element.innerHTML = '';\n",
              "          dataTable['output_type'] = 'display_data';\n",
              "          await google.colab.output.renderOutput(dataTable, element);\n",
              "          const docLink = document.createElement('div');\n",
              "          docLink.innerHTML = docLinkHtml;\n",
              "          element.appendChild(docLink);\n",
              "        }\n",
              "      </script>\n",
              "    </div>\n",
              "  </div>\n",
              "  "
            ]
          },
          "metadata": {},
          "execution_count": 3
        }
      ]
    },
    {
      "cell_type": "code",
      "source": [
        "records = pd.read_json(DATA_PATH + 'data/records.json')\n",
        "records = records.drop(['created_at', 'updated_at', 'deleted_at', 'publish', 'academic_credentials', 'age_max', 'age_min', 'last_name',\n",
        "                        'latitude', 'longitude', 'name_of_private_practice', 'fee_description',\t'fee_type',\t'first_name',\t'languages',\n",
        "                        'organization_type', 'original_id',\t'record_type',\t'salutation_type', 'website'], axis=1)\n",
        "\n",
        "taxonomy = pd.read_json(DATA_PATH + 'data/taxonomy_headings.json')\n",
        "taxonomy = taxonomy.drop(['created_at',\t'updated_at',\t'deleted_at', 'alias_of_id', 'short_description',\t'original_id'], axis=1)\n",
        "\n",
        "taxonomy.head(10)"
      ],
      "metadata": {
        "colab": {
          "base_uri": "https://localhost:8080/",
          "height": 528
        },
        "id": "0YM-lzVijZZW",
        "outputId": "296c60d1-258e-41ff-eede-62bc09cce716"
      },
      "execution_count": null,
      "outputs": [
        {
          "output_type": "execute_result",
          "data": {
            "text/plain": [
              "   id                                               name  \\\n",
              "0   1                                               Root   \n",
              "1   2                        All Mental Health Resources   \n",
              "2   3                               Crisis and Emergency   \n",
              "3   4  System Navigation, including Information and R...   \n",
              "4   5  Child Welfare including Children's Aid Society...   \n",
              "5   6                      Emergency Shelter and Housing   \n",
              "6   7                      Hospital Emergency Department   \n",
              "7   8  Crisis Lines including Telephone, Online and Chat   \n",
              "8   9                                      Psychiatrists   \n",
              "9  10            A-Z Mental Health Conditions and Topics   \n",
              "\n",
              "                                         description  \\\n",
              "0                                               Root   \n",
              "1  <p>\\r\\n\\tThe listings of mental health resourc...   \n",
              "2  <p>\\r\\n\\tRefers to all programs that provide i...   \n",
              "3  <p>\\r\\n\\tAre you looking for help, but don&#39...   \n",
              "4  <p>The child welfare / child protection system...   \n",
              "5  <p>\\r\\n\\tThere are various shelters that peopl...   \n",
              "6  <p>\\r\\n\\tIs there an emergency such as medical...   \n",
              "7  <p>\\r\\n\\tAre you in a crisis? Crisis lines off...   \n",
              "8  <p>\\r\\n\\tPsychiatrists are medical doctors who...   \n",
              "9  <p>\\r\\n\\tAlphabetical list of mental health to...   \n",
              "\n",
              "                                        translations  \n",
              "0  {\"name\":{\"en\":\"Root\",\"fr\":null},\"description\":...  \n",
              "1  {\"name\":{\"en\":\"All Mental Health Resources\",\"f...  \n",
              "2  {\"name\":{\"en\":\"Crisis and Emergency\",\"fr\":\"Res...  \n",
              "3  {\"name\":{\"en\":\"System Navigation, including In...  \n",
              "4  {\"name\":{\"en\":\"Child Welfare including Childre...  \n",
              "5  {\"name\":{\"en\":\"Emergency Shelter and Housing\",...  \n",
              "6  {\"name\":{\"en\":\"Hospital Emergency Department\",...  \n",
              "7  {\"name\":{\"en\":\"Crisis Lines including Telephon...  \n",
              "8  {\"name\":{\"en\":\"Psychiatrists\",\"fr\":\"Psychiatre...  \n",
              "9  {\"name\":{\"en\":\"A-Z Mental Health Conditions an...  "
            ],
            "text/html": [
              "\n",
              "  <div id=\"df-a9ddca6c-a3a9-4c55-8f93-e3cb61eadc32\">\n",
              "    <div class=\"colab-df-container\">\n",
              "      <div>\n",
              "<style scoped>\n",
              "    .dataframe tbody tr th:only-of-type {\n",
              "        vertical-align: middle;\n",
              "    }\n",
              "\n",
              "    .dataframe tbody tr th {\n",
              "        vertical-align: top;\n",
              "    }\n",
              "\n",
              "    .dataframe thead th {\n",
              "        text-align: right;\n",
              "    }\n",
              "</style>\n",
              "<table border=\"1\" class=\"dataframe\">\n",
              "  <thead>\n",
              "    <tr style=\"text-align: right;\">\n",
              "      <th></th>\n",
              "      <th>id</th>\n",
              "      <th>name</th>\n",
              "      <th>description</th>\n",
              "      <th>translations</th>\n",
              "    </tr>\n",
              "  </thead>\n",
              "  <tbody>\n",
              "    <tr>\n",
              "      <th>0</th>\n",
              "      <td>1</td>\n",
              "      <td>Root</td>\n",
              "      <td>Root</td>\n",
              "      <td>{\"name\":{\"en\":\"Root\",\"fr\":null},\"description\":...</td>\n",
              "    </tr>\n",
              "    <tr>\n",
              "      <th>1</th>\n",
              "      <td>2</td>\n",
              "      <td>All Mental Health Resources</td>\n",
              "      <td>&lt;p&gt;\\r\\n\\tThe listings of mental health resourc...</td>\n",
              "      <td>{\"name\":{\"en\":\"All Mental Health Resources\",\"f...</td>\n",
              "    </tr>\n",
              "    <tr>\n",
              "      <th>2</th>\n",
              "      <td>3</td>\n",
              "      <td>Crisis and Emergency</td>\n",
              "      <td>&lt;p&gt;\\r\\n\\tRefers to all programs that provide i...</td>\n",
              "      <td>{\"name\":{\"en\":\"Crisis and Emergency\",\"fr\":\"Res...</td>\n",
              "    </tr>\n",
              "    <tr>\n",
              "      <th>3</th>\n",
              "      <td>4</td>\n",
              "      <td>System Navigation, including Information and R...</td>\n",
              "      <td>&lt;p&gt;\\r\\n\\tAre you looking for help, but don&amp;#39...</td>\n",
              "      <td>{\"name\":{\"en\":\"System Navigation, including In...</td>\n",
              "    </tr>\n",
              "    <tr>\n",
              "      <th>4</th>\n",
              "      <td>5</td>\n",
              "      <td>Child Welfare including Children's Aid Society...</td>\n",
              "      <td>&lt;p&gt;The child welfare / child protection system...</td>\n",
              "      <td>{\"name\":{\"en\":\"Child Welfare including Childre...</td>\n",
              "    </tr>\n",
              "    <tr>\n",
              "      <th>5</th>\n",
              "      <td>6</td>\n",
              "      <td>Emergency Shelter and Housing</td>\n",
              "      <td>&lt;p&gt;\\r\\n\\tThere are various shelters that peopl...</td>\n",
              "      <td>{\"name\":{\"en\":\"Emergency Shelter and Housing\",...</td>\n",
              "    </tr>\n",
              "    <tr>\n",
              "      <th>6</th>\n",
              "      <td>7</td>\n",
              "      <td>Hospital Emergency Department</td>\n",
              "      <td>&lt;p&gt;\\r\\n\\tIs there an emergency such as medical...</td>\n",
              "      <td>{\"name\":{\"en\":\"Hospital Emergency Department\",...</td>\n",
              "    </tr>\n",
              "    <tr>\n",
              "      <th>7</th>\n",
              "      <td>8</td>\n",
              "      <td>Crisis Lines including Telephone, Online and Chat</td>\n",
              "      <td>&lt;p&gt;\\r\\n\\tAre you in a crisis? Crisis lines off...</td>\n",
              "      <td>{\"name\":{\"en\":\"Crisis Lines including Telephon...</td>\n",
              "    </tr>\n",
              "    <tr>\n",
              "      <th>8</th>\n",
              "      <td>9</td>\n",
              "      <td>Psychiatrists</td>\n",
              "      <td>&lt;p&gt;\\r\\n\\tPsychiatrists are medical doctors who...</td>\n",
              "      <td>{\"name\":{\"en\":\"Psychiatrists\",\"fr\":\"Psychiatre...</td>\n",
              "    </tr>\n",
              "    <tr>\n",
              "      <th>9</th>\n",
              "      <td>10</td>\n",
              "      <td>A-Z Mental Health Conditions and Topics</td>\n",
              "      <td>&lt;p&gt;\\r\\n\\tAlphabetical list of mental health to...</td>\n",
              "      <td>{\"name\":{\"en\":\"A-Z Mental Health Conditions an...</td>\n",
              "    </tr>\n",
              "  </tbody>\n",
              "</table>\n",
              "</div>\n",
              "      <button class=\"colab-df-convert\" onclick=\"convertToInteractive('df-a9ddca6c-a3a9-4c55-8f93-e3cb61eadc32')\"\n",
              "              title=\"Convert this dataframe to an interactive table.\"\n",
              "              style=\"display:none;\">\n",
              "        \n",
              "  <svg xmlns=\"http://www.w3.org/2000/svg\" height=\"24px\"viewBox=\"0 0 24 24\"\n",
              "       width=\"24px\">\n",
              "    <path d=\"M0 0h24v24H0V0z\" fill=\"none\"/>\n",
              "    <path d=\"M18.56 5.44l.94 2.06.94-2.06 2.06-.94-2.06-.94-.94-2.06-.94 2.06-2.06.94zm-11 1L8.5 8.5l.94-2.06 2.06-.94-2.06-.94L8.5 2.5l-.94 2.06-2.06.94zm10 10l.94 2.06.94-2.06 2.06-.94-2.06-.94-.94-2.06-.94 2.06-2.06.94z\"/><path d=\"M17.41 7.96l-1.37-1.37c-.4-.4-.92-.59-1.43-.59-.52 0-1.04.2-1.43.59L10.3 9.45l-7.72 7.72c-.78.78-.78 2.05 0 2.83L4 21.41c.39.39.9.59 1.41.59.51 0 1.02-.2 1.41-.59l7.78-7.78 2.81-2.81c.8-.78.8-2.07 0-2.86zM5.41 20L4 18.59l7.72-7.72 1.47 1.35L5.41 20z\"/>\n",
              "  </svg>\n",
              "      </button>\n",
              "      \n",
              "  <style>\n",
              "    .colab-df-container {\n",
              "      display:flex;\n",
              "      flex-wrap:wrap;\n",
              "      gap: 12px;\n",
              "    }\n",
              "\n",
              "    .colab-df-convert {\n",
              "      background-color: #E8F0FE;\n",
              "      border: none;\n",
              "      border-radius: 50%;\n",
              "      cursor: pointer;\n",
              "      display: none;\n",
              "      fill: #1967D2;\n",
              "      height: 32px;\n",
              "      padding: 0 0 0 0;\n",
              "      width: 32px;\n",
              "    }\n",
              "\n",
              "    .colab-df-convert:hover {\n",
              "      background-color: #E2EBFA;\n",
              "      box-shadow: 0px 1px 2px rgba(60, 64, 67, 0.3), 0px 1px 3px 1px rgba(60, 64, 67, 0.15);\n",
              "      fill: #174EA6;\n",
              "    }\n",
              "\n",
              "    [theme=dark] .colab-df-convert {\n",
              "      background-color: #3B4455;\n",
              "      fill: #D2E3FC;\n",
              "    }\n",
              "\n",
              "    [theme=dark] .colab-df-convert:hover {\n",
              "      background-color: #434B5C;\n",
              "      box-shadow: 0px 1px 3px 1px rgba(0, 0, 0, 0.15);\n",
              "      filter: drop-shadow(0px 1px 2px rgba(0, 0, 0, 0.3));\n",
              "      fill: #FFFFFF;\n",
              "    }\n",
              "  </style>\n",
              "\n",
              "      <script>\n",
              "        const buttonEl =\n",
              "          document.querySelector('#df-a9ddca6c-a3a9-4c55-8f93-e3cb61eadc32 button.colab-df-convert');\n",
              "        buttonEl.style.display =\n",
              "          google.colab.kernel.accessAllowed ? 'block' : 'none';\n",
              "\n",
              "        async function convertToInteractive(key) {\n",
              "          const element = document.querySelector('#df-a9ddca6c-a3a9-4c55-8f93-e3cb61eadc32');\n",
              "          const dataTable =\n",
              "            await google.colab.kernel.invokeFunction('convertToInteractive',\n",
              "                                                     [key], {});\n",
              "          if (!dataTable) return;\n",
              "\n",
              "          const docLinkHtml = 'Like what you see? Visit the ' +\n",
              "            '<a target=\"_blank\" href=https://colab.research.google.com/notebooks/data_table.ipynb>data table notebook</a>'\n",
              "            + ' to learn more about interactive tables.';\n",
              "          element.innerHTML = '';\n",
              "          dataTable['output_type'] = 'display_data';\n",
              "          await google.colab.output.renderOutput(dataTable, element);\n",
              "          const docLink = document.createElement('div');\n",
              "          docLink.innerHTML = docLinkHtml;\n",
              "          element.appendChild(docLink);\n",
              "        }\n",
              "      </script>\n",
              "    </div>\n",
              "  </div>\n",
              "  "
            ]
          },
          "metadata": {},
          "execution_count": 4
        }
      ]
    },
    {
      "cell_type": "markdown",
      "source": [
        "## Pre-processing"
      ],
      "metadata": {
        "id": "t5ZlSGggJP1M"
      }
    },
    {
      "cell_type": "code",
      "source": [
        "!cp /content/gdrive/MyDrive/CSI6900/pre_processing.py /content"
      ],
      "metadata": {
        "id": "7vZaw2hgHCA2"
      },
      "execution_count": null,
      "outputs": []
    },
    {
      "cell_type": "code",
      "source": [
        "from pre_processing import remove_empty, remove_HTML, remove_new_line\n",
        "\n",
        "infoSheet['abstract_en'] = infoSheet['abstract_en'].apply(lambda x: remove_HTML(x))\n",
        "infoSheet['abstract_en'] = infoSheet['abstract_en'].apply(lambda x: remove_new_line(x))\n",
        "\n",
        "print('Length of taxonomy before preprocessing:', len(taxonomy.index))\n",
        "taxonomy['description'] = taxonomy['description'].apply(lambda x: remove_HTML(x))\n",
        "taxonomy['description'] = taxonomy['description'].apply(lambda x: remove_new_line(x))\n",
        "# taxonomy = remove_empty('description', taxonomy)\n",
        "print('Length of taxonomy after preprocessing:', len(taxonomy.index))\n",
        "\n",
        "print('Length of records before preprocessing:', len(records.index))\n",
        "records['description'] = records['description'].apply(lambda x: remove_HTML(x))\n",
        "records['description'] = records['description'].apply(lambda x: remove_new_line(x))\n",
        "records = remove_empty('description', records)\n",
        "print('Length of records after preprocessing:', len(records.index))"
      ],
      "metadata": {
        "id": "3fjIbJNfG911",
        "colab": {
          "base_uri": "https://localhost:8080/"
        },
        "outputId": "937e6527-6eb8-4e09-ce78-4e97a59d2fb5"
      },
      "execution_count": null,
      "outputs": [
        {
          "output_type": "stream",
          "name": "stdout",
          "text": [
            "Length of taxonomy before preprocessing: 277\n",
            "Length of taxonomy after preprocessing: 277\n",
            "Length of records before preprocessing: 6406\n",
            "Length of records after preprocessing: 6239\n"
          ]
        }
      ]
    },
    {
      "cell_type": "markdown",
      "source": [
        "## Generate embeddings"
      ],
      "metadata": {
        "id": "Aa0WC46eJSll"
      }
    },
    {
      "cell_type": "code",
      "source": [
        "# Get SGPT\n",
        "tokenizer = AutoTokenizer.from_pretrained(\"Muennighoff/SGPT-1.3B-weightedmean-nli-bitfit\")\n",
        "model = AutoModel.from_pretrained(\"Muennighoff/SGPT-1.3B-weightedmean-nli-bitfit\").to(device)\n",
        "\n",
        "model.eval()"
      ],
      "metadata": {
        "colab": {
          "base_uri": "https://localhost:8080/"
        },
        "id": "zJXkh-liJUMf",
        "outputId": "5d928bd3-f0ba-4a88-fba3-e8d13d6fae9c"
      },
      "execution_count": null,
      "outputs": [
        {
          "output_type": "execute_result",
          "data": {
            "text/plain": [
              "GPTNeoModel(\n",
              "  (wte): Embedding(50257, 2048)\n",
              "  (wpe): Embedding(2048, 2048)\n",
              "  (drop): Dropout(p=0.0, inplace=False)\n",
              "  (h): ModuleList(\n",
              "    (0-23): 24 x GPTNeoBlock(\n",
              "      (ln_1): LayerNorm((2048,), eps=1e-05, elementwise_affine=True)\n",
              "      (attn): GPTNeoAttention(\n",
              "        (attention): GPTNeoSelfAttention(\n",
              "          (attn_dropout): Dropout(p=0.0, inplace=False)\n",
              "          (resid_dropout): Dropout(p=0.0, inplace=False)\n",
              "          (k_proj): Linear(in_features=2048, out_features=2048, bias=False)\n",
              "          (v_proj): Linear(in_features=2048, out_features=2048, bias=False)\n",
              "          (q_proj): Linear(in_features=2048, out_features=2048, bias=False)\n",
              "          (out_proj): Linear(in_features=2048, out_features=2048, bias=True)\n",
              "        )\n",
              "      )\n",
              "      (ln_2): LayerNorm((2048,), eps=1e-05, elementwise_affine=True)\n",
              "      (mlp): GPTNeoMLP(\n",
              "        (c_fc): Linear(in_features=2048, out_features=8192, bias=True)\n",
              "        (c_proj): Linear(in_features=8192, out_features=2048, bias=True)\n",
              "        (act): NewGELUActivation()\n",
              "        (dropout): Dropout(p=0.0, inplace=False)\n",
              "      )\n",
              "    )\n",
              "  )\n",
              "  (ln_f): LayerNorm((2048,), eps=1e-05, elementwise_affine=True)\n",
              ")"
            ]
          },
          "metadata": {},
          "execution_count": 7
        }
      ]
    },
    {
      "cell_type": "code",
      "source": [
        "def getEmbeddings(input_ids, attention_mask):\n",
        "    # Get the embeddings\n",
        "    with torch.no_grad():\n",
        "        # Get hidden state of shape [bs, seq_len, hid_dim]\n",
        "        last_hidden_state = model(input_ids=input_ids, attention_mask=attention_mask, output_hidden_states=True, return_dict=True).last_hidden_state\n",
        "\n",
        "    # Get weights of shape [bs, seq_len, hid_dim]\n",
        "    weights = (\n",
        "        torch.arange(start=1, end=last_hidden_state.shape[1] + 1)\n",
        "        .unsqueeze(0)\n",
        "        .unsqueeze(-1)\n",
        "        .expand(last_hidden_state.size())\n",
        "        .float().to(last_hidden_state.device)\n",
        "    )\n",
        "\n",
        "    # Get attn mask of shape [bs, seq_len, hid_dim]\n",
        "    input_mask_expanded = (\n",
        "        attention_mask\n",
        "        .unsqueeze(-1)\n",
        "        .expand(last_hidden_state.size())\n",
        "        .float()\n",
        "    )\n",
        "\n",
        "    # Perform weighted mean pooling across seq_len: bs, seq_len, hidden_dim -> bs, hidden_dim\n",
        "    sum_embeddings = torch.sum(last_hidden_state * input_mask_expanded * weights, dim=1)\n",
        "    sum_mask = torch.sum(input_mask_expanded * weights, dim=1)\n",
        "\n",
        "    embeddings = sum_embeddings / sum_mask\n",
        "\n",
        "    return embeddings.cpu()"
      ],
      "metadata": {
        "id": "R87WXm9njMGH"
      },
      "execution_count": null,
      "outputs": []
    },
    {
      "cell_type": "markdown",
      "source": [
        "### Generate embeddings for name and abstraction of infoSheets"
      ],
      "metadata": {
        "id": "jGSrSf4ujDYp"
      }
    },
    {
      "cell_type": "code",
      "source": [
        "infoSheet_abstract = infoSheet['abstract_en'].tolist()\n",
        "infoSheet_name = infoSheet['name_en'].tolist()\n",
        "\n",
        "# Concat name and abstraction\n",
        "infoSheet_data = []\n",
        "for i in range(len(infoSheet_name)):\n",
        "    infoSheet_data.append(infoSheet_name[i] + ': ' + infoSheet_abstract[i])\n",
        "\n",
        "tokenized_infoSheet = tokenizer(infoSheet_data, padding='max_length', max_length=512, truncation=True, return_tensors='pt').to(device)"
      ],
      "metadata": {
        "id": "Ths3AGnpJXNR"
      },
      "execution_count": null,
      "outputs": []
    },
    {
      "cell_type": "code",
      "source": [
        "batch_size = 16\n",
        "\n",
        "num_batches = math.ceil(len(tokenized_infoSheet.input_ids)/batch_size)\n",
        "\n",
        "# Generate embeddings for the tokenized_infoSheet using the SGPT model in batches\n",
        "infoSheet_embeddings = []\n",
        "for i in range(num_batches):\n",
        "    start_idx = i * batch_size\n",
        "    end_idx = (i + 1) * batch_size\n",
        "    end_idx = end_idx if end_idx <= len(tokenized_infoSheet.input_ids) else len(tokenized_infoSheet.input_ids)\n",
        "\n",
        "    batch_input_ids = tokenized_infoSheet['input_ids'][start_idx:end_idx].to(device)\n",
        "    batch_attention_mask = tokenized_infoSheet['attention_mask'][start_idx:end_idx].to(device)\n",
        "\n",
        "    infoSheet_embeddings.append(getEmbeddings(batch_input_ids, batch_attention_mask))\n",
        "\n",
        "infoSheet_embeddings = torch.cat(infoSheet_embeddings, dim=0)\n",
        "infoSheet_embeddings.shape"
      ],
      "metadata": {
        "id": "dvXCNj1BJeQx",
        "colab": {
          "base_uri": "https://localhost:8080/"
        },
        "outputId": "5114e937-7c28-4944-f832-ec70eaeeb862"
      },
      "execution_count": null,
      "outputs": [
        {
          "output_type": "execute_result",
          "data": {
            "text/plain": [
              "torch.Size([326, 2048])"
            ]
          },
          "metadata": {},
          "execution_count": 10
        }
      ]
    },
    {
      "cell_type": "markdown",
      "source": [
        "### Save embeddings"
      ],
      "metadata": {
        "id": "ildVlX-lJrrs"
      }
    },
    {
      "cell_type": "code",
      "source": [
        "torch.save(infoSheet_embeddings, DATA_PATH + 'data/new_embeddings/sgpt_infoSheet_embeddings.pt')"
      ],
      "metadata": {
        "colab": {
          "base_uri": "https://localhost:8080/"
        },
        "id": "V4cY-RUPJohF",
        "outputId": "bb5a9e66-e75a-4cc2-d93b-67bea1192cf0"
      },
      "execution_count": null,
      "outputs": [
        {
          "output_type": "stream",
          "name": "stdout",
          "text": [
            "torch.Size([326, 2048])\n"
          ]
        }
      ]
    },
    {
      "cell_type": "markdown",
      "source": [
        "### Generate embeddings for name and description of records"
      ],
      "metadata": {
        "id": "-fi-bOQtjQIM"
      }
    },
    {
      "cell_type": "code",
      "source": [
        "records_description = records['description'].tolist()\n",
        "records_name = records['name'].tolist()\n",
        "records_data = []\n",
        "for i in range(len(records_name)):\n",
        "    records_data.append(records_name[i] + ': ' + records_description[i])\n",
        "tokenized_record = tokenizer(records_data, padding='max_length', max_length=512, truncation=True, return_tensors=\"pt\").to(device)"
      ],
      "metadata": {
        "id": "JSGBMReEjVfD"
      },
      "execution_count": null,
      "outputs": []
    },
    {
      "cell_type": "code",
      "source": [
        "batch_size = 16\n",
        "\n",
        "num_batches = math.ceil(len(tokenized_record.input_ids)/batch_size)\n",
        "\n",
        "# Generate embeddings for the tokenized_record using the SGPT model in batches\n",
        "records_embeddings = []\n",
        "for i in range(num_batches):\n",
        "    start_idx = i * batch_size\n",
        "    end_idx = (i + 1) * batch_size\n",
        "    end_idx = end_idx if end_idx <= len(tokenized_record.input_ids) else len(tokenized_record.input_ids)\n",
        "\n",
        "    batch_input_ids = tokenized_record['input_ids'][start_idx:end_idx].to(device)\n",
        "    batch_attention_mask = tokenized_record['attention_mask'][start_idx:end_idx].to(device)\n",
        "\n",
        "    records_embeddings.append(getEmbeddings(batch_input_ids, batch_attention_mask))\n",
        "\n",
        "records_embeddings = torch.cat(records_embeddings, dim=0)\n",
        "records_embeddings.shape"
      ],
      "metadata": {
        "id": "MLZRItXrkNn6"
      },
      "execution_count": null,
      "outputs": []
    },
    {
      "cell_type": "markdown",
      "source": [
        "### Save embeddings"
      ],
      "metadata": {
        "id": "hFr9BAcFyg-8"
      }
    },
    {
      "cell_type": "code",
      "source": [
        "torch.save(records_embeddings, DATA_PATH + 'data/new_embeddings/sgpt_records_embeddings.pt')"
      ],
      "metadata": {
        "colab": {
          "base_uri": "https://localhost:8080/",
          "height": 205
        },
        "id": "q9sEiGEYyhTC",
        "outputId": "41381933-b8e1-41e5-befa-7229ea6209e1"
      },
      "execution_count": null,
      "outputs": [
        {
          "output_type": "error",
          "ename": "NameError",
          "evalue": "ignored",
          "traceback": [
            "\u001b[0;31m---------------------------------------------------------------------------\u001b[0m",
            "\u001b[0;31mNameError\u001b[0m                                 Traceback (most recent call last)",
            "\u001b[0;32m<ipython-input-18-4556bc36bb52>\u001b[0m in \u001b[0;36m<cell line: 1>\u001b[0;34m()\u001b[0m\n\u001b[0;32m----> 1\u001b[0;31m \u001b[0mrecords_embeddings\u001b[0m \u001b[0;34m=\u001b[0m \u001b[0mtorch\u001b[0m\u001b[0;34m.\u001b[0m\u001b[0mcat\u001b[0m\u001b[0;34m(\u001b[0m\u001b[0mrecords_embeddings\u001b[0m\u001b[0;34m,\u001b[0m \u001b[0mdim\u001b[0m\u001b[0;34m=\u001b[0m\u001b[0;36m0\u001b[0m\u001b[0;34m)\u001b[0m\u001b[0;34m\u001b[0m\u001b[0;34m\u001b[0m\u001b[0m\n\u001b[0m\u001b[1;32m      2\u001b[0m \u001b[0mprint\u001b[0m\u001b[0;34m(\u001b[0m\u001b[0mrecords_embeddings\u001b[0m\u001b[0;34m.\u001b[0m\u001b[0mshape\u001b[0m\u001b[0;34m)\u001b[0m\u001b[0;34m\u001b[0m\u001b[0;34m\u001b[0m\u001b[0m\n\u001b[1;32m      3\u001b[0m \u001b[0mtorch\u001b[0m\u001b[0;34m.\u001b[0m\u001b[0msave\u001b[0m\u001b[0;34m(\u001b[0m\u001b[0mrecords_embeddings\u001b[0m\u001b[0;34m,\u001b[0m \u001b[0mDATA_PATH\u001b[0m \u001b[0;34m+\u001b[0m \u001b[0;34m'data/new_embeddings/sgpt_records_embeddings.pt'\u001b[0m\u001b[0;34m)\u001b[0m\u001b[0;34m\u001b[0m\u001b[0;34m\u001b[0m\u001b[0m\n",
            "\u001b[0;31mNameError\u001b[0m: name 'records_embeddings' is not defined"
          ]
        }
      ]
    },
    {
      "cell_type": "markdown",
      "source": [
        "### Generate embeddings for name and description of taxonomy"
      ],
      "metadata": {
        "id": "MDZqtyYTyXau"
      }
    },
    {
      "cell_type": "code",
      "source": [
        "taxonomy_description = taxonomy['description'].tolist()\n",
        "taxonomy_name = taxonomy['name'].tolist()\n",
        "taxonomy_data = []\n",
        "for i in range(len(taxonomy_name)):\n",
        "    taxonomy_data.append(taxonomy_name[i] + ': ' + taxonomy_description[i])\n",
        "tokenized_taxonomy = tokenizer(taxonomy_data, padding='max_length', max_length=512, truncation=True, return_tensors=\"pt\").to(device)"
      ],
      "metadata": {
        "id": "nwudSvkMx5R1"
      },
      "execution_count": null,
      "outputs": []
    },
    {
      "cell_type": "code",
      "source": [
        "batch_size = 16\n",
        "\n",
        "num_batches = math.ceil(len(tokenized_taxonomy.input_ids)/batch_size)\n",
        "\n",
        "# Generate embeddings for the tokenized_taxonomy using the SGPT model in batches\n",
        "taxonomy_embeddings = []\n",
        "for i in range(num_batches):\n",
        "    start_idx = i * batch_size\n",
        "    end_idx = (i + 1) * batch_size\n",
        "    end_idx = end_idx if end_idx <= len(tokenized_taxonomy.input_ids) else len(tokenized_taxonomy.input_ids)\n",
        "\n",
        "    batch_input_ids = tokenized_taxonomy['input_ids'][start_idx:end_idx].to(device)\n",
        "    batch_attention_mask = tokenized_taxonomy['attention_mask'][start_idx:end_idx].to(device)\n",
        "\n",
        "    taxonomy_embeddings.append(getEmbeddings(batch_input_ids, batch_attention_mask))\n",
        "\n",
        "taxonomy_embeddings = torch.cat(taxonomy_embeddings, dim=0)\n",
        "taxonomy_embeddings.shape"
      ],
      "metadata": {
        "colab": {
          "base_uri": "https://localhost:8080/"
        },
        "id": "BTatEv7qk6Wx",
        "outputId": "deb44dfd-cedd-44c5-f718-e00cc8e60adf"
      },
      "execution_count": null,
      "outputs": [
        {
          "output_type": "execute_result",
          "data": {
            "text/plain": [
              "torch.Size([277, 2048])"
            ]
          },
          "metadata": {},
          "execution_count": 12
        }
      ]
    },
    {
      "cell_type": "markdown",
      "source": [
        "### Save embeddings"
      ],
      "metadata": {
        "id": "Fe8QpzKYk86I"
      }
    },
    {
      "cell_type": "code",
      "source": [
        "torch.save(taxonomy_embeddings, DATA_PATH + 'data/new_embeddings/sgpt_taxonomy_embeddings.pt')"
      ],
      "metadata": {
        "colab": {
          "base_uri": "https://localhost:8080/"
        },
        "id": "xl-Ft9qgk_UI",
        "outputId": "ee04bbc1-78c2-4353-aa07-cbf17067e157"
      },
      "execution_count": null,
      "outputs": [
        {
          "output_type": "stream",
          "name": "stdout",
          "text": [
            "torch.Size([192, 2048])\n"
          ]
        }
      ]
    },
    {
      "cell_type": "markdown",
      "source": [
        "## Prediction"
      ],
      "metadata": {
        "id": "FzoC7voKx93b"
      }
    },
    {
      "cell_type": "code",
      "source": [
        "def find_largest_numbers(lst):\n",
        "    # Create a list of tuples containing numbers and their indices\n",
        "    indexed_numbers = [(num, index) for index, num in enumerate(lst)]\n",
        "\n",
        "    # Sort the list in descending order based on the numbers\n",
        "    sorted_numbers = sorted(indexed_numbers, key=lambda x: x[0], reverse=True)\n",
        "\n",
        "    # Extract the ten largest numbers and their indices\n",
        "    largest_numbers = sorted_numbers[:10]\n",
        "\n",
        "    return largest_numbers"
      ],
      "metadata": {
        "id": "64PaVEL-y7lX"
      },
      "execution_count": null,
      "outputs": []
    },
    {
      "cell_type": "code",
      "source": [
        "# Randomly choose 10 info sheets\n",
        "search_term_indices = [random.randint(0, len(infoSheet.index)) for i in range(10)]\n",
        "search_term_indices"
      ],
      "metadata": {
        "colab": {
          "base_uri": "https://localhost:8080/"
        },
        "id": "HkLNYdZWx_4w",
        "outputId": "e59ca41f-dccd-4aa5-d95e-5962ad48abf1"
      },
      "execution_count": null,
      "outputs": [
        {
          "output_type": "execute_result",
          "data": {
            "text/plain": [
              "[90, 262, 287, 271, 287, 22, 220, 323, 27, 14]"
            ]
          },
          "metadata": {},
          "execution_count": 14
        }
      ]
    },
    {
      "cell_type": "code",
      "source": [
        "predictions = {'infoSheet_id': [], 'pred_taxonomy_id': [], 'similarity_score': [], 'gold_taxonomy_id': []}\n",
        "\n",
        "for search_term_idx in search_term_indices:\n",
        "    cos_sim = []\n",
        "    for taxonomy_idx in range(len(taxonomy_embeddings)):\n",
        "        cos_sim.append(1 - cosine(infoSheet_embeddings[search_term_idx], taxonomy_embeddings[taxonomy_idx]))\n",
        "\n",
        "    lst = find_largest_numbers(cos_sim)\n",
        "    for each in lst:\n",
        "        if each[0] >= 0.7:\n",
        "            predictions['infoSheet_id'].append(search_term_idx)\n",
        "            predictions['pred_taxonomy_id'].append(each[1])\n",
        "            predictions['similarity_score'].append(each[0])\n",
        "            predictions['gold_taxonomy_id'].append(infoSheet['taxonomy heading ids'][search_term_idx].split(','))\n",
        "\n",
        "print('Length of predictions: ', len(predictions['infoSheet_id']))\n",
        "predictions = pd.DataFrame(predictions)\n",
        "predictions.head(10)"
      ],
      "metadata": {
        "colab": {
          "base_uri": "https://localhost:8080/",
          "height": 507
        },
        "id": "hIEjtCQByuNq",
        "outputId": "3a8f7ac1-188c-45b6-af5b-e95f4ef5dfcc"
      },
      "execution_count": null,
      "outputs": [
        {
          "output_type": "error",
          "ename": "KeyError",
          "evalue": "ignored",
          "traceback": [
            "\u001b[0;31m---------------------------------------------------------------------------\u001b[0m",
            "\u001b[0;31mKeyError\u001b[0m                                  Traceback (most recent call last)",
            "\u001b[0;32m/usr/local/lib/python3.10/dist-packages/pandas/core/indexes/base.py\u001b[0m in \u001b[0;36mget_loc\u001b[0;34m(self, key, method, tolerance)\u001b[0m\n\u001b[1;32m   3801\u001b[0m             \u001b[0;32mtry\u001b[0m\u001b[0;34m:\u001b[0m\u001b[0;34m\u001b[0m\u001b[0;34m\u001b[0m\u001b[0m\n\u001b[0;32m-> 3802\u001b[0;31m                 \u001b[0;32mreturn\u001b[0m \u001b[0mself\u001b[0m\u001b[0;34m.\u001b[0m\u001b[0m_engine\u001b[0m\u001b[0;34m.\u001b[0m\u001b[0mget_loc\u001b[0m\u001b[0;34m(\u001b[0m\u001b[0mcasted_key\u001b[0m\u001b[0;34m)\u001b[0m\u001b[0;34m\u001b[0m\u001b[0;34m\u001b[0m\u001b[0m\n\u001b[0m\u001b[1;32m   3803\u001b[0m             \u001b[0;32mexcept\u001b[0m \u001b[0mKeyError\u001b[0m \u001b[0;32mas\u001b[0m \u001b[0merr\u001b[0m\u001b[0;34m:\u001b[0m\u001b[0;34m\u001b[0m\u001b[0;34m\u001b[0m\u001b[0m\n",
            "\u001b[0;32m/usr/local/lib/python3.10/dist-packages/pandas/_libs/index.pyx\u001b[0m in \u001b[0;36mpandas._libs.index.IndexEngine.get_loc\u001b[0;34m()\u001b[0m\n",
            "\u001b[0;32m/usr/local/lib/python3.10/dist-packages/pandas/_libs/index.pyx\u001b[0m in \u001b[0;36mpandas._libs.index.IndexEngine.get_loc\u001b[0;34m()\u001b[0m\n",
            "\u001b[0;32mpandas/_libs/hashtable_class_helper.pxi\u001b[0m in \u001b[0;36mpandas._libs.hashtable.Int64HashTable.get_item\u001b[0;34m()\u001b[0m\n",
            "\u001b[0;32mpandas/_libs/hashtable_class_helper.pxi\u001b[0m in \u001b[0;36mpandas._libs.hashtable.Int64HashTable.get_item\u001b[0;34m()\u001b[0m\n",
            "\u001b[0;31mKeyError\u001b[0m: 22",
            "\nThe above exception was the direct cause of the following exception:\n",
            "\u001b[0;31mKeyError\u001b[0m                                  Traceback (most recent call last)",
            "\u001b[0;32m<ipython-input-16-01a6b814141d>\u001b[0m in \u001b[0;36m<cell line: 3>\u001b[0;34m()\u001b[0m\n\u001b[1;32m     12\u001b[0m             \u001b[0mpredictions\u001b[0m\u001b[0;34m[\u001b[0m\u001b[0;34m'pred_taxonomy_id'\u001b[0m\u001b[0;34m]\u001b[0m\u001b[0;34m.\u001b[0m\u001b[0mappend\u001b[0m\u001b[0;34m(\u001b[0m\u001b[0meach\u001b[0m\u001b[0;34m[\u001b[0m\u001b[0;36m1\u001b[0m\u001b[0;34m]\u001b[0m\u001b[0;34m)\u001b[0m\u001b[0;34m\u001b[0m\u001b[0;34m\u001b[0m\u001b[0m\n\u001b[1;32m     13\u001b[0m             \u001b[0mpredictions\u001b[0m\u001b[0;34m[\u001b[0m\u001b[0;34m'similarity_score'\u001b[0m\u001b[0;34m]\u001b[0m\u001b[0;34m.\u001b[0m\u001b[0mappend\u001b[0m\u001b[0;34m(\u001b[0m\u001b[0meach\u001b[0m\u001b[0;34m[\u001b[0m\u001b[0;36m0\u001b[0m\u001b[0;34m]\u001b[0m\u001b[0;34m)\u001b[0m\u001b[0;34m\u001b[0m\u001b[0;34m\u001b[0m\u001b[0m\n\u001b[0;32m---> 14\u001b[0;31m             \u001b[0mpredictions\u001b[0m\u001b[0;34m[\u001b[0m\u001b[0;34m'gold_taxonomy_id'\u001b[0m\u001b[0;34m]\u001b[0m\u001b[0;34m.\u001b[0m\u001b[0mappend\u001b[0m\u001b[0;34m(\u001b[0m\u001b[0minfoSheet\u001b[0m\u001b[0;34m[\u001b[0m\u001b[0;34m'taxonomy heading ids'\u001b[0m\u001b[0;34m]\u001b[0m\u001b[0;34m[\u001b[0m\u001b[0msearch_term_idx\u001b[0m\u001b[0;34m]\u001b[0m\u001b[0;34m.\u001b[0m\u001b[0msplit\u001b[0m\u001b[0;34m(\u001b[0m\u001b[0;34m','\u001b[0m\u001b[0;34m)\u001b[0m\u001b[0;34m)\u001b[0m\u001b[0;34m\u001b[0m\u001b[0;34m\u001b[0m\u001b[0m\n\u001b[0m\u001b[1;32m     15\u001b[0m \u001b[0;34m\u001b[0m\u001b[0m\n\u001b[1;32m     16\u001b[0m \u001b[0mprint\u001b[0m\u001b[0;34m(\u001b[0m\u001b[0;34m'Length of predictions: '\u001b[0m\u001b[0;34m,\u001b[0m \u001b[0mlen\u001b[0m\u001b[0;34m(\u001b[0m\u001b[0mpredictions\u001b[0m\u001b[0;34m[\u001b[0m\u001b[0;34m'infoSheet_id'\u001b[0m\u001b[0;34m]\u001b[0m\u001b[0;34m)\u001b[0m\u001b[0;34m)\u001b[0m\u001b[0;34m\u001b[0m\u001b[0;34m\u001b[0m\u001b[0m\n",
            "\u001b[0;32m/usr/local/lib/python3.10/dist-packages/pandas/core/series.py\u001b[0m in \u001b[0;36m__getitem__\u001b[0;34m(self, key)\u001b[0m\n\u001b[1;32m    979\u001b[0m \u001b[0;34m\u001b[0m\u001b[0m\n\u001b[1;32m    980\u001b[0m         \u001b[0;32melif\u001b[0m \u001b[0mkey_is_scalar\u001b[0m\u001b[0;34m:\u001b[0m\u001b[0;34m\u001b[0m\u001b[0;34m\u001b[0m\u001b[0m\n\u001b[0;32m--> 981\u001b[0;31m             \u001b[0;32mreturn\u001b[0m \u001b[0mself\u001b[0m\u001b[0;34m.\u001b[0m\u001b[0m_get_value\u001b[0m\u001b[0;34m(\u001b[0m\u001b[0mkey\u001b[0m\u001b[0;34m)\u001b[0m\u001b[0;34m\u001b[0m\u001b[0;34m\u001b[0m\u001b[0m\n\u001b[0m\u001b[1;32m    982\u001b[0m \u001b[0;34m\u001b[0m\u001b[0m\n\u001b[1;32m    983\u001b[0m         \u001b[0;32mif\u001b[0m \u001b[0mis_hashable\u001b[0m\u001b[0;34m(\u001b[0m\u001b[0mkey\u001b[0m\u001b[0;34m)\u001b[0m\u001b[0;34m:\u001b[0m\u001b[0;34m\u001b[0m\u001b[0;34m\u001b[0m\u001b[0m\n",
            "\u001b[0;32m/usr/local/lib/python3.10/dist-packages/pandas/core/series.py\u001b[0m in \u001b[0;36m_get_value\u001b[0;34m(self, label, takeable)\u001b[0m\n\u001b[1;32m   1087\u001b[0m \u001b[0;34m\u001b[0m\u001b[0m\n\u001b[1;32m   1088\u001b[0m         \u001b[0;31m# Similar to Index.get_value, but we do not fall back to positional\u001b[0m\u001b[0;34m\u001b[0m\u001b[0;34m\u001b[0m\u001b[0m\n\u001b[0;32m-> 1089\u001b[0;31m         \u001b[0mloc\u001b[0m \u001b[0;34m=\u001b[0m \u001b[0mself\u001b[0m\u001b[0;34m.\u001b[0m\u001b[0mindex\u001b[0m\u001b[0;34m.\u001b[0m\u001b[0mget_loc\u001b[0m\u001b[0;34m(\u001b[0m\u001b[0mlabel\u001b[0m\u001b[0;34m)\u001b[0m\u001b[0;34m\u001b[0m\u001b[0;34m\u001b[0m\u001b[0m\n\u001b[0m\u001b[1;32m   1090\u001b[0m         \u001b[0;32mreturn\u001b[0m \u001b[0mself\u001b[0m\u001b[0;34m.\u001b[0m\u001b[0mindex\u001b[0m\u001b[0;34m.\u001b[0m\u001b[0m_get_values_for_loc\u001b[0m\u001b[0;34m(\u001b[0m\u001b[0mself\u001b[0m\u001b[0;34m,\u001b[0m \u001b[0mloc\u001b[0m\u001b[0;34m,\u001b[0m \u001b[0mlabel\u001b[0m\u001b[0;34m)\u001b[0m\u001b[0;34m\u001b[0m\u001b[0;34m\u001b[0m\u001b[0m\n\u001b[1;32m   1091\u001b[0m \u001b[0;34m\u001b[0m\u001b[0m\n",
            "\u001b[0;32m/usr/local/lib/python3.10/dist-packages/pandas/core/indexes/base.py\u001b[0m in \u001b[0;36mget_loc\u001b[0;34m(self, key, method, tolerance)\u001b[0m\n\u001b[1;32m   3802\u001b[0m                 \u001b[0;32mreturn\u001b[0m \u001b[0mself\u001b[0m\u001b[0;34m.\u001b[0m\u001b[0m_engine\u001b[0m\u001b[0;34m.\u001b[0m\u001b[0mget_loc\u001b[0m\u001b[0;34m(\u001b[0m\u001b[0mcasted_key\u001b[0m\u001b[0;34m)\u001b[0m\u001b[0;34m\u001b[0m\u001b[0;34m\u001b[0m\u001b[0m\n\u001b[1;32m   3803\u001b[0m             \u001b[0;32mexcept\u001b[0m \u001b[0mKeyError\u001b[0m \u001b[0;32mas\u001b[0m \u001b[0merr\u001b[0m\u001b[0;34m:\u001b[0m\u001b[0;34m\u001b[0m\u001b[0;34m\u001b[0m\u001b[0m\n\u001b[0;32m-> 3804\u001b[0;31m                 \u001b[0;32mraise\u001b[0m \u001b[0mKeyError\u001b[0m\u001b[0;34m(\u001b[0m\u001b[0mkey\u001b[0m\u001b[0;34m)\u001b[0m \u001b[0;32mfrom\u001b[0m \u001b[0merr\u001b[0m\u001b[0;34m\u001b[0m\u001b[0;34m\u001b[0m\u001b[0m\n\u001b[0m\u001b[1;32m   3805\u001b[0m             \u001b[0;32mexcept\u001b[0m \u001b[0mTypeError\u001b[0m\u001b[0;34m:\u001b[0m\u001b[0;34m\u001b[0m\u001b[0;34m\u001b[0m\u001b[0m\n\u001b[1;32m   3806\u001b[0m                 \u001b[0;31m# If we have a listlike key, _check_indexing_error will raise\u001b[0m\u001b[0;34m\u001b[0m\u001b[0;34m\u001b[0m\u001b[0m\n",
            "\u001b[0;31mKeyError\u001b[0m: 22"
          ]
        }
      ]
    },
    {
      "cell_type": "markdown",
      "source": [
        "## Evaluation"
      ],
      "metadata": {
        "id": "5RKGbYhgzD41"
      }
    },
    {
      "cell_type": "code",
      "source": [
        "infoSheet.loc[infoSheet.index == 192]"
      ],
      "metadata": {
        "colab": {
          "base_uri": "https://localhost:8080/",
          "height": 49
        },
        "id": "xlvzGLjAzFbF",
        "outputId": "7ad09b06-5ec9-4393-e34c-9e9e86a092fc"
      },
      "execution_count": null,
      "outputs": [
        {
          "output_type": "execute_result",
          "data": {
            "text/plain": [
              "Empty DataFrame\n",
              "Columns: [ID, name_en, name_fr, abstract_en, abstract_fr, description_en, description_fr, taxonomy heading ids]\n",
              "Index: []"
            ],
            "text/html": [
              "\n",
              "  <div id=\"df-46c0f5b4-3dc1-4d1a-8ba7-986f142b8801\">\n",
              "    <div class=\"colab-df-container\">\n",
              "      <div>\n",
              "<style scoped>\n",
              "    .dataframe tbody tr th:only-of-type {\n",
              "        vertical-align: middle;\n",
              "    }\n",
              "\n",
              "    .dataframe tbody tr th {\n",
              "        vertical-align: top;\n",
              "    }\n",
              "\n",
              "    .dataframe thead th {\n",
              "        text-align: right;\n",
              "    }\n",
              "</style>\n",
              "<table border=\"1\" class=\"dataframe\">\n",
              "  <thead>\n",
              "    <tr style=\"text-align: right;\">\n",
              "      <th></th>\n",
              "      <th>ID</th>\n",
              "      <th>name_en</th>\n",
              "      <th>name_fr</th>\n",
              "      <th>abstract_en</th>\n",
              "      <th>abstract_fr</th>\n",
              "      <th>description_en</th>\n",
              "      <th>description_fr</th>\n",
              "      <th>taxonomy heading ids</th>\n",
              "    </tr>\n",
              "  </thead>\n",
              "  <tbody>\n",
              "  </tbody>\n",
              "</table>\n",
              "</div>\n",
              "      <button class=\"colab-df-convert\" onclick=\"convertToInteractive('df-46c0f5b4-3dc1-4d1a-8ba7-986f142b8801')\"\n",
              "              title=\"Convert this dataframe to an interactive table.\"\n",
              "              style=\"display:none;\">\n",
              "        \n",
              "  <svg xmlns=\"http://www.w3.org/2000/svg\" height=\"24px\"viewBox=\"0 0 24 24\"\n",
              "       width=\"24px\">\n",
              "    <path d=\"M0 0h24v24H0V0z\" fill=\"none\"/>\n",
              "    <path d=\"M18.56 5.44l.94 2.06.94-2.06 2.06-.94-2.06-.94-.94-2.06-.94 2.06-2.06.94zm-11 1L8.5 8.5l.94-2.06 2.06-.94-2.06-.94L8.5 2.5l-.94 2.06-2.06.94zm10 10l.94 2.06.94-2.06 2.06-.94-2.06-.94-.94-2.06-.94 2.06-2.06.94z\"/><path d=\"M17.41 7.96l-1.37-1.37c-.4-.4-.92-.59-1.43-.59-.52 0-1.04.2-1.43.59L10.3 9.45l-7.72 7.72c-.78.78-.78 2.05 0 2.83L4 21.41c.39.39.9.59 1.41.59.51 0 1.02-.2 1.41-.59l7.78-7.78 2.81-2.81c.8-.78.8-2.07 0-2.86zM5.41 20L4 18.59l7.72-7.72 1.47 1.35L5.41 20z\"/>\n",
              "  </svg>\n",
              "      </button>\n",
              "      \n",
              "  <style>\n",
              "    .colab-df-container {\n",
              "      display:flex;\n",
              "      flex-wrap:wrap;\n",
              "      gap: 12px;\n",
              "    }\n",
              "\n",
              "    .colab-df-convert {\n",
              "      background-color: #E8F0FE;\n",
              "      border: none;\n",
              "      border-radius: 50%;\n",
              "      cursor: pointer;\n",
              "      display: none;\n",
              "      fill: #1967D2;\n",
              "      height: 32px;\n",
              "      padding: 0 0 0 0;\n",
              "      width: 32px;\n",
              "    }\n",
              "\n",
              "    .colab-df-convert:hover {\n",
              "      background-color: #E2EBFA;\n",
              "      box-shadow: 0px 1px 2px rgba(60, 64, 67, 0.3), 0px 1px 3px 1px rgba(60, 64, 67, 0.15);\n",
              "      fill: #174EA6;\n",
              "    }\n",
              "\n",
              "    [theme=dark] .colab-df-convert {\n",
              "      background-color: #3B4455;\n",
              "      fill: #D2E3FC;\n",
              "    }\n",
              "\n",
              "    [theme=dark] .colab-df-convert:hover {\n",
              "      background-color: #434B5C;\n",
              "      box-shadow: 0px 1px 3px 1px rgba(0, 0, 0, 0.15);\n",
              "      filter: drop-shadow(0px 1px 2px rgba(0, 0, 0, 0.3));\n",
              "      fill: #FFFFFF;\n",
              "    }\n",
              "  </style>\n",
              "\n",
              "      <script>\n",
              "        const buttonEl =\n",
              "          document.querySelector('#df-46c0f5b4-3dc1-4d1a-8ba7-986f142b8801 button.colab-df-convert');\n",
              "        buttonEl.style.display =\n",
              "          google.colab.kernel.accessAllowed ? 'block' : 'none';\n",
              "\n",
              "        async function convertToInteractive(key) {\n",
              "          const element = document.querySelector('#df-46c0f5b4-3dc1-4d1a-8ba7-986f142b8801');\n",
              "          const dataTable =\n",
              "            await google.colab.kernel.invokeFunction('convertToInteractive',\n",
              "                                                     [key], {});\n",
              "          if (!dataTable) return;\n",
              "\n",
              "          const docLinkHtml = 'Like what you see? Visit the ' +\n",
              "            '<a target=\"_blank\" href=https://colab.research.google.com/notebooks/data_table.ipynb>data table notebook</a>'\n",
              "            + ' to learn more about interactive tables.';\n",
              "          element.innerHTML = '';\n",
              "          dataTable['output_type'] = 'display_data';\n",
              "          await google.colab.output.renderOutput(dataTable, element);\n",
              "          const docLink = document.createElement('div');\n",
              "          docLink.innerHTML = docLinkHtml;\n",
              "          element.appendChild(docLink);\n",
              "        }\n",
              "      </script>\n",
              "    </div>\n",
              "  </div>\n",
              "  "
            ]
          },
          "metadata": {},
          "execution_count": 35
        }
      ]
    },
    {
      "cell_type": "code",
      "source": [
        "taxonomy.loc[taxonomy.index == 219]"
      ],
      "metadata": {
        "colab": {
          "base_uri": "https://localhost:8080/",
          "height": 81
        },
        "id": "P62CW5gH0gOe",
        "outputId": "64ae2f59-6fb4-4378-cc81-ae852bfe6286"
      },
      "execution_count": null,
      "outputs": [
        {
          "output_type": "execute_result",
          "data": {
            "text/plain": [
              "      id                 name  \\\n",
              "219  220  Independent Schools   \n",
              "\n",
              "                                           description  \\\n",
              "219  Independent schools (also known as private sch...   \n",
              "\n",
              "                                          translations  \n",
              "219  {\"name\":{\"en\":\"Independent Schools\",\"fr\":\"Les ...  "
            ],
            "text/html": [
              "\n",
              "  <div id=\"df-af7b5a95-18b3-4f0a-b083-e4bc924e0b8e\">\n",
              "    <div class=\"colab-df-container\">\n",
              "      <div>\n",
              "<style scoped>\n",
              "    .dataframe tbody tr th:only-of-type {\n",
              "        vertical-align: middle;\n",
              "    }\n",
              "\n",
              "    .dataframe tbody tr th {\n",
              "        vertical-align: top;\n",
              "    }\n",
              "\n",
              "    .dataframe thead th {\n",
              "        text-align: right;\n",
              "    }\n",
              "</style>\n",
              "<table border=\"1\" class=\"dataframe\">\n",
              "  <thead>\n",
              "    <tr style=\"text-align: right;\">\n",
              "      <th></th>\n",
              "      <th>id</th>\n",
              "      <th>name</th>\n",
              "      <th>description</th>\n",
              "      <th>translations</th>\n",
              "    </tr>\n",
              "  </thead>\n",
              "  <tbody>\n",
              "    <tr>\n",
              "      <th>219</th>\n",
              "      <td>220</td>\n",
              "      <td>Independent Schools</td>\n",
              "      <td>Independent schools (also known as private sch...</td>\n",
              "      <td>{\"name\":{\"en\":\"Independent Schools\",\"fr\":\"Les ...</td>\n",
              "    </tr>\n",
              "  </tbody>\n",
              "</table>\n",
              "</div>\n",
              "      <button class=\"colab-df-convert\" onclick=\"convertToInteractive('df-af7b5a95-18b3-4f0a-b083-e4bc924e0b8e')\"\n",
              "              title=\"Convert this dataframe to an interactive table.\"\n",
              "              style=\"display:none;\">\n",
              "        \n",
              "  <svg xmlns=\"http://www.w3.org/2000/svg\" height=\"24px\"viewBox=\"0 0 24 24\"\n",
              "       width=\"24px\">\n",
              "    <path d=\"M0 0h24v24H0V0z\" fill=\"none\"/>\n",
              "    <path d=\"M18.56 5.44l.94 2.06.94-2.06 2.06-.94-2.06-.94-.94-2.06-.94 2.06-2.06.94zm-11 1L8.5 8.5l.94-2.06 2.06-.94-2.06-.94L8.5 2.5l-.94 2.06-2.06.94zm10 10l.94 2.06.94-2.06 2.06-.94-2.06-.94-.94-2.06-.94 2.06-2.06.94z\"/><path d=\"M17.41 7.96l-1.37-1.37c-.4-.4-.92-.59-1.43-.59-.52 0-1.04.2-1.43.59L10.3 9.45l-7.72 7.72c-.78.78-.78 2.05 0 2.83L4 21.41c.39.39.9.59 1.41.59.51 0 1.02-.2 1.41-.59l7.78-7.78 2.81-2.81c.8-.78.8-2.07 0-2.86zM5.41 20L4 18.59l7.72-7.72 1.47 1.35L5.41 20z\"/>\n",
              "  </svg>\n",
              "      </button>\n",
              "      \n",
              "  <style>\n",
              "    .colab-df-container {\n",
              "      display:flex;\n",
              "      flex-wrap:wrap;\n",
              "      gap: 12px;\n",
              "    }\n",
              "\n",
              "    .colab-df-convert {\n",
              "      background-color: #E8F0FE;\n",
              "      border: none;\n",
              "      border-radius: 50%;\n",
              "      cursor: pointer;\n",
              "      display: none;\n",
              "      fill: #1967D2;\n",
              "      height: 32px;\n",
              "      padding: 0 0 0 0;\n",
              "      width: 32px;\n",
              "    }\n",
              "\n",
              "    .colab-df-convert:hover {\n",
              "      background-color: #E2EBFA;\n",
              "      box-shadow: 0px 1px 2px rgba(60, 64, 67, 0.3), 0px 1px 3px 1px rgba(60, 64, 67, 0.15);\n",
              "      fill: #174EA6;\n",
              "    }\n",
              "\n",
              "    [theme=dark] .colab-df-convert {\n",
              "      background-color: #3B4455;\n",
              "      fill: #D2E3FC;\n",
              "    }\n",
              "\n",
              "    [theme=dark] .colab-df-convert:hover {\n",
              "      background-color: #434B5C;\n",
              "      box-shadow: 0px 1px 3px 1px rgba(0, 0, 0, 0.15);\n",
              "      filter: drop-shadow(0px 1px 2px rgba(0, 0, 0, 0.3));\n",
              "      fill: #FFFFFF;\n",
              "    }\n",
              "  </style>\n",
              "\n",
              "      <script>\n",
              "        const buttonEl =\n",
              "          document.querySelector('#df-af7b5a95-18b3-4f0a-b083-e4bc924e0b8e button.colab-df-convert');\n",
              "        buttonEl.style.display =\n",
              "          google.colab.kernel.accessAllowed ? 'block' : 'none';\n",
              "\n",
              "        async function convertToInteractive(key) {\n",
              "          const element = document.querySelector('#df-af7b5a95-18b3-4f0a-b083-e4bc924e0b8e');\n",
              "          const dataTable =\n",
              "            await google.colab.kernel.invokeFunction('convertToInteractive',\n",
              "                                                     [key], {});\n",
              "          if (!dataTable) return;\n",
              "\n",
              "          const docLinkHtml = 'Like what you see? Visit the ' +\n",
              "            '<a target=\"_blank\" href=https://colab.research.google.com/notebooks/data_table.ipynb>data table notebook</a>'\n",
              "            + ' to learn more about interactive tables.';\n",
              "          element.innerHTML = '';\n",
              "          dataTable['output_type'] = 'display_data';\n",
              "          await google.colab.output.renderOutput(dataTable, element);\n",
              "          const docLink = document.createElement('div');\n",
              "          docLink.innerHTML = docLinkHtml;\n",
              "          element.appendChild(docLink);\n",
              "        }\n",
              "      </script>\n",
              "    </div>\n",
              "  </div>\n",
              "  "
            ]
          },
          "metadata": {},
          "execution_count": 14
        }
      ]
    },
    {
      "cell_type": "code",
      "source": [
        "retrieved_relevant = 0\n",
        "\n",
        "for idx, row in predictions.iterrows():\n",
        "    if row['pred_taxonomy_id'] + 1 in row['gold_taxonomy_id']:\n",
        "        retrieved_relevant += 1\n",
        "\n",
        "print(retrieved_relevant)\n",
        "print('Precision: ' + str(retrieved_relevant / len(predictions.index)))"
      ],
      "metadata": {
        "colab": {
          "base_uri": "https://localhost:8080/"
        },
        "id": "AaZo4i-L3PXH",
        "outputId": "4985e65d-e201-4755-b3e9-2ee02815dfe0"
      },
      "execution_count": null,
      "outputs": [
        {
          "output_type": "stream",
          "name": "stdout",
          "text": [
            "0\n",
            "Precision: 0.0\n"
          ]
        }
      ]
    }
  ]
}