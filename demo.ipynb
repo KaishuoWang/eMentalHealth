{
  "cells": [
    {
      "cell_type": "code",
      "execution_count": 1,
      "metadata": {
        "colab": {
          "base_uri": "https://localhost:8080/"
        },
        "id": "61aFJxU1YRtu",
        "outputId": "58b7e838-d31e-4bb0-ab69-b81c39bbba96"
      },
      "outputs": [
        {
          "name": "stdout",
          "output_type": "stream",
          "text": [
            "Looking in indexes: https://pypi.org/simple, https://us-python.pkg.dev/colab-wheels/public/simple/\n",
            "Requirement already satisfied: transformers in /usr/local/lib/python3.9/dist-packages (4.27.4)\n",
            "Requirement already satisfied: filelock in /usr/local/lib/python3.9/dist-packages (from transformers) (3.10.7)\n",
            "Requirement already satisfied: pyyaml>=5.1 in /usr/local/lib/python3.9/dist-packages (from transformers) (6.0)\n",
            "Requirement already satisfied: tokenizers!=0.11.3,<0.14,>=0.11.1 in /usr/local/lib/python3.9/dist-packages (from transformers) (0.13.2)\n",
            "Requirement already satisfied: tqdm>=4.27 in /usr/local/lib/python3.9/dist-packages (from transformers) (4.65.0)\n",
            "Requirement already satisfied: huggingface-hub<1.0,>=0.11.0 in /usr/local/lib/python3.9/dist-packages (from transformers) (0.13.3)\n",
            "Requirement already satisfied: requests in /usr/local/lib/python3.9/dist-packages (from transformers) (2.27.1)\n",
            "Requirement already satisfied: numpy>=1.17 in /usr/local/lib/python3.9/dist-packages (from transformers) (1.22.4)\n",
            "Requirement already satisfied: packaging>=20.0 in /usr/local/lib/python3.9/dist-packages (from transformers) (23.0)\n",
            "Requirement already satisfied: regex!=2019.12.17 in /usr/local/lib/python3.9/dist-packages (from transformers) (2022.10.31)\n",
            "Requirement already satisfied: typing-extensions>=3.7.4.3 in /usr/local/lib/python3.9/dist-packages (from huggingface-hub<1.0,>=0.11.0->transformers) (4.5.0)\n",
            "Requirement already satisfied: certifi>=2017.4.17 in /usr/local/lib/python3.9/dist-packages (from requests->transformers) (2022.12.7)\n",
            "Requirement already satisfied: urllib3<1.27,>=1.21.1 in /usr/local/lib/python3.9/dist-packages (from requests->transformers) (1.26.15)\n",
            "Requirement already satisfied: charset-normalizer~=2.0.0 in /usr/local/lib/python3.9/dist-packages (from requests->transformers) (2.0.12)\n",
            "Requirement already satisfied: idna<4,>=2.5 in /usr/local/lib/python3.9/dist-packages (from requests->transformers) (3.4)\n"
          ]
        }
      ],
      "source": [
        "!pip install transformers"
      ]
    },
    {
      "cell_type": "code",
      "execution_count": 4,
      "metadata": {
        "colab": {
          "base_uri": "https://localhost:8080/"
        },
        "id": "eNxYuUAWYMME",
        "outputId": "8bc2fb4f-4341-4ec1-d6fa-4685f32a23dc"
      },
      "outputs": [
        {
          "data": {
            "text/plain": [
              "device(type='mps')"
            ]
          },
          "execution_count": 4,
          "metadata": {},
          "output_type": "execute_result"
        }
      ],
      "source": [
        "import pandas as pd\n",
        "from transformers import BertTokenizer, BertModel\n",
        "import torch\n",
        "import seaborn as sns\n",
        "import re\n",
        "from sklearn.metrics.pairwise import cosine_similarity\n",
        "# from google.colab import drive\n",
        "# drive.mount('/content/gdrive')\n",
        "\n",
        "# Run locally\n",
        "DATA_PATH = ''\n",
        "\n",
        "# KW\n",
        "#DATA_PATH = '/content/gdrive/MyDrive/CSI6900/'\n",
        "\n",
        "# FZ\n",
        "#DATA_PATH = 'gdrive/MyDrive/'\n",
        "\n",
        "device = torch.device(\"mps\" if getattr(torch,'has_mps',False) else \"cuda:0\" if torch.cuda.is_available() else \"cpu\")\n",
        "device"
      ]
    },
    {
      "cell_type": "markdown",
      "metadata": {
        "id": "9vDqn92ez1GD"
      },
      "source": [
        "## Read data"
      ]
    },
    {
      "cell_type": "code",
      "execution_count": 5,
      "metadata": {
        "colab": {
          "base_uri": "https://localhost:8080/",
          "height": 0
        },
        "id": "eHVfVpG2YMMG",
        "outputId": "cc075694-e2b1-41d9-cef0-d5789d67ffc5"
      },
      "outputs": [
        {
          "data": {
            "text/html": [
              "<div>\n",
              "<style scoped>\n",
              "    .dataframe tbody tr th:only-of-type {\n",
              "        vertical-align: middle;\n",
              "    }\n",
              "\n",
              "    .dataframe tbody tr th {\n",
              "        vertical-align: top;\n",
              "    }\n",
              "\n",
              "    .dataframe thead th {\n",
              "        text-align: right;\n",
              "    }\n",
              "</style>\n",
              "<table border=\"1\" class=\"dataframe\">\n",
              "  <thead>\n",
              "    <tr style=\"text-align: right;\">\n",
              "      <th></th>\n",
              "      <th>id</th>\n",
              "      <th>name</th>\n",
              "      <th>description</th>\n",
              "      <th>translations</th>\n",
              "    </tr>\n",
              "  </thead>\n",
              "  <tbody>\n",
              "    <tr>\n",
              "      <th>0</th>\n",
              "      <td>1</td>\n",
              "      <td>Root</td>\n",
              "      <td>Root</td>\n",
              "      <td>{\"name\":{\"en\":\"Root\",\"fr\":null},\"description\":...</td>\n",
              "    </tr>\n",
              "    <tr>\n",
              "      <th>1</th>\n",
              "      <td>2</td>\n",
              "      <td>All Mental Health Resources</td>\n",
              "      <td>&lt;p&gt;\\r\\n\\tThe listings of mental health resourc...</td>\n",
              "      <td>{\"name\":{\"en\":\"All Mental Health Resources\",\"f...</td>\n",
              "    </tr>\n",
              "    <tr>\n",
              "      <th>2</th>\n",
              "      <td>3</td>\n",
              "      <td>Crisis and Emergency</td>\n",
              "      <td>&lt;p&gt;\\r\\n\\tRefers to all programs that provide i...</td>\n",
              "      <td>{\"name\":{\"en\":\"Crisis and Emergency\",\"fr\":\"Res...</td>\n",
              "    </tr>\n",
              "    <tr>\n",
              "      <th>3</th>\n",
              "      <td>4</td>\n",
              "      <td>System Navigation, including Information and R...</td>\n",
              "      <td>&lt;p&gt;\\r\\n\\tAre you looking for help, but don&amp;#39...</td>\n",
              "      <td>{\"name\":{\"en\":\"System Navigation, including In...</td>\n",
              "    </tr>\n",
              "    <tr>\n",
              "      <th>4</th>\n",
              "      <td>5</td>\n",
              "      <td>Child Welfare including Children's Aid Society...</td>\n",
              "      <td>&lt;p&gt;The child welfare / child protection system...</td>\n",
              "      <td>{\"name\":{\"en\":\"Child Welfare including Childre...</td>\n",
              "    </tr>\n",
              "    <tr>\n",
              "      <th>5</th>\n",
              "      <td>6</td>\n",
              "      <td>Emergency Shelter and Housing</td>\n",
              "      <td>&lt;p&gt;\\r\\n\\tThere are various shelters that peopl...</td>\n",
              "      <td>{\"name\":{\"en\":\"Emergency Shelter and Housing\",...</td>\n",
              "    </tr>\n",
              "    <tr>\n",
              "      <th>6</th>\n",
              "      <td>7</td>\n",
              "      <td>Hospital Emergency Department</td>\n",
              "      <td>&lt;p&gt;\\r\\n\\tIs there an emergency such as medical...</td>\n",
              "      <td>{\"name\":{\"en\":\"Hospital Emergency Department\",...</td>\n",
              "    </tr>\n",
              "    <tr>\n",
              "      <th>7</th>\n",
              "      <td>8</td>\n",
              "      <td>Crisis Lines including Telephone, Online and Chat</td>\n",
              "      <td>&lt;p&gt;\\r\\n\\tAre you in a crisis? Crisis lines off...</td>\n",
              "      <td>{\"name\":{\"en\":\"Crisis Lines including Telephon...</td>\n",
              "    </tr>\n",
              "    <tr>\n",
              "      <th>8</th>\n",
              "      <td>9</td>\n",
              "      <td>Psychiatrists</td>\n",
              "      <td>&lt;p&gt;\\r\\n\\tPsychiatrists are medical doctors who...</td>\n",
              "      <td>{\"name\":{\"en\":\"Psychiatrists\",\"fr\":\"Psychiatre...</td>\n",
              "    </tr>\n",
              "    <tr>\n",
              "      <th>9</th>\n",
              "      <td>10</td>\n",
              "      <td>A-Z Mental Health Conditions and Topics</td>\n",
              "      <td>&lt;p&gt;\\r\\n\\tAlphabetical list of mental health to...</td>\n",
              "      <td>{\"name\":{\"en\":\"A-Z Mental Health Conditions an...</td>\n",
              "    </tr>\n",
              "  </tbody>\n",
              "</table>\n",
              "</div>"
            ],
            "text/plain": [
              "   id                                               name  \\\n",
              "0   1                                               Root   \n",
              "1   2                        All Mental Health Resources   \n",
              "2   3                               Crisis and Emergency   \n",
              "3   4  System Navigation, including Information and R...   \n",
              "4   5  Child Welfare including Children's Aid Society...   \n",
              "5   6                      Emergency Shelter and Housing   \n",
              "6   7                      Hospital Emergency Department   \n",
              "7   8  Crisis Lines including Telephone, Online and Chat   \n",
              "8   9                                      Psychiatrists   \n",
              "9  10            A-Z Mental Health Conditions and Topics   \n",
              "\n",
              "                                         description  \\\n",
              "0                                               Root   \n",
              "1  <p>\\r\\n\\tThe listings of mental health resourc...   \n",
              "2  <p>\\r\\n\\tRefers to all programs that provide i...   \n",
              "3  <p>\\r\\n\\tAre you looking for help, but don&#39...   \n",
              "4  <p>The child welfare / child protection system...   \n",
              "5  <p>\\r\\n\\tThere are various shelters that peopl...   \n",
              "6  <p>\\r\\n\\tIs there an emergency such as medical...   \n",
              "7  <p>\\r\\n\\tAre you in a crisis? Crisis lines off...   \n",
              "8  <p>\\r\\n\\tPsychiatrists are medical doctors who...   \n",
              "9  <p>\\r\\n\\tAlphabetical list of mental health to...   \n",
              "\n",
              "                                        translations  \n",
              "0  {\"name\":{\"en\":\"Root\",\"fr\":null},\"description\":...  \n",
              "1  {\"name\":{\"en\":\"All Mental Health Resources\",\"f...  \n",
              "2  {\"name\":{\"en\":\"Crisis and Emergency\",\"fr\":\"Res...  \n",
              "3  {\"name\":{\"en\":\"System Navigation, including In...  \n",
              "4  {\"name\":{\"en\":\"Child Welfare including Childre...  \n",
              "5  {\"name\":{\"en\":\"Emergency Shelter and Housing\",...  \n",
              "6  {\"name\":{\"en\":\"Hospital Emergency Department\",...  \n",
              "7  {\"name\":{\"en\":\"Crisis Lines including Telephon...  \n",
              "8  {\"name\":{\"en\":\"Psychiatrists\",\"fr\":\"Psychiatre...  \n",
              "9  {\"name\":{\"en\":\"A-Z Mental Health Conditions an...  "
            ]
          },
          "execution_count": 5,
          "metadata": {},
          "output_type": "execute_result"
        }
      ],
      "source": [
        "records = pd.read_json(DATA_PATH + 'data/records.json')\n",
        "records = records.drop(['created_at', 'updated_at', 'deleted_at', 'publish', 'academic_credentials', 'age_max', 'age_min', 'last_name', \n",
        "                        'latitude', 'longitude', 'name_of_private_practice', 'fee_description',\t'fee_type',\t'first_name',\t'languages',\n",
        "                        'organization_type', 'original_id',\t'record_type',\t'salutation_type', 'website'], axis=1)\n",
        "\n",
        "taxonomy = pd.read_json(DATA_PATH + 'data/taxonomy_headings.json')\n",
        "taxonomy = taxonomy.drop(['created_at',\t'updated_at',\t'deleted_at', 'alias_of_id', 'short_description',\t'original_id'], axis=1)\n",
        "\n",
        "taxonomy.head(10)"
      ]
    },
    {
      "cell_type": "code",
      "execution_count": 6,
      "metadata": {
        "colab": {
          "base_uri": "https://localhost:8080/",
          "height": 0
        },
        "id": "Ex-2vGgN3Z2d",
        "outputId": "c80061ce-2bef-4f7d-ddde-80f8504298f0"
      },
      "outputs": [
        {
          "data": {
            "image/png": "[encoded data removed]",
            "text/plain": [
              "<Figure size 500x500 with 1 Axes>"
            ]
          },
          "metadata": {},
          "output_type": "display_data"
        },
        {
          "data": {
            "image/png": "[encoded data removed]",
            "text/plain": [
              "<Figure size 500x500 with 1 Axes>"
            ]
          },
          "metadata": {},
          "output_type": "display_data"
        }
      ],
      "source": [
        "records['Description length'] = records.description.apply(len)\n",
        "sns.displot(records, x='Description length')\n",
        "\n",
        "taxonomy['Description length'] = taxonomy.description.apply(len)\n",
        "sns.displot(taxonomy, x='Description length')\n",
        "\n",
        "records = records.drop(['Description length'], axis=1)\n",
        "taxonomy = taxonomy.drop(['Description length'], axis=1)"
      ]
    },
    {
      "cell_type": "markdown",
      "metadata": {
        "id": "Ax84V3ekdb2R"
      },
      "source": [
        "## Preprocessing"
      ]
    },
    {
      "cell_type": "code",
      "execution_count": 7,
      "metadata": {
        "colab": {
          "base_uri": "https://localhost:8080/"
        },
        "id": "gYTt52cOYMMG",
        "outputId": "f5370669-84df-469f-f4f4-f4c9e0df516c"
      },
      "outputs": [
        {
          "name": "stdout",
          "output_type": "stream",
          "text": [
            "Length of records: 6406\n",
            "Length of taxonomy 277\n",
            "Length of records: 6239\n",
            "Length of taxonomy 193\n"
          ]
        }
      ],
      "source": [
        "# Remove empty description\n",
        "print('Length of records:', len(records))\n",
        "print('Length of taxonomy', len(taxonomy))\n",
        "indices = []\n",
        "for index, row in records.iterrows():\n",
        "    if row['description'] == '':\n",
        "        indices.append(index)\n",
        "\n",
        "records = records.drop(records.index[indices])\n",
        "records.reset_index(drop=True, inplace=True)\n",
        "\n",
        "indices = []\n",
        "for index, row in taxonomy.iterrows():\n",
        "    if row['description'] == '':\n",
        "        indices.append(index)\n",
        "\n",
        "taxonomy = taxonomy.drop(taxonomy.index[indices])\n",
        "taxonomy.reset_index(drop=True, inplace=True)\n",
        "\n",
        "print('Length of records:', len(records))\n",
        "print('Length of taxonomy', len(taxonomy))"
      ]
    },
    {
      "cell_type": "code",
      "execution_count": 8,
      "metadata": {
        "id": "pHEaYTZwdeUN"
      },
      "outputs": [],
      "source": [
        "def cleanhtml(raw_html):\n",
        "    CLEANR = re.compile('<.*?>|&([a-z0-9]+|#[0-9]{1,6}|#x[0-9a-f]{1,6});')\n",
        "    cleantext = re.sub(CLEANR, '', raw_html)\n",
        "    return cleantext\n",
        "\n",
        "records['description'] = records['description'].apply(lambda x: cleanhtml(x))\n",
        "taxonomy['description'] = taxonomy['description'].apply(lambda x: cleanhtml(x))"
      ]
    },
    {
      "cell_type": "code",
      "execution_count": 24,
      "metadata": {},
      "outputs": [
        {
          "name": "stdout",
          "output_type": "stream",
          "text": [
            "The listings of mental health resources\n"
          ]
        }
      ],
      "source": [
        "text = '\\r\\n\\tThe listings of mental health resources'\n",
        "print(text.replace('\\r', '').replace('\\n', '').replace('\\t', ''))"
      ]
    },
    {
      "cell_type": "code",
      "execution_count": 9,
      "metadata": {},
      "outputs": [
        {
          "data": {
            "text/html": [
              "<div>\n",
              "<style scoped>\n",
              "    .dataframe tbody tr th:only-of-type {\n",
              "        vertical-align: middle;\n",
              "    }\n",
              "\n",
              "    .dataframe tbody tr th {\n",
              "        vertical-align: top;\n",
              "    }\n",
              "\n",
              "    .dataframe thead th {\n",
              "        text-align: right;\n",
              "    }\n",
              "</style>\n",
              "<table border=\"1\" class=\"dataframe\">\n",
              "  <thead>\n",
              "    <tr style=\"text-align: right;\">\n",
              "      <th></th>\n",
              "      <th>id</th>\n",
              "      <th>name</th>\n",
              "      <th>description</th>\n",
              "      <th>translations</th>\n",
              "    </tr>\n",
              "  </thead>\n",
              "  <tbody>\n",
              "    <tr>\n",
              "      <th>0</th>\n",
              "      <td>1</td>\n",
              "      <td>Root</td>\n",
              "      <td>Root</td>\n",
              "      <td>{\"name\":{\"en\":\"Root\",\"fr\":null},\"description\":...</td>\n",
              "    </tr>\n",
              "    <tr>\n",
              "      <th>1</th>\n",
              "      <td>2</td>\n",
              "      <td>All Mental Health Resources</td>\n",
              "      <td>\\r\\n\\tThe listings of mental health resources ...</td>\n",
              "      <td>{\"name\":{\"en\":\"All Mental Health Resources\",\"f...</td>\n",
              "    </tr>\n",
              "    <tr>\n",
              "      <th>2</th>\n",
              "      <td>3</td>\n",
              "      <td>Crisis and Emergency</td>\n",
              "      <td>\\r\\n\\tRefers to all programs that provide imme...</td>\n",
              "      <td>{\"name\":{\"en\":\"Crisis and Emergency\",\"fr\":\"Res...</td>\n",
              "    </tr>\n",
              "    <tr>\n",
              "      <th>3</th>\n",
              "      <td>4</td>\n",
              "      <td>System Navigation, including Information and R...</td>\n",
              "      <td>\\r\\n\\tAre you looking for help, but dont know ...</td>\n",
              "      <td>{\"name\":{\"en\":\"System Navigation, including In...</td>\n",
              "    </tr>\n",
              "    <tr>\n",
              "      <th>4</th>\n",
              "      <td>5</td>\n",
              "      <td>Child Welfare including Children's Aid Society...</td>\n",
              "      <td>The child welfare / child protection system is...</td>\n",
              "      <td>{\"name\":{\"en\":\"Child Welfare including Childre...</td>\n",
              "    </tr>\n",
              "    <tr>\n",
              "      <th>5</th>\n",
              "      <td>6</td>\n",
              "      <td>Emergency Shelter and Housing</td>\n",
              "      <td>\\r\\n\\tThere are various shelters that people c...</td>\n",
              "      <td>{\"name\":{\"en\":\"Emergency Shelter and Housing\",...</td>\n",
              "    </tr>\n",
              "    <tr>\n",
              "      <th>6</th>\n",
              "      <td>7</td>\n",
              "      <td>Hospital Emergency Department</td>\n",
              "      <td>\\r\\n\\tIs there an emergency such as medical or...</td>\n",
              "      <td>{\"name\":{\"en\":\"Hospital Emergency Department\",...</td>\n",
              "    </tr>\n",
              "    <tr>\n",
              "      <th>7</th>\n",
              "      <td>8</td>\n",
              "      <td>Crisis Lines including Telephone, Online and Chat</td>\n",
              "      <td>\\r\\n\\tAre you in a crisis? Crisis lines offer ...</td>\n",
              "      <td>{\"name\":{\"en\":\"Crisis Lines including Telephon...</td>\n",
              "    </tr>\n",
              "    <tr>\n",
              "      <th>8</th>\n",
              "      <td>9</td>\n",
              "      <td>Psychiatrists</td>\n",
              "      <td>\\r\\n\\tPsychiatrists are medical doctors who ha...</td>\n",
              "      <td>{\"name\":{\"en\":\"Psychiatrists\",\"fr\":\"Psychiatre...</td>\n",
              "    </tr>\n",
              "    <tr>\n",
              "      <th>9</th>\n",
              "      <td>10</td>\n",
              "      <td>A-Z Mental Health Conditions and Topics</td>\n",
              "      <td>\\r\\n\\tAlphabetical list of mental health topic...</td>\n",
              "      <td>{\"name\":{\"en\":\"A-Z Mental Health Conditions an...</td>\n",
              "    </tr>\n",
              "  </tbody>\n",
              "</table>\n",
              "</div>"
            ],
            "text/plain": [
              "   id                                               name  \\\n",
              "0   1                                               Root   \n",
              "1   2                        All Mental Health Resources   \n",
              "2   3                               Crisis and Emergency   \n",
              "3   4  System Navigation, including Information and R...   \n",
              "4   5  Child Welfare including Children's Aid Society...   \n",
              "5   6                      Emergency Shelter and Housing   \n",
              "6   7                      Hospital Emergency Department   \n",
              "7   8  Crisis Lines including Telephone, Online and Chat   \n",
              "8   9                                      Psychiatrists   \n",
              "9  10            A-Z Mental Health Conditions and Topics   \n",
              "\n",
              "                                         description  \\\n",
              "0                                               Root   \n",
              "1  \\r\\n\\tThe listings of mental health resources ...   \n",
              "2  \\r\\n\\tRefers to all programs that provide imme...   \n",
              "3  \\r\\n\\tAre you looking for help, but dont know ...   \n",
              "4  The child welfare / child protection system is...   \n",
              "5  \\r\\n\\tThere are various shelters that people c...   \n",
              "6  \\r\\n\\tIs there an emergency such as medical or...   \n",
              "7  \\r\\n\\tAre you in a crisis? Crisis lines offer ...   \n",
              "8  \\r\\n\\tPsychiatrists are medical doctors who ha...   \n",
              "9  \\r\\n\\tAlphabetical list of mental health topic...   \n",
              "\n",
              "                                        translations  \n",
              "0  {\"name\":{\"en\":\"Root\",\"fr\":null},\"description\":...  \n",
              "1  {\"name\":{\"en\":\"All Mental Health Resources\",\"f...  \n",
              "2  {\"name\":{\"en\":\"Crisis and Emergency\",\"fr\":\"Res...  \n",
              "3  {\"name\":{\"en\":\"System Navigation, including In...  \n",
              "4  {\"name\":{\"en\":\"Child Welfare including Childre...  \n",
              "5  {\"name\":{\"en\":\"Emergency Shelter and Housing\",...  \n",
              "6  {\"name\":{\"en\":\"Hospital Emergency Department\",...  \n",
              "7  {\"name\":{\"en\":\"Crisis Lines including Telephon...  \n",
              "8  {\"name\":{\"en\":\"Psychiatrists\",\"fr\":\"Psychiatre...  \n",
              "9  {\"name\":{\"en\":\"A-Z Mental Health Conditions an...  "
            ]
          },
          "execution_count": 9,
          "metadata": {},
          "output_type": "execute_result"
        }
      ],
      "source": [
        "taxonomy.head(10)"
      ]
    },
    {
      "cell_type": "markdown",
      "metadata": {
        "id": "XHbriT8Ide6t"
      },
      "source": [
        "## Word Embedding"
      ]
    },
    {
      "cell_type": "code",
      "execution_count": 7,
      "metadata": {
        "colab": {
          "base_uri": "https://localhost:8080/"
        },
        "id": "5fWG047UYMMH",
        "outputId": "f1fb462f-4345-492c-df5d-8fe439a41cc9"
      },
      "outputs": [
        {
          "name": "stderr",
          "output_type": "stream",
          "text": [
            "Some weights of the model checkpoint at bert-base-uncased were not used when initializing BertModel: ['cls.seq_relationship.weight', 'cls.predictions.transform.dense.weight', 'cls.predictions.bias', 'cls.predictions.decoder.weight', 'cls.predictions.transform.dense.bias', 'cls.predictions.transform.LayerNorm.bias', 'cls.seq_relationship.bias', 'cls.predictions.transform.LayerNorm.weight']\n",
            "- This IS expected if you are initializing BertModel from the checkpoint of a model trained on another task or with another architecture (e.g. initializing a BertForSequenceClassification model from a BertForPreTraining model).\n",
            "- This IS NOT expected if you are initializing BertModel from the checkpoint of a model that you expect to be exactly identical (initializing a BertForSequenceClassification model from a BertForSequenceClassification model).\n"
          ]
        },
        {
          "data": {
            "text/plain": [
              "BertModel(\n",
              "  (embeddings): BertEmbeddings(\n",
              "    (word_embeddings): Embedding(30522, 768, padding_idx=0)\n",
              "    (position_embeddings): Embedding(512, 768)\n",
              "    (token_type_embeddings): Embedding(2, 768)\n",
              "    (LayerNorm): LayerNorm((768,), eps=1e-12, elementwise_affine=True)\n",
              "    (dropout): Dropout(p=0.1, inplace=False)\n",
              "  )\n",
              "  (encoder): BertEncoder(\n",
              "    (layer): ModuleList(\n",
              "      (0-11): 12 x BertLayer(\n",
              "        (attention): BertAttention(\n",
              "          (self): BertSelfAttention(\n",
              "            (query): Linear(in_features=768, out_features=768, bias=True)\n",
              "            (key): Linear(in_features=768, out_features=768, bias=True)\n",
              "            (value): Linear(in_features=768, out_features=768, bias=True)\n",
              "            (dropout): Dropout(p=0.1, inplace=False)\n",
              "          )\n",
              "          (output): BertSelfOutput(\n",
              "            (dense): Linear(in_features=768, out_features=768, bias=True)\n",
              "            (LayerNorm): LayerNorm((768,), eps=1e-12, elementwise_affine=True)\n",
              "            (dropout): Dropout(p=0.1, inplace=False)\n",
              "          )\n",
              "        )\n",
              "        (intermediate): BertIntermediate(\n",
              "          (dense): Linear(in_features=768, out_features=3072, bias=True)\n",
              "          (intermediate_act_fn): GELUActivation()\n",
              "        )\n",
              "        (output): BertOutput(\n",
              "          (dense): Linear(in_features=3072, out_features=768, bias=True)\n",
              "          (LayerNorm): LayerNorm((768,), eps=1e-12, elementwise_affine=True)\n",
              "          (dropout): Dropout(p=0.1, inplace=False)\n",
              "        )\n",
              "      )\n",
              "    )\n",
              "  )\n",
              "  (pooler): BertPooler(\n",
              "    (dense): Linear(in_features=768, out_features=768, bias=True)\n",
              "    (activation): Tanh()\n",
              "  )\n",
              ")"
            ]
          },
          "execution_count": 7,
          "metadata": {},
          "output_type": "execute_result"
        }
      ],
      "source": [
        "tokenizer = BertTokenizer.from_pretrained('bert-base-uncased')\n",
        "model = BertModel.from_pretrained('bert-base-uncased').to(device)\n",
        "model.eval()"
      ]
    },
    {
      "cell_type": "markdown",
      "metadata": {
        "id": "eY5m4f7YzdQd"
      },
      "source": [
        "### Embed descriptions"
      ]
    },
    {
      "cell_type": "code",
      "execution_count": 8,
      "metadata": {
        "id": "kRh4Sz1d9_Qk"
      },
      "outputs": [],
      "source": [
        "records_description = records['description'].tolist()\n",
        "taxonomy_description = taxonomy['description'].tolist()"
      ]
    },
    {
      "cell_type": "code",
      "execution_count": 15,
      "metadata": {
        "id": "itZTZkJP993L"
      },
      "outputs": [],
      "source": [
        "records_embeddings = []\n",
        "for i in range(len(records_description)):\n",
        "    tokenized_record = tokenizer(records_description[i], padding='max_length', max_length=128, truncation=True, return_tensors='pt').to(device)\n",
        "\n",
        "    with torch.no_grad():\n",
        "        embedding = model(input_ids=tokenized_record['input_ids'],\n",
        "                        attention_mask=tokenized_record['attention_mask'],\n",
        "                        token_type_ids=tokenized_record['token_type_ids'])\n",
        "        embedding = embedding.last_hidden_state.mean(dim=1).cpu().numpy()\n",
        "\n",
        "        records_embeddings.append(embedding)\n",
        "\n",
        "taxonomy_embeddings = []\n",
        "for i in range(len(taxonomy_description)):\n",
        "    tokenized_taxonomy = tokenizer(taxonomy_description[i], padding='max_length', max_length=128, truncation=True, return_tensors='pt').to(device)\n",
        "\n",
        "    with torch.no_grad():\n",
        "        embedding = model(input_ids=tokenized_taxonomy['input_ids'],\n",
        "                        attention_mask=tokenized_taxonomy['attention_mask'],\n",
        "                        token_type_ids=tokenized_taxonomy['token_type_ids'])\n",
        "        embedding = embedding.last_hidden_state.mean(dim=1).cpu().numpy()\n",
        "\n",
        "        taxonomy_embeddings.append(embedding)"
      ]
    },
    {
      "cell_type": "markdown",
      "metadata": {
        "id": "tpzRy3M8zitj"
      },
      "source": [
        "### Embed user input"
      ]
    },
    {
      "cell_type": "code",
      "execution_count": 17,
      "metadata": {
        "id": "wMbcIBhuzmYm"
      },
      "outputs": [],
      "source": [
        "def get_highest_numbers_with_indices(numbers, n=10):\n",
        "    \"\"\"\n",
        "    Returns the n highest numbers in a list along with their indices.\n",
        "    :param numbers: List of numbers\n",
        "    :param n: Number of highest numbers to retrieve (default: 10)\n",
        "    :return: List of tuples containing the highest numbers and their indices\n",
        "    \"\"\"\n",
        "    highest_numbers_with_indices = []\n",
        "    for i, num in enumerate(numbers):\n",
        "        if len(highest_numbers_with_indices) < n:\n",
        "            highest_numbers_with_indices.append((num, i))\n",
        "            highest_numbers_with_indices.sort(reverse=True)\n",
        "        else:\n",
        "            if num > highest_numbers_with_indices[-1][0]:\n",
        "                highest_numbers_with_indices.pop()\n",
        "                highest_numbers_with_indices.append((num, i))\n",
        "                highest_numbers_with_indices.sort(reverse=True)\n",
        "    return highest_numbers_with_indices"
      ]
    },
    {
      "cell_type": "code",
      "execution_count": 18,
      "metadata": {
        "id": "XaOMRXI7gq5d"
      },
      "outputs": [],
      "source": [
        "user_input = 'How to treat depression and anxiety'\n",
        "\n",
        "token = tokenizer(user_input, padding='max_length', max_length=400, truncation=True, return_tensors='pt').to(device)\n",
        "with torch.no_grad():\n",
        "    result = model(token['input_ids'], attention_mask=token['attention_mask'])\n",
        "    embedding = result.last_hidden_state.mean(dim=1).cpu().numpy()"
      ]
    },
    {
      "cell_type": "markdown",
      "metadata": {
        "id": "iJ-njnIkznPE"
      },
      "source": [
        "### Get 10 most similar from records table"
      ]
    },
    {
      "cell_type": "code",
      "execution_count": 26,
      "metadata": {
        "colab": {
          "base_uri": "https://localhost:8080/"
        },
        "id": "RpI5IzX3uX8V",
        "outputId": "fda5fcb2-4f54-40bc-bf29-0c2d4a5b2c39"
      },
      "outputs": [
        {
          "name": "stdout",
          "output_type": "stream",
          "text": [
            "Record id: 3488,\n",
            "Description: Provides therapy for people with anxiety or depression.,\n",
            "Similarity score: 0.844996\n",
            "\n",
            "Record id: 3864,\n",
            "Description: Assessment, consultation and therapy for children.,\n",
            "Similarity score: 0.837317\n",
            "\n",
            "Record id: 3854,\n",
            "Description: Psychotherapy for stress and anger management, anxiety, depression, ADHD and Neurofeedback,\n",
            "Similarity score: 0.834674\n",
            "\n",
            "Record id: 1787,\n",
            "Description: Provides assessment for clients with eating disorders.,\n",
            "Similarity score: 0.834383\n",
            "\n",
            "Record id: 5670,\n",
            "Description: Psychotherapy services in Farsi  English\r\n",
            "For individuals with anxiety, depression, relationships, family issues, stress, life transition,\n",
            "Similarity score: 0.831209\n",
            "\n",
            "Record id: 1786,\n",
            "Description: Provides assessment for clients with eating disorders,\n",
            "Similarity score: 0.828902\n",
            "\n",
            "Record id: 3940,\n",
            "Description: Psychotherapy and Counseling for individuals and couples,\n",
            "Similarity score: 0.827965\n",
            "\n",
            "Record id: 5088,\n",
            "Description: Psychoeducational assessment and counselling for children and adolescents,\n",
            "Similarity score: 0.825608\n",
            "\n",
            "Record id: 3130,\n",
            "Description: Provides counselling, therapy and assessments for adults and adolescents,\n",
            "Similarity score: 0.822009\n",
            "\n",
            "Record id: 5116,\n",
            "Description: Provides psychotherapy for individuals and couples dealing with many different areas including, anxiety, depression, relationship issues, parenting, etc,\n",
            "Similarity score: 0.819876\n",
            "\n"
          ]
        }
      ],
      "source": [
        "similarity_lst = []\n",
        "for i in range(len(records_embeddings)):\n",
        "    similarity_lst.append(cosine_similarity(embedding, records_embeddings[i].reshape(1,-1))[0][0])\n",
        "\n",
        "lst = get_highest_numbers_with_indices(similarity_lst)\n",
        "\n",
        "for each in lst:\n",
        "    print('Record id: %d,\\nDescription: %s,\\nSimilarity score: %5f\\n' % (each[1], records['description'][each[1]], each[0]))"
      ]
    },
    {
      "cell_type": "markdown",
      "metadata": {
        "id": "TMIg8OgIzuD9"
      },
      "source": [
        "### Get 10 most similar from taxonomy table"
      ]
    },
    {
      "cell_type": "code",
      "execution_count": 25,
      "metadata": {
        "colab": {
          "base_uri": "https://localhost:8080/"
        },
        "id": "KdIpZeeruUf5",
        "outputId": "fa9ccae5-d799-4d93-cbc7-1f3a12122bec"
      },
      "outputs": [
        {
          "name": "stdout",
          "output_type": "stream",
          "text": [
            "Record id: 119,\n",
            "Description: \r\n",
            "\tSee Eating Disorders including Anorexia and Bulimia,\n",
            "Similarity score: 0.788178\n",
            "\n",
            "Record id: 117,\n",
            "Description: \r\n",
            "\tSee Eating Disorders including Anorexia and Bulimia,\n",
            "Similarity score: 0.788178\n",
            "\n",
            "Record id: 171,\n",
            "Description: \r\n",
            "\tNeurofeedback isaway of dealing with various brain conditions (such as ADHD, depression, anxiety) by teaching the person to control and self-regulate their brain.,\n",
            "Similarity score: 0.773713\n",
            "\n",
            "Record id: 146,\n",
            "Description: \r\n",
            "\tResources for people with mental health needs who are having problems with the law.,\n",
            "Similarity score: 0.767849\n",
            "\n",
            "Record id: 58,\n",
            "Description: \r\n",
            "\tCounselling and therapy can be helpful for dealing with a wide variety of issues (e.g. stress and coping, relationship problems)and mental health conditions (e.g. depression, anxiety, etc.),\n",
            "Similarity score: 0.754596\n",
            "\n",
            "Record id: 124,\n",
            "Description: \r\n",
            "\tEmployees in the workplace may experience mental health issues. This section has resources specifically for employees, employers and the workplace.,\n",
            "Similarity score: 0.749184\n",
            "\n",
            "Record id: 177,\n",
            "Description: \r\n",
            "\tMedications can sometimes be useful for mental health issues, generally when other non-medication treatments have not been ineffective.,\n",
            "Similarity score: 0.745852\n",
            "\n",
            "Record id: 143,\n",
            "Description: \r\n",
            "\tPrograms that provide mentorship, in which a more experienced person helps a less experienced person.,\n",
            "Similarity score: 0.743614\n",
            "\n",
            "Record id: 34,\n",
            "Description: \r\n",
            "\tThis section has information on how to find different types of (mental) health professionals.,\n",
            "Similarity score: 0.741176\n",
            "\n",
            "Record id: 104,\n",
            "Description: \r\n",
            "\tTherapeutic Boarding Schools offer additional supports for teens that are struggling with problems with emotions, behaviour or self-esteem and motivation.,\n",
            "Similarity score: 0.740707\n",
            "\n"
          ]
        }
      ],
      "source": [
        "similarity_lst = []\n",
        "for i in range(len(taxonomy_embeddings)):\n",
        "    similarity_lst.append(cosine_similarity(embedding, taxonomy_embeddings[i].reshape(1,-1))[0][0])\n",
        "\n",
        "lst = get_highest_numbers_with_indices(similarity_lst)\n",
        "\n",
        "for each in lst:\n",
        "    print('Record id: %d,\\nDescription: %s,\\nSimilarity score: %5f\\n' % (each[1], taxonomy['description'][each[1]], each[0]))"
      ]
    }
  ],
  "metadata": {
    "accelerator": "GPU",
    "colab": {
      "provenance": [],
      "toc_visible": true
    },
    "gpuClass": "standard",
    "kernelspec": {
      "display_name": "torch",
      "language": "python",
      "name": "python3"
    },
    "language_info": {
      "codemirror_mode": {
        "name": "ipython",
        "version": 3
      },
      "file_extension": ".py",
      "mimetype": "text/x-python",
      "name": "python",
      "nbconvert_exporter": "python",
      "pygments_lexer": "ipython3",
      "version": "3.10.10"
    },
    "orig_nbformat": 4
  },
  "nbformat": 4,
  "nbformat_minor": 0
}
