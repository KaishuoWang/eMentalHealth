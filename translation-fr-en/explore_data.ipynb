{
 "cells": [
  {
   "cell_type": "code",
   "execution_count": 10,
   "metadata": {},
   "outputs": [],
   "source": [
    "import pandas as pd\n",
    "import seaborn as sns"
   ]
  },
  {
   "cell_type": "code",
   "execution_count": 11,
   "metadata": {},
   "outputs": [
    {
     "name": "stdout",
     "output_type": "stream",
     "text": [
      "Length:  1500\n"
     ]
    },
    {
     "data": {
      "text/html": [
       "<div>\n",
       "<style scoped>\n",
       "    .dataframe tbody tr th:only-of-type {\n",
       "        vertical-align: middle;\n",
       "    }\n",
       "\n",
       "    .dataframe tbody tr th {\n",
       "        vertical-align: top;\n",
       "    }\n",
       "\n",
       "    .dataframe thead th {\n",
       "        text-align: right;\n",
       "    }\n",
       "</style>\n",
       "<table border=\"1\" class=\"dataframe\">\n",
       "  <thead>\n",
       "    <tr style=\"text-align: right;\">\n",
       "      <th></th>\n",
       "      <th>eng</th>\n",
       "      <th>fr</th>\n",
       "    </tr>\n",
       "  </thead>\n",
       "  <tbody>\n",
       "    <tr>\n",
       "      <th>0</th>\n",
       "      <td>The aim of this study was to investigate the e...</td>\n",
       "      <td>Le but de cette étude était d’étudier l’effet ...</td>\n",
       "    </tr>\n",
       "    <tr>\n",
       "      <th>1</th>\n",
       "      <td>Cardiac arrests are sometimes referred to as c...</td>\n",
       "      <td>Les arrêts cardiaques sont parfois appelés arr...</td>\n",
       "    </tr>\n",
       "    <tr>\n",
       "      <th>2</th>\n",
       "      <td>It’s a long, hollow tube at the end of your di...</td>\n",
       "      <td>C’est un long tube creux à la fin de votre tub...</td>\n",
       "    </tr>\n",
       "    <tr>\n",
       "      <th>3</th>\n",
       "      <td>About 5 percent of people with ulcerative coli...</td>\n",
       "      <td>Environ 5 % des personnes souffrant de colite ...</td>\n",
       "    </tr>\n",
       "    <tr>\n",
       "      <th>4</th>\n",
       "      <td>Post-transplant cancers which are not virus-in...</td>\n",
       "      <td>Les cancers post-greffe qui ne sont pas causés...</td>\n",
       "    </tr>\n",
       "    <tr>\n",
       "      <th>5</th>\n",
       "      <td>Soft tissue injectables and fillers are a non-...</td>\n",
       "      <td>Le remplissage des tissus mous est une option ...</td>\n",
       "    </tr>\n",
       "    <tr>\n",
       "      <th>6</th>\n",
       "      <td>We will investigate if there is a change in yo...</td>\n",
       "      <td>Nous étudions s’il y a un changement dans vos ...</td>\n",
       "    </tr>\n",
       "    <tr>\n",
       "      <th>7</th>\n",
       "      <td>Patients with type 1 and type 2 diabetes melli...</td>\n",
       "      <td>Les patients souffrant de diabète de type 1 et...</td>\n",
       "    </tr>\n",
       "    <tr>\n",
       "      <th>8</th>\n",
       "      <td>The first 6 months will be a wash in period an...</td>\n",
       "      <td>Les 6 premiers mois seront une période de lava...</td>\n",
       "    </tr>\n",
       "    <tr>\n",
       "      <th>9</th>\n",
       "      <td>Polyp-like varices are shown here in the gastr...</td>\n",
       "      <td>Les varices semblables aux polypes sont présen...</td>\n",
       "    </tr>\n",
       "  </tbody>\n",
       "</table>\n",
       "</div>"
      ],
      "text/plain": [
       "                                                 eng  \\\n",
       "0  The aim of this study was to investigate the e...   \n",
       "1  Cardiac arrests are sometimes referred to as c...   \n",
       "2  It’s a long, hollow tube at the end of your di...   \n",
       "3  About 5 percent of people with ulcerative coli...   \n",
       "4  Post-transplant cancers which are not virus-in...   \n",
       "5  Soft tissue injectables and fillers are a non-...   \n",
       "6  We will investigate if there is a change in yo...   \n",
       "7  Patients with type 1 and type 2 diabetes melli...   \n",
       "8  The first 6 months will be a wash in period an...   \n",
       "9  Polyp-like varices are shown here in the gastr...   \n",
       "\n",
       "                                                  fr  \n",
       "0  Le but de cette étude était d’étudier l’effet ...  \n",
       "1  Les arrêts cardiaques sont parfois appelés arr...  \n",
       "2  C’est un long tube creux à la fin de votre tub...  \n",
       "3  Environ 5 % des personnes souffrant de colite ...  \n",
       "4  Les cancers post-greffe qui ne sont pas causés...  \n",
       "5  Le remplissage des tissus mous est une option ...  \n",
       "6  Nous étudions s’il y a un changement dans vos ...  \n",
       "7  Les patients souffrant de diabète de type 1 et...  \n",
       "8  Les 6 premiers mois seront une période de lava...  \n",
       "9  Les varices semblables aux polypes sont présen...  "
      ]
     },
     "execution_count": 11,
     "metadata": {},
     "output_type": "execute_result"
    }
   ],
   "source": [
    "f = open(\"khresmoi-summary-test-set/khresmoi-summary-test.en\", \"r\")\n",
    "train_eng = [x.replace('\\n', '') for x in f]\n",
    "f = open(\"khresmoi-summary-test-set/khresmoi-summary-test.fr\", \"r\")\n",
    "train_fr = [x.replace('\\n', '') for x in f]\n",
    "\n",
    "f = open(\"khresmoi-summary-test-set/khresmoi-summary-dev.en\", \"r\")\n",
    "test_eng = [x.replace('\\n', '') for x in f]\n",
    "f = open(\"khresmoi-summary-test-set/khresmoi-summary-dev.fr\", \"r\")\n",
    "test_fr = [x.replace('\\n', '') for x in f]\n",
    "\n",
    "data = {'eng': train_eng + test_eng, 'fr': train_fr + test_fr}\n",
    "data = pd.DataFrame(data)\n",
    "print('Length: ', len(data))\n",
    "data.head(10)"
   ]
  },
  {
   "cell_type": "code",
   "execution_count": 12,
   "metadata": {},
   "outputs": [
    {
     "name": "stderr",
     "output_type": "stream",
     "text": [
      "/opt/conda/envs/translation/lib/python3.10/site-packages/seaborn/axisgrid.py:118: UserWarning: The figure layout has changed to tight\n",
      "  self._figure.tight_layout(*args, **kwargs)\n",
      "/opt/conda/envs/translation/lib/python3.10/site-packages/seaborn/axisgrid.py:118: UserWarning: The figure layout has changed to tight\n",
      "  self._figure.tight_layout(*args, **kwargs)\n"
     ]
    },
    {
     "data": {
      "image/png": "[encoded data removed]",
      "text/plain": [
       "<Figure size 500x500 with 1 Axes>"
      ]
     },
     "metadata": {},
     "output_type": "display_data"
    },
    {
     "data": {
      "image/png": "[encoded data removed]",
      "text/plain": [
       "<Figure size 500x500 with 1 Axes>"
      ]
     },
     "metadata": {},
     "output_type": "display_data"
    }
   ],
   "source": [
    "data['eng_length'] = data.eng.apply(len)\n",
    "sns.displot(data, x='eng_length')\n",
    "\n",
    "data['fr_length'] = data.fr.apply(len)\n",
    "sns.displot(data, x='fr_length')\n",
    "\n",
    "data = data.drop(['eng_length', 'fr_length'], axis=1)"
   ]
  }
 ],
 "metadata": {
  "kernelspec": {
   "display_name": "translation",
   "language": "python",
   "name": "python3"
  },
  "language_info": {
   "codemirror_mode": {
    "name": "ipython",
    "version": 3
   },
   "file_extension": ".py",
   "mimetype": "text/x-python",
   "name": "python",
   "nbconvert_exporter": "python",
   "pygments_lexer": "ipython3",
   "version": "3.10.12"
  },
  "orig_nbformat": 4
 },
 "nbformat": 4,
 "nbformat_minor": 2
}
