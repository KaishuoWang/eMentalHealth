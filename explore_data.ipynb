{
 "cells": [
  {
   "cell_type": "code",
   "execution_count": 1,
   "metadata": {},
   "outputs": [],
   "source": [
    "import pandas as pd\n",
    "\n",
    "DATA_PATH = ''"
   ]
  },
  {
   "cell_type": "code",
   "execution_count": 3,
   "metadata": {},
   "outputs": [
    {
     "data": {
      "text/html": [
       "<div>\n",
       "<style scoped>\n",
       "    .dataframe tbody tr th:only-of-type {\n",
       "        vertical-align: middle;\n",
       "    }\n",
       "\n",
       "    .dataframe tbody tr th {\n",
       "        vertical-align: top;\n",
       "    }\n",
       "\n",
       "    .dataframe thead th {\n",
       "        text-align: right;\n",
       "    }\n",
       "</style>\n",
       "<table border=\"1\" class=\"dataframe\">\n",
       "  <thead>\n",
       "    <tr style=\"text-align: right;\">\n",
       "      <th></th>\n",
       "      <th>id</th>\n",
       "      <th>name</th>\n",
       "      <th>description</th>\n",
       "      <th>translations</th>\n",
       "    </tr>\n",
       "  </thead>\n",
       "  <tbody>\n",
       "    <tr>\n",
       "      <th>0</th>\n",
       "      <td>1</td>\n",
       "      <td>Root</td>\n",
       "      <td>Root</td>\n",
       "      <td>{\"name\":{\"en\":\"Root\",\"fr\":null},\"description\":...</td>\n",
       "    </tr>\n",
       "    <tr>\n",
       "      <th>1</th>\n",
       "      <td>2</td>\n",
       "      <td>All Mental Health Resources</td>\n",
       "      <td>&lt;p&gt;\\r\\n\\tThe listings of mental health resourc...</td>\n",
       "      <td>{\"name\":{\"en\":\"All Mental Health Resources\",\"f...</td>\n",
       "    </tr>\n",
       "    <tr>\n",
       "      <th>2</th>\n",
       "      <td>3</td>\n",
       "      <td>Crisis and Emergency</td>\n",
       "      <td>&lt;p&gt;\\r\\n\\tRefers to all programs that provide i...</td>\n",
       "      <td>{\"name\":{\"en\":\"Crisis and Emergency\",\"fr\":\"Res...</td>\n",
       "    </tr>\n",
       "    <tr>\n",
       "      <th>3</th>\n",
       "      <td>4</td>\n",
       "      <td>System Navigation, including Information and R...</td>\n",
       "      <td>&lt;p&gt;\\r\\n\\tAre you looking for help, but don&amp;#39...</td>\n",
       "      <td>{\"name\":{\"en\":\"System Navigation, including In...</td>\n",
       "    </tr>\n",
       "    <tr>\n",
       "      <th>4</th>\n",
       "      <td>5</td>\n",
       "      <td>Child Welfare including Children's Aid Society...</td>\n",
       "      <td>&lt;p&gt;The child welfare / child protection system...</td>\n",
       "      <td>{\"name\":{\"en\":\"Child Welfare including Childre...</td>\n",
       "    </tr>\n",
       "    <tr>\n",
       "      <th>5</th>\n",
       "      <td>6</td>\n",
       "      <td>Emergency Shelter and Housing</td>\n",
       "      <td>&lt;p&gt;\\r\\n\\tThere are various shelters that peopl...</td>\n",
       "      <td>{\"name\":{\"en\":\"Emergency Shelter and Housing\",...</td>\n",
       "    </tr>\n",
       "    <tr>\n",
       "      <th>6</th>\n",
       "      <td>7</td>\n",
       "      <td>Hospital Emergency Department</td>\n",
       "      <td>&lt;p&gt;\\r\\n\\tIs there an emergency such as medical...</td>\n",
       "      <td>{\"name\":{\"en\":\"Hospital Emergency Department\",...</td>\n",
       "    </tr>\n",
       "    <tr>\n",
       "      <th>7</th>\n",
       "      <td>8</td>\n",
       "      <td>Crisis Lines including Telephone, Online and Chat</td>\n",
       "      <td>&lt;p&gt;\\r\\n\\tAre you in a crisis? Crisis lines off...</td>\n",
       "      <td>{\"name\":{\"en\":\"Crisis Lines including Telephon...</td>\n",
       "    </tr>\n",
       "    <tr>\n",
       "      <th>8</th>\n",
       "      <td>9</td>\n",
       "      <td>Psychiatrists</td>\n",
       "      <td>&lt;p&gt;\\r\\n\\tPsychiatrists are medical doctors who...</td>\n",
       "      <td>{\"name\":{\"en\":\"Psychiatrists\",\"fr\":\"Psychiatre...</td>\n",
       "    </tr>\n",
       "    <tr>\n",
       "      <th>9</th>\n",
       "      <td>10</td>\n",
       "      <td>A-Z Mental Health Conditions and Topics</td>\n",
       "      <td>&lt;p&gt;\\r\\n\\tAlphabetical list of mental health to...</td>\n",
       "      <td>{\"name\":{\"en\":\"A-Z Mental Health Conditions an...</td>\n",
       "    </tr>\n",
       "  </tbody>\n",
       "</table>\n",
       "</div>"
      ],
      "text/plain": [
       "   id                                               name  \\\n",
       "0   1                                               Root   \n",
       "1   2                        All Mental Health Resources   \n",
       "2   3                               Crisis and Emergency   \n",
       "3   4  System Navigation, including Information and R...   \n",
       "4   5  Child Welfare including Children's Aid Society...   \n",
       "5   6                      Emergency Shelter and Housing   \n",
       "6   7                      Hospital Emergency Department   \n",
       "7   8  Crisis Lines including Telephone, Online and Chat   \n",
       "8   9                                      Psychiatrists   \n",
       "9  10            A-Z Mental Health Conditions and Topics   \n",
       "\n",
       "                                         description  \\\n",
       "0                                               Root   \n",
       "1  <p>\\r\\n\\tThe listings of mental health resourc...   \n",
       "2  <p>\\r\\n\\tRefers to all programs that provide i...   \n",
       "3  <p>\\r\\n\\tAre you looking for help, but don&#39...   \n",
       "4  <p>The child welfare / child protection system...   \n",
       "5  <p>\\r\\n\\tThere are various shelters that peopl...   \n",
       "6  <p>\\r\\n\\tIs there an emergency such as medical...   \n",
       "7  <p>\\r\\n\\tAre you in a crisis? Crisis lines off...   \n",
       "8  <p>\\r\\n\\tPsychiatrists are medical doctors who...   \n",
       "9  <p>\\r\\n\\tAlphabetical list of mental health to...   \n",
       "\n",
       "                                        translations  \n",
       "0  {\"name\":{\"en\":\"Root\",\"fr\":null},\"description\":...  \n",
       "1  {\"name\":{\"en\":\"All Mental Health Resources\",\"f...  \n",
       "2  {\"name\":{\"en\":\"Crisis and Emergency\",\"fr\":\"Res...  \n",
       "3  {\"name\":{\"en\":\"System Navigation, including In...  \n",
       "4  {\"name\":{\"en\":\"Child Welfare including Childre...  \n",
       "5  {\"name\":{\"en\":\"Emergency Shelter and Housing\",...  \n",
       "6  {\"name\":{\"en\":\"Hospital Emergency Department\",...  \n",
       "7  {\"name\":{\"en\":\"Crisis Lines including Telephon...  \n",
       "8  {\"name\":{\"en\":\"Psychiatrists\",\"fr\":\"Psychiatre...  \n",
       "9  {\"name\":{\"en\":\"A-Z Mental Health Conditions an...  "
      ]
     },
     "execution_count": 3,
     "metadata": {},
     "output_type": "execute_result"
    }
   ],
   "source": [
    "records = pd.read_json(DATA_PATH + 'data/records.json')\n",
    "records = records.drop(['created_at', 'updated_at', 'deleted_at', 'publish', 'academic_credentials', 'age_max', 'age_min', 'last_name', \n",
    "                        'latitude', 'longitude', 'name_of_private_practice', 'fee_description',\t'fee_type',\t'first_name',\t'languages',\n",
    "                        'organization_type', 'original_id',\t'record_type',\t'salutation_type', 'website'], axis=1)\n",
    "\n",
    "taxonomy = pd.read_json(DATA_PATH + 'data/taxonomy_headings.json')\n",
    "taxonomy = taxonomy.drop(['created_at',\t'updated_at',\t'deleted_at', 'alias_of_id', 'short_description',\t'original_id'], axis=1)\n",
    "\n",
    "taxonomy.head(10)"
   ]
  },
  {
   "cell_type": "code",
   "execution_count": 4,
   "metadata": {},
   "outputs": [
    {
     "name": "stdout",
     "output_type": "stream",
     "text": [
      "Length of records before preprocessing: 6406\n",
      "Length of taxonomy before preprocessing: 277\n",
      "Length of records after preprocessing: 6239\n",
      "Length of taxonomy after preprocessing: 191\n"
     ]
    }
   ],
   "source": [
    "from pre_processing import PreProcessing\n",
    "records, taxonomy = PreProcessing(records, taxonomy).preprocess()"
   ]
  },
  {
   "cell_type": "code",
   "execution_count": 4,
   "metadata": {},
   "outputs": [
    {
     "data": {
      "text/plain": [
       "'Alphabetical list of mental health topics and conditions.'"
      ]
     },
     "execution_count": 4,
     "metadata": {},
     "output_type": "execute_result"
    }
   ],
   "source": [
    "taxonomy['description'][9]"
   ]
  },
  {
   "cell_type": "code",
   "execution_count": 7,
   "metadata": {},
   "outputs": [
    {
     "name": "stdout",
     "output_type": "stream",
     "text": [
      "A-Z Mental Health Conditions and Topics\n",
      "\n",
      "\tAlphabetical list of mental health topics and conditions.\n"
     ]
    }
   ],
   "source": [
    "print(taxonomy['name'][9])\n",
    "print(taxonomy['description'][9])"
   ]
  },
  {
   "cell_type": "code",
   "execution_count": 6,
   "metadata": {},
   "outputs": [],
   "source": [
    "for index, row in taxonomy.iterrows():\n",
    "    if 'Government, including Policy/Legislation' in row['name']:\n",
    "        print(row['name'])\n",
    "        print(row['description'])"
   ]
  }
 ],
 "metadata": {
  "kernelspec": {
   "display_name": "6900",
   "language": "python",
   "name": "python3"
  },
  "language_info": {
   "codemirror_mode": {
    "name": "ipython",
    "version": 3
   },
   "file_extension": ".py",
   "mimetype": "text/x-python",
   "name": "python",
   "nbconvert_exporter": "python",
   "pygments_lexer": "ipython3",
   "version": "3.10.10"
  },
  "orig_nbformat": 4
 },
 "nbformat": 4,
 "nbformat_minor": 2
}
