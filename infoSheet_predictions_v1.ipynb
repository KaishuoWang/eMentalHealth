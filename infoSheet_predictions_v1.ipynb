{
 "cells": [
  {
   "cell_type": "code",
   "execution_count": 86,
   "metadata": {},
   "outputs": [
    {
     "data": {
      "text/plain": [
       "device(type='mps')"
      ]
     },
     "execution_count": 86,
     "metadata": {},
     "output_type": "execute_result"
    }
   ],
   "source": [
    "import pandas as pd\n",
    "import torch\n",
    "from transformers import AutoTokenizer, AutoModel\n",
    "from scipy.spatial.distance import cosine\n",
    "import random\n",
    "\n",
    "device = torch.device(\"mps\" if getattr(torch,'has_mps',False) else \"cuda:0\" if torch.cuda.is_available() else \"cpu\")\n",
    "device"
   ]
  },
  {
   "attachments": {},
   "cell_type": "markdown",
   "metadata": {},
   "source": [
    "## Load data"
   ]
  },
  {
   "cell_type": "code",
   "execution_count": 87,
   "metadata": {},
   "outputs": [
    {
     "data": {
      "text/html": [
       "<div>\n",
       "<style scoped>\n",
       "    .dataframe tbody tr th:only-of-type {\n",
       "        vertical-align: middle;\n",
       "    }\n",
       "\n",
       "    .dataframe tbody tr th {\n",
       "        vertical-align: top;\n",
       "    }\n",
       "\n",
       "    .dataframe thead th {\n",
       "        text-align: right;\n",
       "    }\n",
       "</style>\n",
       "<table border=\"1\" class=\"dataframe\">\n",
       "  <thead>\n",
       "    <tr style=\"text-align: right;\">\n",
       "      <th></th>\n",
       "      <th>id</th>\n",
       "      <th>name</th>\n",
       "      <th>description</th>\n",
       "      <th>translations</th>\n",
       "    </tr>\n",
       "  </thead>\n",
       "  <tbody>\n",
       "    <tr>\n",
       "      <th>0</th>\n",
       "      <td>1</td>\n",
       "      <td>Root</td>\n",
       "      <td>Root</td>\n",
       "      <td>{\"name\":{\"en\":\"Root\",\"fr\":null},\"description\":...</td>\n",
       "    </tr>\n",
       "    <tr>\n",
       "      <th>1</th>\n",
       "      <td>2</td>\n",
       "      <td>All Mental Health Resources</td>\n",
       "      <td>&lt;p&gt;\\r\\n\\tThe listings of mental health resourc...</td>\n",
       "      <td>{\"name\":{\"en\":\"All Mental Health Resources\",\"f...</td>\n",
       "    </tr>\n",
       "    <tr>\n",
       "      <th>2</th>\n",
       "      <td>3</td>\n",
       "      <td>Crisis and Emergency</td>\n",
       "      <td>&lt;p&gt;\\r\\n\\tRefers to all programs that provide i...</td>\n",
       "      <td>{\"name\":{\"en\":\"Crisis and Emergency\",\"fr\":\"Res...</td>\n",
       "    </tr>\n",
       "    <tr>\n",
       "      <th>3</th>\n",
       "      <td>4</td>\n",
       "      <td>System Navigation, including Information and R...</td>\n",
       "      <td>&lt;p&gt;\\r\\n\\tAre you looking for help, but don&amp;#39...</td>\n",
       "      <td>{\"name\":{\"en\":\"System Navigation, including In...</td>\n",
       "    </tr>\n",
       "    <tr>\n",
       "      <th>4</th>\n",
       "      <td>5</td>\n",
       "      <td>Child Welfare including Children's Aid Society...</td>\n",
       "      <td>&lt;p&gt;The child welfare / child protection system...</td>\n",
       "      <td>{\"name\":{\"en\":\"Child Welfare including Childre...</td>\n",
       "    </tr>\n",
       "    <tr>\n",
       "      <th>5</th>\n",
       "      <td>6</td>\n",
       "      <td>Emergency Shelter and Housing</td>\n",
       "      <td>&lt;p&gt;\\r\\n\\tThere are various shelters that peopl...</td>\n",
       "      <td>{\"name\":{\"en\":\"Emergency Shelter and Housing\",...</td>\n",
       "    </tr>\n",
       "    <tr>\n",
       "      <th>6</th>\n",
       "      <td>7</td>\n",
       "      <td>Hospital Emergency Department</td>\n",
       "      <td>&lt;p&gt;\\r\\n\\tIs there an emergency such as medical...</td>\n",
       "      <td>{\"name\":{\"en\":\"Hospital Emergency Department\",...</td>\n",
       "    </tr>\n",
       "    <tr>\n",
       "      <th>7</th>\n",
       "      <td>8</td>\n",
       "      <td>Crisis Lines including Telephone, Online and Chat</td>\n",
       "      <td>&lt;p&gt;\\r\\n\\tAre you in a crisis? Crisis lines off...</td>\n",
       "      <td>{\"name\":{\"en\":\"Crisis Lines including Telephon...</td>\n",
       "    </tr>\n",
       "    <tr>\n",
       "      <th>8</th>\n",
       "      <td>9</td>\n",
       "      <td>Psychiatrists</td>\n",
       "      <td>&lt;p&gt;\\r\\n\\tPsychiatrists are medical doctors who...</td>\n",
       "      <td>{\"name\":{\"en\":\"Psychiatrists\",\"fr\":\"Psychiatre...</td>\n",
       "    </tr>\n",
       "    <tr>\n",
       "      <th>9</th>\n",
       "      <td>10</td>\n",
       "      <td>A-Z Mental Health Conditions and Topics</td>\n",
       "      <td>&lt;p&gt;\\r\\n\\tAlphabetical list of mental health to...</td>\n",
       "      <td>{\"name\":{\"en\":\"A-Z Mental Health Conditions an...</td>\n",
       "    </tr>\n",
       "  </tbody>\n",
       "</table>\n",
       "</div>"
      ],
      "text/plain": [
       "   id                                               name  \\\n",
       "0   1                                               Root   \n",
       "1   2                        All Mental Health Resources   \n",
       "2   3                               Crisis and Emergency   \n",
       "3   4  System Navigation, including Information and R...   \n",
       "4   5  Child Welfare including Children's Aid Society...   \n",
       "5   6                      Emergency Shelter and Housing   \n",
       "6   7                      Hospital Emergency Department   \n",
       "7   8  Crisis Lines including Telephone, Online and Chat   \n",
       "8   9                                      Psychiatrists   \n",
       "9  10            A-Z Mental Health Conditions and Topics   \n",
       "\n",
       "                                         description  \\\n",
       "0                                               Root   \n",
       "1  <p>\\r\\n\\tThe listings of mental health resourc...   \n",
       "2  <p>\\r\\n\\tRefers to all programs that provide i...   \n",
       "3  <p>\\r\\n\\tAre you looking for help, but don&#39...   \n",
       "4  <p>The child welfare / child protection system...   \n",
       "5  <p>\\r\\n\\tThere are various shelters that peopl...   \n",
       "6  <p>\\r\\n\\tIs there an emergency such as medical...   \n",
       "7  <p>\\r\\n\\tAre you in a crisis? Crisis lines off...   \n",
       "8  <p>\\r\\n\\tPsychiatrists are medical doctors who...   \n",
       "9  <p>\\r\\n\\tAlphabetical list of mental health to...   \n",
       "\n",
       "                                        translations  \n",
       "0  {\"name\":{\"en\":\"Root\",\"fr\":null},\"description\":...  \n",
       "1  {\"name\":{\"en\":\"All Mental Health Resources\",\"f...  \n",
       "2  {\"name\":{\"en\":\"Crisis and Emergency\",\"fr\":\"Res...  \n",
       "3  {\"name\":{\"en\":\"System Navigation, including In...  \n",
       "4  {\"name\":{\"en\":\"Child Welfare including Childre...  \n",
       "5  {\"name\":{\"en\":\"Emergency Shelter and Housing\",...  \n",
       "6  {\"name\":{\"en\":\"Hospital Emergency Department\",...  \n",
       "7  {\"name\":{\"en\":\"Crisis Lines including Telephon...  \n",
       "8  {\"name\":{\"en\":\"Psychiatrists\",\"fr\":\"Psychiatre...  \n",
       "9  {\"name\":{\"en\":\"A-Z Mental Health Conditions an...  "
      ]
     },
     "execution_count": 87,
     "metadata": {},
     "output_type": "execute_result"
    }
   ],
   "source": [
    "taxonomy = pd.read_json('data/taxonomy_headings.json')\n",
    "taxonomy = taxonomy.drop(['created_at',\t'updated_at',\t'deleted_at', 'alias_of_id', 'short_description',\t'original_id'], axis=1)\n",
    "\n",
    "taxonomy.head(10)"
   ]
  },
  {
   "cell_type": "code",
   "execution_count": 88,
   "metadata": {},
   "outputs": [
    {
     "name": "stdout",
     "output_type": "stream",
     "text": [
      "ID                        0\n",
      "name_en                   0\n",
      "name_fr                 138\n",
      "abstract_en              20\n",
      "abstract_fr             146\n",
      "description_en            0\n",
      "description_fr          140\n",
      "taxonomy heading ids      0\n",
      "dtype: int64\n",
      "\n",
      "Number of rows:  346\n"
     ]
    },
    {
     "data": {
      "text/html": [
       "<div>\n",
       "<style scoped>\n",
       "    .dataframe tbody tr th:only-of-type {\n",
       "        vertical-align: middle;\n",
       "    }\n",
       "\n",
       "    .dataframe tbody tr th {\n",
       "        vertical-align: top;\n",
       "    }\n",
       "\n",
       "    .dataframe thead th {\n",
       "        text-align: right;\n",
       "    }\n",
       "</style>\n",
       "<table border=\"1\" class=\"dataframe\">\n",
       "  <thead>\n",
       "    <tr style=\"text-align: right;\">\n",
       "      <th></th>\n",
       "      <th>ID</th>\n",
       "      <th>name_en</th>\n",
       "      <th>name_fr</th>\n",
       "      <th>abstract_en</th>\n",
       "      <th>abstract_fr</th>\n",
       "      <th>description_en</th>\n",
       "      <th>description_fr</th>\n",
       "      <th>taxonomy heading ids</th>\n",
       "    </tr>\n",
       "  </thead>\n",
       "  <tbody>\n",
       "    <tr>\n",
       "      <th>0</th>\n",
       "      <td>84606</td>\n",
       "      <td>ADHD Medication Side Effects: Low Appetite and...</td>\n",
       "      <td>NaN</td>\n",
       "      <td>Stimulants prescribed for ADHD can lead to red...</td>\n",
       "      <td>NaN</td>\n",
       "      <td>Background\\r\\nStimulant medications for attent...</td>\n",
       "      <td>NaN</td>\n",
       "      <td>0</td>\n",
       "    </tr>\n",
       "    <tr>\n",
       "      <th>1</th>\n",
       "      <td>92619</td>\n",
       "      <td>5-HTP (5-hydroxytryptophan)</td>\n",
       "      <td>NaN</td>\n",
       "      <td>5-HTP (5-Hydroxytryptophan) is a natural subst...</td>\n",
       "      <td>NaN</td>\n",
       "      <td>What is 5-HTP?\\r\\n5-HTP (5-Hydroxytryptophan) ...</td>\n",
       "      <td>NaN</td>\n",
       "      <td>0</td>\n",
       "    </tr>\n",
       "    <tr>\n",
       "      <th>2</th>\n",
       "      <td>50150</td>\n",
       "      <td>A Simple Way to Swallow Pills: The Head Postur...</td>\n",
       "      <td>Truc simple pour avaler les pilules: La techni...</td>\n",
       "      <td>Swallowing pills can hard for many children, y...</td>\n",
       "      <td>Il n’est pas seul! Beaucoup d’enfants, de jeun...</td>\n",
       "      <td>\\r\\n\\t\\r\\n\\t\\tDoes your child or teen have pro...</td>\n",
       "      <td>\\r\\n\\t\\r\\n\\t\\tVotre enfant a-t-il de la diffic...</td>\n",
       "      <td>0</td>\n",
       "    </tr>\n",
       "    <tr>\n",
       "      <th>3</th>\n",
       "      <td>8920</td>\n",
       "      <td>Abuse and Domestic Violence</td>\n",
       "      <td>Maltraitance et violence familiale</td>\n",
       "      <td>Abuse is behaviour used to intimidate, isolate...</td>\n",
       "      <td>La maltraitance est un comportement visant à i...</td>\n",
       "      <td>\\r\\n\\tWhat is Abuse and Domestic Violence?\\r\\n...</td>\n",
       "      <td>\\r\\n\\tQu&amp;#39;est-ce que la maltraitance et la ...</td>\n",
       "      <td>0,219,58,8,7,6,50,9,36,54,37</td>\n",
       "    </tr>\n",
       "    <tr>\n",
       "      <th>4</th>\n",
       "      <td>69660</td>\n",
       "      <td>ADHD in Children, Youth and Adults: Informatio...</td>\n",
       "      <td>NaN</td>\n",
       "      <td>Attention deficit hyperactivity disorder (ADHD...</td>\n",
       "      <td>NaN</td>\n",
       "      <td>\\r\\n\\tAbbreviations\\r\\n\\r\\n\\tADHD, attention-d...</td>\n",
       "      <td>NaN</td>\n",
       "      <td>0,13</td>\n",
       "    </tr>\n",
       "  </tbody>\n",
       "</table>\n",
       "</div>"
      ],
      "text/plain": [
       "      ID                                            name_en  \\\n",
       "0  84606  ADHD Medication Side Effects: Low Appetite and...   \n",
       "1  92619                        5-HTP (5-hydroxytryptophan)   \n",
       "2  50150  A Simple Way to Swallow Pills: The Head Postur...   \n",
       "3   8920                        Abuse and Domestic Violence   \n",
       "4  69660  ADHD in Children, Youth and Adults: Informatio...   \n",
       "\n",
       "                                             name_fr  \\\n",
       "0                                                NaN   \n",
       "1                                                NaN   \n",
       "2  Truc simple pour avaler les pilules: La techni...   \n",
       "3                 Maltraitance et violence familiale   \n",
       "4                                                NaN   \n",
       "\n",
       "                                         abstract_en  \\\n",
       "0  Stimulants prescribed for ADHD can lead to red...   \n",
       "1  5-HTP (5-Hydroxytryptophan) is a natural subst...   \n",
       "2  Swallowing pills can hard for many children, y...   \n",
       "3  Abuse is behaviour used to intimidate, isolate...   \n",
       "4  Attention deficit hyperactivity disorder (ADHD...   \n",
       "\n",
       "                                         abstract_fr  \\\n",
       "0                                                NaN   \n",
       "1                                                NaN   \n",
       "2  Il n’est pas seul! Beaucoup d’enfants, de jeun...   \n",
       "3  La maltraitance est un comportement visant à i...   \n",
       "4                                                NaN   \n",
       "\n",
       "                                      description_en  \\\n",
       "0  Background\\r\\nStimulant medications for attent...   \n",
       "1  What is 5-HTP?\\r\\n5-HTP (5-Hydroxytryptophan) ...   \n",
       "2  \\r\\n\\t\\r\\n\\t\\tDoes your child or teen have pro...   \n",
       "3  \\r\\n\\tWhat is Abuse and Domestic Violence?\\r\\n...   \n",
       "4  \\r\\n\\tAbbreviations\\r\\n\\r\\n\\tADHD, attention-d...   \n",
       "\n",
       "                                      description_fr  \\\n",
       "0                                                NaN   \n",
       "1                                                NaN   \n",
       "2  \\r\\n\\t\\r\\n\\t\\tVotre enfant a-t-il de la diffic...   \n",
       "3  \\r\\n\\tQu&#39;est-ce que la maltraitance et la ...   \n",
       "4                                                NaN   \n",
       "\n",
       "           taxonomy heading ids  \n",
       "0                             0  \n",
       "1                             0  \n",
       "2                             0  \n",
       "3  0,219,58,8,7,6,50,9,36,54,37  \n",
       "4                          0,13  "
      ]
     },
     "execution_count": 88,
     "metadata": {},
     "output_type": "execute_result"
    }
   ],
   "source": [
    "infoSheet = pd.read_csv(\"data/infoSheets_2023-05-18.csv\")\n",
    "print(infoSheet.isnull().sum())\n",
    "# infoSheet = infoSheet.dropna(subset=['abstract_en'])\n",
    "# infoSheet.reset_index(drop=True, inplace=True)\n",
    "print('\\nNumber of rows: ', len(infoSheet.index))\n",
    "infoSheet.head(5)"
   ]
  },
  {
   "attachments": {},
   "cell_type": "markdown",
   "metadata": {},
   "source": [
    "## Helper function"
   ]
  },
  {
   "cell_type": "code",
   "execution_count": 89,
   "metadata": {},
   "outputs": [],
   "source": [
    "def find_largest_numbers(lst):\n",
    "    # Create a list of tuples containing numbers and their indices\n",
    "    indexed_numbers = [(num, index) for index, num in enumerate(lst)]\n",
    "    \n",
    "    # Sort the list in descending order based on the numbers\n",
    "    sorted_numbers = sorted(indexed_numbers, key=lambda x: x[0], reverse=True)\n",
    "    \n",
    "    # Extract the ten largest numbers and their indices\n",
    "    largest_numbers = sorted_numbers[:10]\n",
    "\n",
    "    return largest_numbers"
   ]
  },
  {
   "attachments": {},
   "cell_type": "markdown",
   "metadata": {},
   "source": [
    "## Load embeddings"
   ]
  },
  {
   "cell_type": "code",
   "execution_count": 90,
   "metadata": {},
   "outputs": [
    {
     "name": "stdout",
     "output_type": "stream",
     "text": [
      "torch.Size([326, 2048])\n",
      "torch.Size([192, 2048])\n"
     ]
    }
   ],
   "source": [
    "infoSheet_embeddings = torch.load('data/new_embeddings/sgpt_infoSheet_embeddings.pt')\n",
    "print(infoSheet_embeddings.shape)\n",
    "\n",
    "taxonomy_embeddings = torch.load('data/new_embeddings/sgpt_taxonomy_embeddings.pt')\n",
    "print(taxonomy_embeddings.shape)"
   ]
  },
  {
   "attachments": {},
   "cell_type": "markdown",
   "metadata": {},
   "source": [
    "## Prediction"
   ]
  },
  {
   "cell_type": "code",
   "execution_count": 91,
   "metadata": {},
   "outputs": [
    {
     "data": {
      "text/plain": [
       "[32, 221, 193, 116, 227, 285, 81, 64, 129, 278]"
      ]
     },
     "execution_count": 91,
     "metadata": {},
     "output_type": "execute_result"
    }
   ],
   "source": [
    "# Randomly choose 10 info sheets\n",
    "search_term_indices = [random.randint(0, len(infoSheet_embeddings)) for i in range(10)]\n",
    "search_term_indices"
   ]
  },
  {
   "cell_type": "code",
   "execution_count": 92,
   "metadata": {},
   "outputs": [
    {
     "name": "stdout",
     "output_type": "stream",
     "text": [
      "Length of predictions:  9\n"
     ]
    },
    {
     "data": {
      "text/html": [
       "<div>\n",
       "<style scoped>\n",
       "    .dataframe tbody tr th:only-of-type {\n",
       "        vertical-align: middle;\n",
       "    }\n",
       "\n",
       "    .dataframe tbody tr th {\n",
       "        vertical-align: top;\n",
       "    }\n",
       "\n",
       "    .dataframe thead th {\n",
       "        text-align: right;\n",
       "    }\n",
       "</style>\n",
       "<table border=\"1\" class=\"dataframe\">\n",
       "  <thead>\n",
       "    <tr style=\"text-align: right;\">\n",
       "      <th></th>\n",
       "      <th>infoSheet_id</th>\n",
       "      <th>pred_taxonomy_id</th>\n",
       "      <th>similarity_score</th>\n",
       "      <th>gold_taxonomy_id</th>\n",
       "    </tr>\n",
       "  </thead>\n",
       "  <tbody>\n",
       "    <tr>\n",
       "      <th>0</th>\n",
       "      <td>32</td>\n",
       "      <td>14</td>\n",
       "      <td>0.855736</td>\n",
       "      <td>[0, 15]</td>\n",
       "    </tr>\n",
       "    <tr>\n",
       "      <th>1</th>\n",
       "      <td>32</td>\n",
       "      <td>109</td>\n",
       "      <td>0.839885</td>\n",
       "      <td>[0, 15]</td>\n",
       "    </tr>\n",
       "    <tr>\n",
       "      <th>2</th>\n",
       "      <td>32</td>\n",
       "      <td>24</td>\n",
       "      <td>0.713278</td>\n",
       "      <td>[0, 15]</td>\n",
       "    </tr>\n",
       "    <tr>\n",
       "      <th>3</th>\n",
       "      <td>32</td>\n",
       "      <td>12</td>\n",
       "      <td>0.706273</td>\n",
       "      <td>[0, 15]</td>\n",
       "    </tr>\n",
       "    <tr>\n",
       "      <th>4</th>\n",
       "      <td>193</td>\n",
       "      <td>108</td>\n",
       "      <td>0.742943</td>\n",
       "      <td>[0]</td>\n",
       "    </tr>\n",
       "    <tr>\n",
       "      <th>5</th>\n",
       "      <td>227</td>\n",
       "      <td>162</td>\n",
       "      <td>1.000000</td>\n",
       "      <td>[0, 12]</td>\n",
       "    </tr>\n",
       "    <tr>\n",
       "      <th>6</th>\n",
       "      <td>285</td>\n",
       "      <td>74</td>\n",
       "      <td>0.734400</td>\n",
       "      <td>[0, 75]</td>\n",
       "    </tr>\n",
       "    <tr>\n",
       "      <th>7</th>\n",
       "      <td>285</td>\n",
       "      <td>163</td>\n",
       "      <td>0.720279</td>\n",
       "      <td>[0, 75]</td>\n",
       "    </tr>\n",
       "    <tr>\n",
       "      <th>8</th>\n",
       "      <td>129</td>\n",
       "      <td>74</td>\n",
       "      <td>0.720239</td>\n",
       "      <td>[0]</td>\n",
       "    </tr>\n",
       "  </tbody>\n",
       "</table>\n",
       "</div>"
      ],
      "text/plain": [
       "   infoSheet_id  pred_taxonomy_id  similarity_score gold_taxonomy_id\n",
       "0            32                14          0.855736          [0, 15]\n",
       "1            32               109          0.839885          [0, 15]\n",
       "2            32                24          0.713278          [0, 15]\n",
       "3            32                12          0.706273          [0, 15]\n",
       "4           193               108          0.742943              [0]\n",
       "5           227               162          1.000000          [0, 12]\n",
       "6           285                74          0.734400          [0, 75]\n",
       "7           285               163          0.720279          [0, 75]\n",
       "8           129                74          0.720239              [0]"
      ]
     },
     "execution_count": 92,
     "metadata": {},
     "output_type": "execute_result"
    }
   ],
   "source": [
    "predictions = {'infoSheet_id': [], 'pred_taxonomy_id': [], 'similarity_score': [], 'gold_taxonomy_id': []}\n",
    "\n",
    "for search_term_idx in search_term_indices:\n",
    "    cos_sim = []\n",
    "    for taxonomy_idx in range(len(taxonomy_embeddings)):\n",
    "        cos_sim.append(1 - cosine(infoSheet_embeddings[search_term_idx], taxonomy_embeddings[taxonomy_idx]))\n",
    "    \n",
    "    lst = find_largest_numbers(cos_sim)\n",
    "    for each in lst:\n",
    "        if each[0] >= 0.7:\n",
    "            predictions['infoSheet_id'].append(search_term_idx)\n",
    "            predictions['pred_taxonomy_id'].append(each[1])\n",
    "            predictions['similarity_score'].append(each[0])\n",
    "            predictions['gold_taxonomy_id'].append(infoSheet['taxonomy heading ids'][search_term_idx].split(','))\n",
    "\n",
    "print('Length of predictions: ', len(predictions['infoSheet_id']))\n",
    "predictions = pd.DataFrame(predictions)\n",
    "predictions.head(10)"
   ]
  },
  {
   "attachments": {},
   "cell_type": "markdown",
   "metadata": {},
   "source": [
    "## Evaluation"
   ]
  },
  {
   "cell_type": "code",
   "execution_count": 97,
   "metadata": {},
   "outputs": [
    {
     "data": {
      "text/html": [
       "<div>\n",
       "<style scoped>\n",
       "    .dataframe tbody tr th:only-of-type {\n",
       "        vertical-align: middle;\n",
       "    }\n",
       "\n",
       "    .dataframe tbody tr th {\n",
       "        vertical-align: top;\n",
       "    }\n",
       "\n",
       "    .dataframe thead th {\n",
       "        text-align: right;\n",
       "    }\n",
       "</style>\n",
       "<table border=\"1\" class=\"dataframe\">\n",
       "  <thead>\n",
       "    <tr style=\"text-align: right;\">\n",
       "      <th></th>\n",
       "      <th>ID</th>\n",
       "      <th>name_en</th>\n",
       "      <th>name_fr</th>\n",
       "      <th>abstract_en</th>\n",
       "      <th>abstract_fr</th>\n",
       "      <th>description_en</th>\n",
       "      <th>description_fr</th>\n",
       "      <th>taxonomy heading ids</th>\n",
       "    </tr>\n",
       "  </thead>\n",
       "  <tbody>\n",
       "    <tr>\n",
       "      <th>227</th>\n",
       "      <td>49300</td>\n",
       "      <td>Opioid Medications: Information for Patients a...</td>\n",
       "      <td>Les médicaments de type opioïdes : Information...</td>\n",
       "      <td>Opioids are a group of similar medications tha...</td>\n",
       "      <td>Les opioïdes sont un groupe de médicaments sim...</td>\n",
       "      <td>\\r\\n\\tWhat are Opioids?\\r\\n\\r\\n\\tOpioids are a...</td>\n",
       "      <td>\\r\\n\\tQue sont les opio&amp;iuml;des ?\\r\\n\\r\\n\\tLe...</td>\n",
       "      <td>0,12</td>\n",
       "    </tr>\n",
       "  </tbody>\n",
       "</table>\n",
       "</div>"
      ],
      "text/plain": [
       "        ID                                            name_en  \\\n",
       "227  49300  Opioid Medications: Information for Patients a...   \n",
       "\n",
       "                                               name_fr  \\\n",
       "227  Les médicaments de type opioïdes : Information...   \n",
       "\n",
       "                                           abstract_en  \\\n",
       "227  Opioids are a group of similar medications tha...   \n",
       "\n",
       "                                           abstract_fr  \\\n",
       "227  Les opioïdes sont un groupe de médicaments sim...   \n",
       "\n",
       "                                        description_en  \\\n",
       "227  \\r\\n\\tWhat are Opioids?\\r\\n\\r\\n\\tOpioids are a...   \n",
       "\n",
       "                                        description_fr taxonomy heading ids  \n",
       "227  \\r\\n\\tQue sont les opio&iuml;des ?\\r\\n\\r\\n\\tLe...                 0,12  "
      ]
     },
     "execution_count": 97,
     "metadata": {},
     "output_type": "execute_result"
    }
   ],
   "source": [
    "infoSheet.loc[infoSheet.index == 227]"
   ]
  },
  {
   "cell_type": "code",
   "execution_count": 98,
   "metadata": {},
   "outputs": [
    {
     "data": {
      "text/plain": [
       "'Opioid Medications: Information for Patients and Families'"
      ]
     },
     "execution_count": 98,
     "metadata": {},
     "output_type": "execute_result"
    }
   ],
   "source": [
    "infoSheet['name_en'][227]"
   ]
  },
  {
   "cell_type": "code",
   "execution_count": 99,
   "metadata": {},
   "outputs": [
    {
     "data": {
      "text/html": [
       "<div>\n",
       "<style scoped>\n",
       "    .dataframe tbody tr th:only-of-type {\n",
       "        vertical-align: middle;\n",
       "    }\n",
       "\n",
       "    .dataframe tbody tr th {\n",
       "        vertical-align: top;\n",
       "    }\n",
       "\n",
       "    .dataframe thead th {\n",
       "        text-align: right;\n",
       "    }\n",
       "</style>\n",
       "<table border=\"1\" class=\"dataframe\">\n",
       "  <thead>\n",
       "    <tr style=\"text-align: right;\">\n",
       "      <th></th>\n",
       "      <th>id</th>\n",
       "      <th>name</th>\n",
       "      <th>description</th>\n",
       "      <th>translations</th>\n",
       "    </tr>\n",
       "  </thead>\n",
       "  <tbody>\n",
       "    <tr>\n",
       "      <th>162</th>\n",
       "      <td>163</td>\n",
       "      <td>Self Lead</td>\n",
       "      <td></td>\n",
       "      <td>{\"name\":{\"en\":\"Self Lead\",\"fr\":\"Autodirig\\u00e...</td>\n",
       "    </tr>\n",
       "  </tbody>\n",
       "</table>\n",
       "</div>"
      ],
      "text/plain": [
       "      id       name description  \\\n",
       "162  163  Self Lead               \n",
       "\n",
       "                                          translations  \n",
       "162  {\"name\":{\"en\":\"Self Lead\",\"fr\":\"Autodirig\\u00e...  "
      ]
     },
     "execution_count": 99,
     "metadata": {},
     "output_type": "execute_result"
    }
   ],
   "source": [
    "taxonomy.loc[taxonomy.index == 162]"
   ]
  },
  {
   "cell_type": "code",
   "execution_count": 85,
   "metadata": {},
   "outputs": [
    {
     "name": "stdout",
     "output_type": "stream",
     "text": [
      "0\n",
      "Precision: 0.0\n"
     ]
    }
   ],
   "source": [
    "retrieved_relevant = 0\n",
    "\n",
    "for idx, row in predictions.iterrows():\n",
    "    if row['pred_taxonomy_id'] + 1 in row['gold_taxonomy_id']:\n",
    "        retrieved_relevant += 1\n",
    "\n",
    "print(retrieved_relevant)\n",
    "print('Precision: ' + str(retrieved_relevant / len(predictions.index)))"
   ]
  }
 ],
 "metadata": {
  "kernelspec": {
   "display_name": "6900",
   "language": "python",
   "name": "python3"
  },
  "language_info": {
   "codemirror_mode": {
    "name": "ipython",
    "version": 3
   },
   "file_extension": ".py",
   "mimetype": "text/x-python",
   "name": "python",
   "nbconvert_exporter": "python",
   "pygments_lexer": "ipython3",
   "version": "3.10.10"
  },
  "orig_nbformat": 4
 },
 "nbformat": 4,
 "nbformat_minor": 2
}
