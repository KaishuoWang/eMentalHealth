{
 "cells": [
  {
   "cell_type": "code",
   "execution_count": 100,
   "metadata": {},
   "outputs": [
    {
     "data": {
      "text/plain": [
       "device(type='cuda', index=0)"
      ]
     },
     "execution_count": 100,
     "metadata": {},
     "output_type": "execute_result"
    }
   ],
   "source": [
    "import pandas as pd\n",
    "import seaborn as sns\n",
    "from pre_processing import remove_empty, remove_HTML, remove_new_line\n",
    "import torch\n",
    "from transformers import BertTokenizer, BertModel, RobertaTokenizer, RobertaModel, XLNetTokenizer, XLNetModel, AutoTokenizer, AutoModel\n",
    "from scipy.spatial.distance import cosine\n",
    "import random\n",
    "\n",
    "device = torch.device(\"mps\" if getattr(torch,'has_mps',False) else \"cuda:0\" if torch.cuda.is_available() else \"cpu\")\n",
    "device"
   ]
  },
  {
   "attachments": {},
   "cell_type": "markdown",
   "metadata": {},
   "source": [
    "## Load data"
   ]
  },
  {
   "cell_type": "code",
   "execution_count": 101,
   "metadata": {},
   "outputs": [
    {
     "data": {
      "text/html": [
       "<div>\n",
       "<style scoped>\n",
       "    .dataframe tbody tr th:only-of-type {\n",
       "        vertical-align: middle;\n",
       "    }\n",
       "\n",
       "    .dataframe tbody tr th {\n",
       "        vertical-align: top;\n",
       "    }\n",
       "\n",
       "    .dataframe thead th {\n",
       "        text-align: right;\n",
       "    }\n",
       "</style>\n",
       "<table border=\"1\" class=\"dataframe\">\n",
       "  <thead>\n",
       "    <tr style=\"text-align: right;\">\n",
       "      <th></th>\n",
       "      <th>id</th>\n",
       "      <th>name</th>\n",
       "      <th>description</th>\n",
       "      <th>translations</th>\n",
       "    </tr>\n",
       "  </thead>\n",
       "  <tbody>\n",
       "    <tr>\n",
       "      <th>0</th>\n",
       "      <td>1</td>\n",
       "      <td>Root</td>\n",
       "      <td>Root</td>\n",
       "      <td>{\"name\":{\"en\":\"Root\",\"fr\":null},\"description\":...</td>\n",
       "    </tr>\n",
       "    <tr>\n",
       "      <th>1</th>\n",
       "      <td>2</td>\n",
       "      <td>All Mental Health Resources</td>\n",
       "      <td>&lt;p&gt;\\r\\n\\tThe listings of mental health resourc...</td>\n",
       "      <td>{\"name\":{\"en\":\"All Mental Health Resources\",\"f...</td>\n",
       "    </tr>\n",
       "    <tr>\n",
       "      <th>2</th>\n",
       "      <td>3</td>\n",
       "      <td>Crisis and Emergency</td>\n",
       "      <td>&lt;p&gt;\\r\\n\\tRefers to all programs that provide i...</td>\n",
       "      <td>{\"name\":{\"en\":\"Crisis and Emergency\",\"fr\":\"Res...</td>\n",
       "    </tr>\n",
       "    <tr>\n",
       "      <th>3</th>\n",
       "      <td>4</td>\n",
       "      <td>System Navigation, including Information and R...</td>\n",
       "      <td>&lt;p&gt;\\r\\n\\tAre you looking for help, but don&amp;#39...</td>\n",
       "      <td>{\"name\":{\"en\":\"System Navigation, including In...</td>\n",
       "    </tr>\n",
       "    <tr>\n",
       "      <th>4</th>\n",
       "      <td>5</td>\n",
       "      <td>Child Welfare including Children's Aid Society...</td>\n",
       "      <td>&lt;p&gt;The child welfare / child protection system...</td>\n",
       "      <td>{\"name\":{\"en\":\"Child Welfare including Childre...</td>\n",
       "    </tr>\n",
       "    <tr>\n",
       "      <th>5</th>\n",
       "      <td>6</td>\n",
       "      <td>Emergency Shelter and Housing</td>\n",
       "      <td>&lt;p&gt;\\r\\n\\tThere are various shelters that peopl...</td>\n",
       "      <td>{\"name\":{\"en\":\"Emergency Shelter and Housing\",...</td>\n",
       "    </tr>\n",
       "    <tr>\n",
       "      <th>6</th>\n",
       "      <td>7</td>\n",
       "      <td>Hospital Emergency Department</td>\n",
       "      <td>&lt;p&gt;\\r\\n\\tIs there an emergency such as medical...</td>\n",
       "      <td>{\"name\":{\"en\":\"Hospital Emergency Department\",...</td>\n",
       "    </tr>\n",
       "    <tr>\n",
       "      <th>7</th>\n",
       "      <td>8</td>\n",
       "      <td>Crisis Lines including Telephone, Online and Chat</td>\n",
       "      <td>&lt;p&gt;\\r\\n\\tAre you in a crisis? Crisis lines off...</td>\n",
       "      <td>{\"name\":{\"en\":\"Crisis Lines including Telephon...</td>\n",
       "    </tr>\n",
       "    <tr>\n",
       "      <th>8</th>\n",
       "      <td>9</td>\n",
       "      <td>Psychiatrists</td>\n",
       "      <td>&lt;p&gt;\\r\\n\\tPsychiatrists are medical doctors who...</td>\n",
       "      <td>{\"name\":{\"en\":\"Psychiatrists\",\"fr\":\"Psychiatre...</td>\n",
       "    </tr>\n",
       "    <tr>\n",
       "      <th>9</th>\n",
       "      <td>10</td>\n",
       "      <td>A-Z Mental Health Conditions and Topics</td>\n",
       "      <td>&lt;p&gt;\\r\\n\\tAlphabetical list of mental health to...</td>\n",
       "      <td>{\"name\":{\"en\":\"A-Z Mental Health Conditions an...</td>\n",
       "    </tr>\n",
       "  </tbody>\n",
       "</table>\n",
       "</div>"
      ],
      "text/plain": [
       "   id                                               name  \\\n",
       "0   1                                               Root   \n",
       "1   2                        All Mental Health Resources   \n",
       "2   3                               Crisis and Emergency   \n",
       "3   4  System Navigation, including Information and R...   \n",
       "4   5  Child Welfare including Children's Aid Society...   \n",
       "5   6                      Emergency Shelter and Housing   \n",
       "6   7                      Hospital Emergency Department   \n",
       "7   8  Crisis Lines including Telephone, Online and Chat   \n",
       "8   9                                      Psychiatrists   \n",
       "9  10            A-Z Mental Health Conditions and Topics   \n",
       "\n",
       "                                         description  \\\n",
       "0                                               Root   \n",
       "1  <p>\\r\\n\\tThe listings of mental health resourc...   \n",
       "2  <p>\\r\\n\\tRefers to all programs that provide i...   \n",
       "3  <p>\\r\\n\\tAre you looking for help, but don&#39...   \n",
       "4  <p>The child welfare / child protection system...   \n",
       "5  <p>\\r\\n\\tThere are various shelters that peopl...   \n",
       "6  <p>\\r\\n\\tIs there an emergency such as medical...   \n",
       "7  <p>\\r\\n\\tAre you in a crisis? Crisis lines off...   \n",
       "8  <p>\\r\\n\\tPsychiatrists are medical doctors who...   \n",
       "9  <p>\\r\\n\\tAlphabetical list of mental health to...   \n",
       "\n",
       "                                        translations  \n",
       "0  {\"name\":{\"en\":\"Root\",\"fr\":null},\"description\":...  \n",
       "1  {\"name\":{\"en\":\"All Mental Health Resources\",\"f...  \n",
       "2  {\"name\":{\"en\":\"Crisis and Emergency\",\"fr\":\"Res...  \n",
       "3  {\"name\":{\"en\":\"System Navigation, including In...  \n",
       "4  {\"name\":{\"en\":\"Child Welfare including Childre...  \n",
       "5  {\"name\":{\"en\":\"Emergency Shelter and Housing\",...  \n",
       "6  {\"name\":{\"en\":\"Hospital Emergency Department\",...  \n",
       "7  {\"name\":{\"en\":\"Crisis Lines including Telephon...  \n",
       "8  {\"name\":{\"en\":\"Psychiatrists\",\"fr\":\"Psychiatre...  \n",
       "9  {\"name\":{\"en\":\"A-Z Mental Health Conditions an...  "
      ]
     },
     "execution_count": 101,
     "metadata": {},
     "output_type": "execute_result"
    }
   ],
   "source": [
    "taxonomy = pd.read_json('data/taxonomy_headings.json')\n",
    "taxonomy = taxonomy.drop(['created_at',\t'updated_at',\t'deleted_at', 'alias_of_id', 'short_description',\t'original_id'], axis=1)\n",
    "\n",
    "taxonomy.head(10)"
   ]
  },
  {
   "cell_type": "code",
   "execution_count": 102,
   "metadata": {},
   "outputs": [
    {
     "name": "stdout",
     "output_type": "stream",
     "text": [
      "ID                        0\n",
      "name_en                   0\n",
      "name_fr                 138\n",
      "abstract_en              20\n",
      "abstract_fr             146\n",
      "description_en            0\n",
      "description_fr          140\n",
      "taxonomy heading ids      0\n",
      "dtype: int64\n",
      "\n",
      "Number of rows:  326\n"
     ]
    },
    {
     "data": {
      "text/html": [
       "<div>\n",
       "<style scoped>\n",
       "    .dataframe tbody tr th:only-of-type {\n",
       "        vertical-align: middle;\n",
       "    }\n",
       "\n",
       "    .dataframe tbody tr th {\n",
       "        vertical-align: top;\n",
       "    }\n",
       "\n",
       "    .dataframe thead th {\n",
       "        text-align: right;\n",
       "    }\n",
       "</style>\n",
       "<table border=\"1\" class=\"dataframe\">\n",
       "  <thead>\n",
       "    <tr style=\"text-align: right;\">\n",
       "      <th></th>\n",
       "      <th>ID</th>\n",
       "      <th>name_en</th>\n",
       "      <th>name_fr</th>\n",
       "      <th>abstract_en</th>\n",
       "      <th>abstract_fr</th>\n",
       "      <th>description_en</th>\n",
       "      <th>description_fr</th>\n",
       "      <th>taxonomy heading ids</th>\n",
       "    </tr>\n",
       "  </thead>\n",
       "  <tbody>\n",
       "    <tr>\n",
       "      <th>0</th>\n",
       "      <td>84606</td>\n",
       "      <td>ADHD Medication Side Effects: Low Appetite and...</td>\n",
       "      <td>NaN</td>\n",
       "      <td>Stimulants prescribed for ADHD can lead to red...</td>\n",
       "      <td>NaN</td>\n",
       "      <td>Background\\r\\nStimulant medications for attent...</td>\n",
       "      <td>NaN</td>\n",
       "      <td>0</td>\n",
       "    </tr>\n",
       "    <tr>\n",
       "      <th>1</th>\n",
       "      <td>92619</td>\n",
       "      <td>5-HTP (5-hydroxytryptophan)</td>\n",
       "      <td>NaN</td>\n",
       "      <td>5-HTP (5-Hydroxytryptophan) is a natural subst...</td>\n",
       "      <td>NaN</td>\n",
       "      <td>What is 5-HTP?\\r\\n5-HTP (5-Hydroxytryptophan) ...</td>\n",
       "      <td>NaN</td>\n",
       "      <td>0</td>\n",
       "    </tr>\n",
       "    <tr>\n",
       "      <th>2</th>\n",
       "      <td>50150</td>\n",
       "      <td>A Simple Way to Swallow Pills: The Head Postur...</td>\n",
       "      <td>Truc simple pour avaler les pilules: La techni...</td>\n",
       "      <td>Swallowing pills can hard for many children, y...</td>\n",
       "      <td>Il n’est pas seul! Beaucoup d’enfants, de jeun...</td>\n",
       "      <td>\\r\\n\\t\\r\\n\\t\\tDoes your child or teen have pro...</td>\n",
       "      <td>\\r\\n\\t\\r\\n\\t\\tVotre enfant a-t-il de la diffic...</td>\n",
       "      <td>0</td>\n",
       "    </tr>\n",
       "    <tr>\n",
       "      <th>3</th>\n",
       "      <td>8920</td>\n",
       "      <td>Abuse and Domestic Violence</td>\n",
       "      <td>Maltraitance et violence familiale</td>\n",
       "      <td>Abuse is behaviour used to intimidate, isolate...</td>\n",
       "      <td>La maltraitance est un comportement visant à i...</td>\n",
       "      <td>\\r\\n\\tWhat is Abuse and Domestic Violence?\\r\\n...</td>\n",
       "      <td>\\r\\n\\tQu&amp;#39;est-ce que la maltraitance et la ...</td>\n",
       "      <td>0,219,58,8,7,6,50,9,36,54,37</td>\n",
       "    </tr>\n",
       "    <tr>\n",
       "      <th>4</th>\n",
       "      <td>69660</td>\n",
       "      <td>ADHD in Children, Youth and Adults: Informatio...</td>\n",
       "      <td>NaN</td>\n",
       "      <td>Attention deficit hyperactivity disorder (ADHD...</td>\n",
       "      <td>NaN</td>\n",
       "      <td>\\r\\n\\tAbbreviations\\r\\n\\r\\n\\tADHD, attention-d...</td>\n",
       "      <td>NaN</td>\n",
       "      <td>0,13</td>\n",
       "    </tr>\n",
       "  </tbody>\n",
       "</table>\n",
       "</div>"
      ],
      "text/plain": [
       "      ID                                            name_en  \\\n",
       "0  84606  ADHD Medication Side Effects: Low Appetite and...   \n",
       "1  92619                        5-HTP (5-hydroxytryptophan)   \n",
       "2  50150  A Simple Way to Swallow Pills: The Head Postur...   \n",
       "3   8920                        Abuse and Domestic Violence   \n",
       "4  69660  ADHD in Children, Youth and Adults: Informatio...   \n",
       "\n",
       "                                             name_fr  \\\n",
       "0                                                NaN   \n",
       "1                                                NaN   \n",
       "2  Truc simple pour avaler les pilules: La techni...   \n",
       "3                 Maltraitance et violence familiale   \n",
       "4                                                NaN   \n",
       "\n",
       "                                         abstract_en  \\\n",
       "0  Stimulants prescribed for ADHD can lead to red...   \n",
       "1  5-HTP (5-Hydroxytryptophan) is a natural subst...   \n",
       "2  Swallowing pills can hard for many children, y...   \n",
       "3  Abuse is behaviour used to intimidate, isolate...   \n",
       "4  Attention deficit hyperactivity disorder (ADHD...   \n",
       "\n",
       "                                         abstract_fr  \\\n",
       "0                                                NaN   \n",
       "1                                                NaN   \n",
       "2  Il n’est pas seul! Beaucoup d’enfants, de jeun...   \n",
       "3  La maltraitance est un comportement visant à i...   \n",
       "4                                                NaN   \n",
       "\n",
       "                                      description_en  \\\n",
       "0  Background\\r\\nStimulant medications for attent...   \n",
       "1  What is 5-HTP?\\r\\n5-HTP (5-Hydroxytryptophan) ...   \n",
       "2  \\r\\n\\t\\r\\n\\t\\tDoes your child or teen have pro...   \n",
       "3  \\r\\n\\tWhat is Abuse and Domestic Violence?\\r\\n...   \n",
       "4  \\r\\n\\tAbbreviations\\r\\n\\r\\n\\tADHD, attention-d...   \n",
       "\n",
       "                                      description_fr  \\\n",
       "0                                                NaN   \n",
       "1                                                NaN   \n",
       "2  \\r\\n\\t\\r\\n\\t\\tVotre enfant a-t-il de la diffic...   \n",
       "3  \\r\\n\\tQu&#39;est-ce que la maltraitance et la ...   \n",
       "4                                                NaN   \n",
       "\n",
       "           taxonomy heading ids  \n",
       "0                             0  \n",
       "1                             0  \n",
       "2                             0  \n",
       "3  0,219,58,8,7,6,50,9,36,54,37  \n",
       "4                          0,13  "
      ]
     },
     "execution_count": 102,
     "metadata": {},
     "output_type": "execute_result"
    }
   ],
   "source": [
    "infoSheet = pd.read_csv(\"data/infoSheets_2023-05-18.csv\")\n",
    "print(infoSheet.isnull().sum())\n",
    "infoSheet = infoSheet.dropna(subset=['abstract_en'])\n",
    "infoSheet.reset_index(drop=True, inplace=True)\n",
    "print('\\nNumber of rows: ', len(infoSheet.index))\n",
    "infoSheet.head(5)"
   ]
  },
  {
   "cell_type": "code",
   "execution_count": 103,
   "metadata": {},
   "outputs": [
    {
     "data": {
      "image/png": "[encoded data removed]",
      "text/plain": [
       "<Figure size 500x500 with 1 Axes>"
      ]
     },
     "metadata": {},
     "output_type": "display_data"
    }
   ],
   "source": [
    "infoSheet['Abstract length'] = infoSheet['abstract_en'].apply(len)\n",
    "sns.displot(infoSheet, x='Abstract length')\n",
    "infoSheet = infoSheet.drop(['Abstract length'], axis=1)"
   ]
  },
  {
   "attachments": {},
   "cell_type": "markdown",
   "metadata": {},
   "source": [
    "## Pre-processing"
   ]
  },
  {
   "cell_type": "code",
   "execution_count": 104,
   "metadata": {},
   "outputs": [],
   "source": [
    "infoSheet['description_en'] = infoSheet['description_en'].apply(lambda x: remove_HTML(x))\n",
    "infoSheet['description_en'] = infoSheet['description_en'].apply(lambda x: remove_new_line(x))"
   ]
  },
  {
   "cell_type": "code",
   "execution_count": 105,
   "metadata": {},
   "outputs": [
    {
     "name": "stdout",
     "output_type": "stream",
     "text": [
      "Length of taxonomy before preprocessing: 277\n",
      "Length of taxonomy after preprocessing: 192\n"
     ]
    }
   ],
   "source": [
    "print('Length of taxonomy before preprocessing:', len(taxonomy.index))\n",
    "taxonomy['description'] = taxonomy['description'].apply(lambda x: remove_HTML(x))\n",
    "taxonomy['description'] = taxonomy['description'].apply(lambda x: remove_new_line(x))\n",
    "taxonomy = remove_empty('description', taxonomy)\n",
    "print('Length of taxonomy after preprocessing:', len(taxonomy.index))"
   ]
  },
  {
   "attachments": {},
   "cell_type": "markdown",
   "metadata": {},
   "source": [
    "## Randomly chose 10 taxonomy headings as search terms"
   ]
  },
  {
   "cell_type": "code",
   "execution_count": 106,
   "metadata": {},
   "outputs": [
    {
     "name": "stdout",
     "output_type": "stream",
     "text": [
      "16: Bullying\n",
      "Bullying is a form of aggression where a person is deliberately hurtful to another person. There are many forms, including physical (shoving, hitting, kicking); verbal (put-downs, spreading rumors or gossip); emotional (excluding, tormenting, ridiculing); and social (excluding someone from activities or telling rumors behind someones back). Bullying can occur to people of all ages but is particularly harmful to children.\n",
      "\n",
      "129: Justice Sector (including Law Enforcement, Justice and Corrections)\n",
      "Individuals with mental health needs may come into contact with the Justice Sector, and similarly, those within the Justice Sector may encounter those with mental health needs.\n",
      "\n",
      "57: Women's Shelters\n",
      "Womens shelters are places where women (and their children) can go to stay, and are typically for women fleeing domestic violence from their partners or spouses. Womens shelters offer safe, temporary housing and usually other services to enable a return to independent living such as counselling and referrals to community resources.\n",
      "\n",
      "0: Root\n",
      "Root\n",
      "\n",
      "44: Legal and Justice Resources\n",
      "This section has various legal resources including legal aid, and forensic resources. Forensic resources refers to resources for individuals with mental health problems who have had troubles with the law. This is not an exhaustive list of resources and services, but highlights those which might be of interest to individuals with mental health issues.\n",
      "\n",
      "61: Eye Movement Desensitization and Reprocessing (EMDR)\n",
      "Eye Movement Desensitization and Reprocessing (EMDR) is a treatment reported as being helpful in various conditions such as anxiety, and trauma (such as post-traumatic stress disorder).\n",
      "\n",
      "174: Dyadic Developmental Psychotherapy (DDP)\n",
      "DDP is a therapy and parenting approach that uses what we know about attachment and trauma to help children and families with their relationships. When a child has experienced stresses such as trauma, this can lead the child to become disconnected from the important people in the childs life, and experience problems such as depression, anxiety and behaviour problems. DDP offers a powerful way to reconnect children to the people that are important, thus improving their relationships as well as problems with depression, anxiety and behaviours.\n",
      "\n",
      "117: Anorexia\n",
      "See Eating Disorders including Anorexia and Bulimia\n",
      "\n",
      "80: Stress\n",
      "Stress is the physical and emotional wear and tear that people experience as they cope with their environment, whether at home, work or school. When peoples coping abilities are able to meet the expectations or demands placed on them, stress is minimized. When the expectations or demands are too heavy, individuals may become stressed out. The key is to either reduce those expectations or to improve ones coping abilities.\n",
      "\n",
      "31: Housing and Home Supports\n",
      "Housing services help individuals find and keep places to stay. This is not an exhaustive list of resources and services, but highlights those which might be of interest to individuals with mental health issues.\n",
      "\n"
     ]
    }
   ],
   "source": [
    "# Generate ten random integers between 0 and 191\n",
    "random_ids = [random.randint(0, len(taxonomy.index)) for i in range(10)]\n",
    "search_terms = []\n",
    "for each in random_ids:\n",
    "    print(str(each) + ': ' + taxonomy.iloc[each]['name'] + '\\n' + taxonomy.iloc[each]['description'] + '\\n')\n",
    "    search_terms.append(taxonomy.iloc[each]['name'])"
   ]
  },
  {
   "attachments": {},
   "cell_type": "markdown",
   "metadata": {},
   "source": [
    "## Helper functions"
   ]
  },
  {
   "cell_type": "code",
   "execution_count": 107,
   "metadata": {},
   "outputs": [],
   "source": [
    "def get_highest_numbers_with_indices(numbers, n=10):\n",
    "    \"\"\"\n",
    "    Returns the n highest numbers in a list along with their indices.\n",
    "    :param numbers: List of numbers\n",
    "    :param n: Number of highest numbers to retrieve (default: 10)\n",
    "    :return: List of tuples containing the highest numbers and their indices\n",
    "    \"\"\"\n",
    "    highest_numbers_with_indices = []\n",
    "    for i, num in enumerate(numbers):\n",
    "        if len(highest_numbers_with_indices) < n:\n",
    "            highest_numbers_with_indices.append((num, i))\n",
    "            highest_numbers_with_indices.sort(reverse=True)\n",
    "        else:\n",
    "            if num > highest_numbers_with_indices[-1][0]:\n",
    "                highest_numbers_with_indices.pop()\n",
    "                highest_numbers_with_indices.append((num, i))\n",
    "                highest_numbers_with_indices.sort(reverse=True)\n",
    "    return highest_numbers_with_indices"
   ]
  },
  {
   "attachments": {},
   "cell_type": "markdown",
   "metadata": {},
   "source": [
    "## BERT"
   ]
  },
  {
   "cell_type": "code",
   "execution_count": 108,
   "metadata": {},
   "outputs": [
    {
     "name": "stderr",
     "output_type": "stream",
     "text": [
      "Some weights of the model checkpoint at AIMH/mental-bert-large-uncased were not used when initializing BertModel: ['cls.predictions.transform.dense.bias', 'cls.predictions.decoder.bias', 'cls.predictions.transform.dense.weight', 'cls.predictions.transform.LayerNorm.bias', 'cls.predictions.transform.LayerNorm.weight', 'cls.predictions.decoder.weight', 'cls.predictions.bias']\n",
      "- This IS expected if you are initializing BertModel from the checkpoint of a model trained on another task or with another architecture (e.g. initializing a BertForSequenceClassification model from a BertForPreTraining model).\n",
      "- This IS NOT expected if you are initializing BertModel from the checkpoint of a model that you expect to be exactly identical (initializing a BertForSequenceClassification model from a BertForSequenceClassification model).\n",
      "Some weights of BertModel were not initialized from the model checkpoint at AIMH/mental-bert-large-uncased and are newly initialized: ['bert.pooler.dense.bias', 'bert.pooler.dense.weight']\n",
      "You should probably TRAIN this model on a down-stream task to be able to use it for predictions and inference.\n"
     ]
    },
    {
     "data": {
      "text/plain": [
       "BertModel(\n",
       "  (embeddings): BertEmbeddings(\n",
       "    (word_embeddings): Embedding(30522, 1024, padding_idx=0)\n",
       "    (position_embeddings): Embedding(512, 1024)\n",
       "    (token_type_embeddings): Embedding(2, 1024)\n",
       "    (LayerNorm): LayerNorm((1024,), eps=1e-12, elementwise_affine=True)\n",
       "    (dropout): Dropout(p=0.1, inplace=False)\n",
       "  )\n",
       "  (encoder): BertEncoder(\n",
       "    (layer): ModuleList(\n",
       "      (0-23): 24 x BertLayer(\n",
       "        (attention): BertAttention(\n",
       "          (self): BertSelfAttention(\n",
       "            (query): Linear(in_features=1024, out_features=1024, bias=True)\n",
       "            (key): Linear(in_features=1024, out_features=1024, bias=True)\n",
       "            (value): Linear(in_features=1024, out_features=1024, bias=True)\n",
       "            (dropout): Dropout(p=0.1, inplace=False)\n",
       "          )\n",
       "          (output): BertSelfOutput(\n",
       "            (dense): Linear(in_features=1024, out_features=1024, bias=True)\n",
       "            (LayerNorm): LayerNorm((1024,), eps=1e-12, elementwise_affine=True)\n",
       "            (dropout): Dropout(p=0.1, inplace=False)\n",
       "          )\n",
       "        )\n",
       "        (intermediate): BertIntermediate(\n",
       "          (dense): Linear(in_features=1024, out_features=4096, bias=True)\n",
       "          (intermediate_act_fn): GELUActivation()\n",
       "        )\n",
       "        (output): BertOutput(\n",
       "          (dense): Linear(in_features=4096, out_features=1024, bias=True)\n",
       "          (LayerNorm): LayerNorm((1024,), eps=1e-12, elementwise_affine=True)\n",
       "          (dropout): Dropout(p=0.1, inplace=False)\n",
       "        )\n",
       "      )\n",
       "    )\n",
       "  )\n",
       "  (pooler): BertPooler(\n",
       "    (dense): Linear(in_features=1024, out_features=1024, bias=True)\n",
       "    (activation): Tanh()\n",
       "  )\n",
       ")"
      ]
     },
     "execution_count": 108,
     "metadata": {},
     "output_type": "execute_result"
    }
   ],
   "source": [
    "tokenizer = BertTokenizer.from_pretrained(\"AIMH/mental-bert-large-uncased\")\n",
    "model = BertModel.from_pretrained(\"AIMH/mental-bert-large-uncased\").to(device)\n",
    "model.eval()"
   ]
  },
  {
   "attachments": {},
   "cell_type": "markdown",
   "metadata": {},
   "source": [
    "### Generate embeddings for search terms"
   ]
  },
  {
   "cell_type": "code",
   "execution_count": 109,
   "metadata": {},
   "outputs": [],
   "source": [
    "tokenized_search_terms = tokenizer(search_terms, padding='max_length', max_length=512, truncation=True, return_tensors='pt').to(device)\n",
    "\n",
    "# Generate embeddings\n",
    "search_term_embeddings = []\n",
    "with torch.no_grad():\n",
    "    embedding = model(input_ids=tokenized_search_terms['input_ids'],\n",
    "                    attention_mask=tokenized_search_terms['attention_mask'],\n",
    "                    token_type_ids=tokenized_search_terms['token_type_ids'])\n",
    "    embedding = embedding.last_hidden_state.mean(dim=1).cpu()\n",
    "    \n",
    "search_term_embeddings = embedding.tolist()"
   ]
  },
  {
   "attachments": {},
   "cell_type": "markdown",
   "metadata": {},
   "source": [
    "### Load embeddings from file"
   ]
  },
  {
   "cell_type": "code",
   "execution_count": 110,
   "metadata": {},
   "outputs": [
    {
     "name": "stdout",
     "output_type": "stream",
     "text": [
      "torch.Size([326, 1024])\n"
     ]
    }
   ],
   "source": [
    "infoSheet_embeddings = torch.load('data/embeddings/bert_infoSheet_embeddings.pt')\n",
    "print(infoSheet_embeddings.shape)"
   ]
  },
  {
   "attachments": {},
   "cell_type": "markdown",
   "metadata": {},
   "source": [
    "### Prediction"
   ]
  },
  {
   "cell_type": "code",
   "execution_count": 111,
   "metadata": {},
   "outputs": [
    {
     "data": {
      "text/html": [
       "<div>\n",
       "<style scoped>\n",
       "    .dataframe tbody tr th:only-of-type {\n",
       "        vertical-align: middle;\n",
       "    }\n",
       "\n",
       "    .dataframe tbody tr th {\n",
       "        vertical-align: top;\n",
       "    }\n",
       "\n",
       "    .dataframe thead th {\n",
       "        text-align: right;\n",
       "    }\n",
       "</style>\n",
       "<table border=\"1\" class=\"dataframe\">\n",
       "  <thead>\n",
       "    <tr style=\"text-align: right;\">\n",
       "      <th></th>\n",
       "      <th>infoSheet_record</th>\n",
       "      <th>Similarity score</th>\n",
       "    </tr>\n",
       "  </thead>\n",
       "  <tbody>\n",
       "    <tr>\n",
       "      <th>0</th>\n",
       "      <td>(16, 261)</td>\n",
       "      <td>0.607367</td>\n",
       "    </tr>\n",
       "    <tr>\n",
       "      <th>1</th>\n",
       "      <td>(16, 90)</td>\n",
       "      <td>0.598938</td>\n",
       "    </tr>\n",
       "    <tr>\n",
       "      <th>2</th>\n",
       "      <td>(16, 282)</td>\n",
       "      <td>0.597900</td>\n",
       "    </tr>\n",
       "    <tr>\n",
       "      <th>3</th>\n",
       "      <td>(16, 291)</td>\n",
       "      <td>0.597271</td>\n",
       "    </tr>\n",
       "    <tr>\n",
       "      <th>4</th>\n",
       "      <td>(16, 76)</td>\n",
       "      <td>0.594278</td>\n",
       "    </tr>\n",
       "    <tr>\n",
       "      <th>5</th>\n",
       "      <td>(16, 235)</td>\n",
       "      <td>0.591113</td>\n",
       "    </tr>\n",
       "    <tr>\n",
       "      <th>6</th>\n",
       "      <td>(16, 3)</td>\n",
       "      <td>0.590063</td>\n",
       "    </tr>\n",
       "    <tr>\n",
       "      <th>7</th>\n",
       "      <td>(16, 286)</td>\n",
       "      <td>0.589014</td>\n",
       "    </tr>\n",
       "    <tr>\n",
       "      <th>8</th>\n",
       "      <td>(16, 288)</td>\n",
       "      <td>0.585920</td>\n",
       "    </tr>\n",
       "    <tr>\n",
       "      <th>9</th>\n",
       "      <td>(16, 22)</td>\n",
       "      <td>0.584367</td>\n",
       "    </tr>\n",
       "  </tbody>\n",
       "</table>\n",
       "</div>"
      ],
      "text/plain": [
       "  infoSheet_record  Similarity score\n",
       "0        (16, 261)          0.607367\n",
       "1         (16, 90)          0.598938\n",
       "2        (16, 282)          0.597900\n",
       "3        (16, 291)          0.597271\n",
       "4         (16, 76)          0.594278\n",
       "5        (16, 235)          0.591113\n",
       "6          (16, 3)          0.590063\n",
       "7        (16, 286)          0.589014\n",
       "8        (16, 288)          0.585920\n",
       "9         (16, 22)          0.584367"
      ]
     },
     "execution_count": 111,
     "metadata": {},
     "output_type": "execute_result"
    }
   ],
   "source": [
    "predictions = {'infoSheet_record': [], 'Similarity score': []}\n",
    "\n",
    "for idx in range(len(search_term_embeddings)):\n",
    "    # Records\n",
    "    cos_sim = []\n",
    "    for each in infoSheet_embeddings:\n",
    "        cos_sim.append(1 - cosine(search_term_embeddings[idx], each))\n",
    "\n",
    "    lst = get_highest_numbers_with_indices(cos_sim)\n",
    "\n",
    "    for id in lst:\n",
    "        # (taxonomy_id, infoSheet_id)\n",
    "        predictions['infoSheet_record'].append((random_ids[idx], id[1]))\n",
    "        predictions['Similarity score'].append(id[0])\n",
    "\n",
    "predictions = pd.DataFrame(predictions)\n",
    "predictions.head(10)"
   ]
  },
  {
   "attachments": {},
   "cell_type": "markdown",
   "metadata": {},
   "source": [
    "## Evaluation"
   ]
  },
  {
   "cell_type": "code",
   "execution_count": 112,
   "metadata": {},
   "outputs": [
    {
     "data": {
      "text/plain": [
       "17    0,75,50,9,36,54,37\n",
       "Name: taxonomy heading ids, dtype: object"
      ]
     },
     "execution_count": 112,
     "metadata": {},
     "output_type": "execute_result"
    }
   ],
   "source": [
    "infoSheet.loc[infoSheet.index == 17]['taxonomy heading ids']"
   ]
  },
  {
   "cell_type": "code",
   "execution_count": 114,
   "metadata": {},
   "outputs": [
    {
     "name": "stdout",
     "output_type": "stream",
     "text": [
      "Precision: 0.0\n"
     ]
    }
   ],
   "source": [
    "retrieved_relevant = 0\n",
    "\n",
    "for (pred_taxonomy_id, pred_infoSheet_id) in predictions['infoSheet_record'].to_list():\n",
    "    # get row from infoSheet using pred_infoSheet_id\n",
    "    taxonomy_ids = infoSheet.loc[infoSheet.index == pred_infoSheet_id]['taxonomy heading ids'].to_list()[0].split(',')\n",
    "    if pred_taxonomy_id in taxonomy_ids:\n",
    "        retrieved_relevant += 1\n",
    "\n",
    "print('Precision: ' + str(retrieved_relevant / len(predictions.index)))"
   ]
  }
 ],
 "metadata": {
  "kernelspec": {
   "display_name": "6900",
   "language": "python",
   "name": "python3"
  },
  "language_info": {
   "codemirror_mode": {
    "name": "ipython",
    "version": 3
   },
   "file_extension": ".py",
   "mimetype": "text/x-python",
   "name": "python",
   "nbconvert_exporter": "python",
   "pygments_lexer": "ipython3",
   "version": "3.10.11"
  },
  "orig_nbformat": 4
 },
 "nbformat": 4,
 "nbformat_minor": 2
}
